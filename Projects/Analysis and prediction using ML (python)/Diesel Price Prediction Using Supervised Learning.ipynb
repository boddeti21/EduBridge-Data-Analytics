{
 "cells": [
  {
   "cell_type": "markdown",
   "id": "d9264eb1",
   "metadata": {},
   "source": [
    "# Fuel Price In India\n",
    "\n",
    "- The data is daily diesel price across the various city in India. \n",
    "- The charge varies state to state has Indian state government levy extra tax on the fuel. \n",
    "- The government changed over time. The new fuel charge update rule came into effect.\n",
    "- The data consist of the date, fuel price and city name. \n",
    "- There are a total of seven cities, such as Bengaluru, Chennai, Mumbai, Hyderabad, Delhi, Kolkata and Coimbatore. \n",
    "- The fuel price is Indian rupees.\n",
    "- How to handle missing data in time-series data?\n",
    "- What is the price change with respect to a global price change?"
   ]
  },
  {
   "cell_type": "markdown",
   "id": "fe224110",
   "metadata": {},
   "source": [
    "## Import libraries"
   ]
  },
  {
   "cell_type": "code",
   "execution_count": 1,
   "id": "7d36e4f0",
   "metadata": {},
   "outputs": [],
   "source": [
    "import pandas as pd\n",
    "import numpy as np\n",
    "import matplotlib.pyplot as plt\n",
    "import seaborn as sns\n",
    "from sklearn.model_selection import train_test_split\n",
    "from sklearn.linear_model import LinearRegression\n",
    "from sklearn.metrics import mean_absolute_error\n",
    "import warnings\n",
    "warnings.filterwarnings('ignore')"
   ]
  },
  {
   "cell_type": "markdown",
   "id": "ce101fca",
   "metadata": {},
   "source": [
    "## Reading and viewing data"
   ]
  },
  {
   "cell_type": "code",
   "execution_count": 2,
   "id": "80a69791",
   "metadata": {},
   "outputs": [
    {
     "data": {
      "text/html": [
       "<div>\n",
       "<style scoped>\n",
       "    .dataframe tbody tr th:only-of-type {\n",
       "        vertical-align: middle;\n",
       "    }\n",
       "\n",
       "    .dataframe tbody tr th {\n",
       "        vertical-align: top;\n",
       "    }\n",
       "\n",
       "    .dataframe thead th {\n",
       "        text-align: right;\n",
       "    }\n",
       "</style>\n",
       "<table border=\"1\" class=\"dataframe\">\n",
       "  <thead>\n",
       "    <tr style=\"text-align: right;\">\n",
       "      <th></th>\n",
       "      <th>city</th>\n",
       "      <th>date</th>\n",
       "      <th>rate</th>\n",
       "      <th>state</th>\n",
       "    </tr>\n",
       "  </thead>\n",
       "  <tbody>\n",
       "    <tr>\n",
       "      <th>0</th>\n",
       "      <td>Agartala</td>\n",
       "      <td>2012-10-27</td>\n",
       "      <td>46.93</td>\n",
       "      <td>Tripura</td>\n",
       "    </tr>\n",
       "    <tr>\n",
       "      <th>1</th>\n",
       "      <td>Agartala</td>\n",
       "      <td>2013-01-18</td>\n",
       "      <td>47.45</td>\n",
       "      <td>Tripura</td>\n",
       "    </tr>\n",
       "    <tr>\n",
       "      <th>2</th>\n",
       "      <td>Agartala</td>\n",
       "      <td>2013-02-16</td>\n",
       "      <td>47.96</td>\n",
       "      <td>Tripura</td>\n",
       "    </tr>\n",
       "    <tr>\n",
       "      <th>3</th>\n",
       "      <td>Agartala</td>\n",
       "      <td>2013-03-23</td>\n",
       "      <td>47.46</td>\n",
       "      <td>Tripura</td>\n",
       "    </tr>\n",
       "    <tr>\n",
       "      <th>4</th>\n",
       "      <td>Agartala</td>\n",
       "      <td>2013-04-01</td>\n",
       "      <td>48.47</td>\n",
       "      <td>Tripura</td>\n",
       "    </tr>\n",
       "    <tr>\n",
       "      <th>...</th>\n",
       "      <td>...</td>\n",
       "      <td>...</td>\n",
       "      <td>...</td>\n",
       "      <td>...</td>\n",
       "    </tr>\n",
       "    <tr>\n",
       "      <th>17230</th>\n",
       "      <td>Varanasi</td>\n",
       "      <td>2020-12-27</td>\n",
       "      <td>74.84</td>\n",
       "      <td>Uttar Pradesh</td>\n",
       "    </tr>\n",
       "    <tr>\n",
       "      <th>17231</th>\n",
       "      <td>Varanasi</td>\n",
       "      <td>2020-12-28</td>\n",
       "      <td>74.84</td>\n",
       "      <td>Uttar Pradesh</td>\n",
       "    </tr>\n",
       "    <tr>\n",
       "      <th>17232</th>\n",
       "      <td>Varanasi</td>\n",
       "      <td>2020-12-29</td>\n",
       "      <td>74.84</td>\n",
       "      <td>Uttar Pradesh</td>\n",
       "    </tr>\n",
       "    <tr>\n",
       "      <th>17233</th>\n",
       "      <td>Varanasi</td>\n",
       "      <td>2020-12-30</td>\n",
       "      <td>74.84</td>\n",
       "      <td>Uttar Pradesh</td>\n",
       "    </tr>\n",
       "    <tr>\n",
       "      <th>17234</th>\n",
       "      <td>Varanasi</td>\n",
       "      <td>2020-12-31</td>\n",
       "      <td>74.84</td>\n",
       "      <td>Uttar Pradesh</td>\n",
       "    </tr>\n",
       "  </tbody>\n",
       "</table>\n",
       "<p>17235 rows × 4 columns</p>\n",
       "</div>"
      ],
      "text/plain": [
       "           city        date   rate          state\n",
       "0      Agartala  2012-10-27  46.93        Tripura\n",
       "1      Agartala  2013-01-18  47.45        Tripura\n",
       "2      Agartala  2013-02-16  47.96        Tripura\n",
       "3      Agartala  2013-03-23  47.46        Tripura\n",
       "4      Agartala  2013-04-01  48.47        Tripura\n",
       "...         ...         ...    ...            ...\n",
       "17230  Varanasi  2020-12-27  74.84  Uttar Pradesh\n",
       "17231  Varanasi  2020-12-28  74.84  Uttar Pradesh\n",
       "17232  Varanasi  2020-12-29  74.84  Uttar Pradesh\n",
       "17233  Varanasi  2020-12-30  74.84  Uttar Pradesh\n",
       "17234  Varanasi  2020-12-31  74.84  Uttar Pradesh\n",
       "\n",
       "[17235 rows x 4 columns]"
      ]
     },
     "execution_count": 2,
     "metadata": {},
     "output_type": "execute_result"
    }
   ],
   "source": [
    "d=pd.read_csv(\"diesel.csv\")\n",
    "d"
   ]
  },
  {
   "cell_type": "markdown",
   "id": "d3dd2f3f",
   "metadata": {},
   "source": [
    "## Print top 5 rows"
   ]
  },
  {
   "cell_type": "code",
   "execution_count": 3,
   "id": "05c59864",
   "metadata": {},
   "outputs": [
    {
     "data": {
      "text/html": [
       "<div>\n",
       "<style scoped>\n",
       "    .dataframe tbody tr th:only-of-type {\n",
       "        vertical-align: middle;\n",
       "    }\n",
       "\n",
       "    .dataframe tbody tr th {\n",
       "        vertical-align: top;\n",
       "    }\n",
       "\n",
       "    .dataframe thead th {\n",
       "        text-align: right;\n",
       "    }\n",
       "</style>\n",
       "<table border=\"1\" class=\"dataframe\">\n",
       "  <thead>\n",
       "    <tr style=\"text-align: right;\">\n",
       "      <th></th>\n",
       "      <th>city</th>\n",
       "      <th>date</th>\n",
       "      <th>rate</th>\n",
       "      <th>state</th>\n",
       "    </tr>\n",
       "  </thead>\n",
       "  <tbody>\n",
       "    <tr>\n",
       "      <th>0</th>\n",
       "      <td>Agartala</td>\n",
       "      <td>2012-10-27</td>\n",
       "      <td>46.93</td>\n",
       "      <td>Tripura</td>\n",
       "    </tr>\n",
       "    <tr>\n",
       "      <th>1</th>\n",
       "      <td>Agartala</td>\n",
       "      <td>2013-01-18</td>\n",
       "      <td>47.45</td>\n",
       "      <td>Tripura</td>\n",
       "    </tr>\n",
       "    <tr>\n",
       "      <th>2</th>\n",
       "      <td>Agartala</td>\n",
       "      <td>2013-02-16</td>\n",
       "      <td>47.96</td>\n",
       "      <td>Tripura</td>\n",
       "    </tr>\n",
       "    <tr>\n",
       "      <th>3</th>\n",
       "      <td>Agartala</td>\n",
       "      <td>2013-03-23</td>\n",
       "      <td>47.46</td>\n",
       "      <td>Tripura</td>\n",
       "    </tr>\n",
       "    <tr>\n",
       "      <th>4</th>\n",
       "      <td>Agartala</td>\n",
       "      <td>2013-04-01</td>\n",
       "      <td>48.47</td>\n",
       "      <td>Tripura</td>\n",
       "    </tr>\n",
       "  </tbody>\n",
       "</table>\n",
       "</div>"
      ],
      "text/plain": [
       "       city        date   rate    state\n",
       "0  Agartala  2012-10-27  46.93  Tripura\n",
       "1  Agartala  2013-01-18  47.45  Tripura\n",
       "2  Agartala  2013-02-16  47.96  Tripura\n",
       "3  Agartala  2013-03-23  47.46  Tripura\n",
       "4  Agartala  2013-04-01  48.47  Tripura"
      ]
     },
     "execution_count": 3,
     "metadata": {},
     "output_type": "execute_result"
    }
   ],
   "source": [
    "d.head()"
   ]
  },
  {
   "cell_type": "markdown",
   "id": "0d3c25db",
   "metadata": {},
   "source": [
    "## Bottom 5 rows"
   ]
  },
  {
   "cell_type": "code",
   "execution_count": 4,
   "id": "41d0a023",
   "metadata": {},
   "outputs": [
    {
     "data": {
      "text/html": [
       "<div>\n",
       "<style scoped>\n",
       "    .dataframe tbody tr th:only-of-type {\n",
       "        vertical-align: middle;\n",
       "    }\n",
       "\n",
       "    .dataframe tbody tr th {\n",
       "        vertical-align: top;\n",
       "    }\n",
       "\n",
       "    .dataframe thead th {\n",
       "        text-align: right;\n",
       "    }\n",
       "</style>\n",
       "<table border=\"1\" class=\"dataframe\">\n",
       "  <thead>\n",
       "    <tr style=\"text-align: right;\">\n",
       "      <th></th>\n",
       "      <th>city</th>\n",
       "      <th>date</th>\n",
       "      <th>rate</th>\n",
       "      <th>state</th>\n",
       "    </tr>\n",
       "  </thead>\n",
       "  <tbody>\n",
       "    <tr>\n",
       "      <th>17230</th>\n",
       "      <td>Varanasi</td>\n",
       "      <td>2020-12-27</td>\n",
       "      <td>74.84</td>\n",
       "      <td>Uttar Pradesh</td>\n",
       "    </tr>\n",
       "    <tr>\n",
       "      <th>17231</th>\n",
       "      <td>Varanasi</td>\n",
       "      <td>2020-12-28</td>\n",
       "      <td>74.84</td>\n",
       "      <td>Uttar Pradesh</td>\n",
       "    </tr>\n",
       "    <tr>\n",
       "      <th>17232</th>\n",
       "      <td>Varanasi</td>\n",
       "      <td>2020-12-29</td>\n",
       "      <td>74.84</td>\n",
       "      <td>Uttar Pradesh</td>\n",
       "    </tr>\n",
       "    <tr>\n",
       "      <th>17233</th>\n",
       "      <td>Varanasi</td>\n",
       "      <td>2020-12-30</td>\n",
       "      <td>74.84</td>\n",
       "      <td>Uttar Pradesh</td>\n",
       "    </tr>\n",
       "    <tr>\n",
       "      <th>17234</th>\n",
       "      <td>Varanasi</td>\n",
       "      <td>2020-12-31</td>\n",
       "      <td>74.84</td>\n",
       "      <td>Uttar Pradesh</td>\n",
       "    </tr>\n",
       "  </tbody>\n",
       "</table>\n",
       "</div>"
      ],
      "text/plain": [
       "           city        date   rate          state\n",
       "17230  Varanasi  2020-12-27  74.84  Uttar Pradesh\n",
       "17231  Varanasi  2020-12-28  74.84  Uttar Pradesh\n",
       "17232  Varanasi  2020-12-29  74.84  Uttar Pradesh\n",
       "17233  Varanasi  2020-12-30  74.84  Uttar Pradesh\n",
       "17234  Varanasi  2020-12-31  74.84  Uttar Pradesh"
      ]
     },
     "execution_count": 4,
     "metadata": {},
     "output_type": "execute_result"
    }
   ],
   "source": [
    "d.tail()"
   ]
  },
  {
   "cell_type": "markdown",
   "id": "7c01c10c",
   "metadata": {},
   "source": [
    "## Checking data types"
   ]
  },
  {
   "cell_type": "code",
   "execution_count": 5,
   "id": "3d67800b",
   "metadata": {},
   "outputs": [
    {
     "data": {
      "text/plain": [
       "city      object\n",
       "date      object\n",
       "rate     float64\n",
       "state     object\n",
       "dtype: object"
      ]
     },
     "execution_count": 5,
     "metadata": {},
     "output_type": "execute_result"
    }
   ],
   "source": [
    "d.dtypes"
   ]
  },
  {
   "cell_type": "markdown",
   "id": "a20cc6ba",
   "metadata": {},
   "source": [
    "## Changing the date format"
   ]
  },
  {
   "cell_type": "code",
   "execution_count": 6,
   "id": "bd91405f",
   "metadata": {},
   "outputs": [],
   "source": [
    "d['date']=pd.to_datetime(d['date'],format='%Y-%m-%d')"
   ]
  },
  {
   "cell_type": "code",
   "execution_count": 7,
   "id": "fdfdc09d",
   "metadata": {},
   "outputs": [
    {
     "data": {
      "text/plain": [
       "0       2012-10-27\n",
       "1       2013-01-18\n",
       "2       2013-02-16\n",
       "3       2013-03-23\n",
       "4       2013-04-01\n",
       "           ...    \n",
       "17230   2020-12-27\n",
       "17231   2020-12-28\n",
       "17232   2020-12-29\n",
       "17233   2020-12-30\n",
       "17234   2020-12-31\n",
       "Name: date, Length: 17235, dtype: datetime64[ns]"
      ]
     },
     "execution_count": 7,
     "metadata": {},
     "output_type": "execute_result"
    }
   ],
   "source": [
    "d['date']"
   ]
  },
  {
   "cell_type": "markdown",
   "id": "8cebfbb4",
   "metadata": {},
   "source": [
    "## Shape of the dataset"
   ]
  },
  {
   "cell_type": "code",
   "execution_count": 8,
   "id": "02143e0e",
   "metadata": {},
   "outputs": [
    {
     "data": {
      "text/plain": [
       "(17235, 4)"
      ]
     },
     "execution_count": 8,
     "metadata": {},
     "output_type": "execute_result"
    }
   ],
   "source": [
    "d.shape"
   ]
  },
  {
   "cell_type": "markdown",
   "id": "a1621bc2",
   "metadata": {},
   "source": [
    "## Number of dimensions"
   ]
  },
  {
   "cell_type": "code",
   "execution_count": 9,
   "id": "29c2d87d",
   "metadata": {},
   "outputs": [
    {
     "data": {
      "text/plain": [
       "2"
      ]
     },
     "execution_count": 9,
     "metadata": {},
     "output_type": "execute_result"
    }
   ],
   "source": [
    "d.ndim"
   ]
  },
  {
   "cell_type": "markdown",
   "id": "ff33e4b4",
   "metadata": {},
   "source": [
    "## Print index"
   ]
  },
  {
   "cell_type": "code",
   "execution_count": 10,
   "id": "b528bff3",
   "metadata": {},
   "outputs": [
    {
     "data": {
      "text/plain": [
       "RangeIndex(start=0, stop=17235, step=1)"
      ]
     },
     "execution_count": 10,
     "metadata": {},
     "output_type": "execute_result"
    }
   ],
   "source": [
    "d.index"
   ]
  },
  {
   "cell_type": "markdown",
   "id": "be9a558c",
   "metadata": {},
   "source": [
    "## Column names"
   ]
  },
  {
   "cell_type": "code",
   "execution_count": 11,
   "id": "35017308",
   "metadata": {},
   "outputs": [
    {
     "data": {
      "text/plain": [
       "Index(['city', 'date', 'rate', 'state'], dtype='object')"
      ]
     },
     "execution_count": 11,
     "metadata": {},
     "output_type": "execute_result"
    }
   ],
   "source": [
    "d.columns"
   ]
  },
  {
   "cell_type": "markdown",
   "id": "137981f5",
   "metadata": {},
   "source": [
    "## Information of the dataset"
   ]
  },
  {
   "cell_type": "code",
   "execution_count": 12,
   "id": "23b64ea4",
   "metadata": {},
   "outputs": [
    {
     "name": "stdout",
     "output_type": "stream",
     "text": [
      "<class 'pandas.core.frame.DataFrame'>\n",
      "RangeIndex: 17235 entries, 0 to 17234\n",
      "Data columns (total 4 columns):\n",
      " #   Column  Non-Null Count  Dtype         \n",
      "---  ------  --------------  -----         \n",
      " 0   city    17235 non-null  object        \n",
      " 1   date    17235 non-null  datetime64[ns]\n",
      " 2   rate    17235 non-null  float64       \n",
      " 3   state   17235 non-null  object        \n",
      "dtypes: datetime64[ns](1), float64(1), object(2)\n",
      "memory usage: 538.7+ KB\n"
     ]
    }
   ],
   "source": [
    "d.info()"
   ]
  },
  {
   "cell_type": "markdown",
   "id": "cf613d70",
   "metadata": {},
   "source": [
    "## Sum of missing values"
   ]
  },
  {
   "cell_type": "code",
   "execution_count": 13,
   "id": "5ec14bc9",
   "metadata": {},
   "outputs": [
    {
     "data": {
      "text/plain": [
       "city     0\n",
       "date     0\n",
       "rate     0\n",
       "state    0\n",
       "dtype: int64"
      ]
     },
     "execution_count": 13,
     "metadata": {},
     "output_type": "execute_result"
    }
   ],
   "source": [
    "d.isna().sum()"
   ]
  },
  {
   "cell_type": "markdown",
   "id": "02eb2587",
   "metadata": {},
   "source": [
    "## Number of unique values"
   ]
  },
  {
   "cell_type": "code",
   "execution_count": 14,
   "id": "53266342",
   "metadata": {},
   "outputs": [
    {
     "data": {
      "text/plain": [
       "city       19\n",
       "date     1197\n",
       "rate     3159\n",
       "state      14\n",
       "dtype: int64"
      ]
     },
     "execution_count": 14,
     "metadata": {},
     "output_type": "execute_result"
    }
   ],
   "source": [
    "d.nunique()"
   ]
  },
  {
   "cell_type": "markdown",
   "id": "d7ed9c21",
   "metadata": {},
   "source": [
    "## Print unique cities in city column"
   ]
  },
  {
   "cell_type": "code",
   "execution_count": 15,
   "id": "9fd7c6b2",
   "metadata": {},
   "outputs": [
    {
     "data": {
      "text/plain": [
       "array(['Agartala', 'Aizwal', 'Allahabad', 'Bengaluru', 'Chennai',\n",
       "       'Coimbatore', 'Delhi', 'Dimapur', 'Haridwar', 'Hyderabad',\n",
       "       'Karaikal', 'Kolkata', 'Madurai', 'Meerut', 'Mumbai', 'Nizamabad',\n",
       "       'Pondicherry', 'Shillong', 'Varanasi'], dtype=object)"
      ]
     },
     "execution_count": 15,
     "metadata": {},
     "output_type": "execute_result"
    }
   ],
   "source": [
    "d.city.unique()"
   ]
  },
  {
   "cell_type": "markdown",
   "id": "52462d74",
   "metadata": {},
   "source": [
    "## Print states in the data set"
   ]
  },
  {
   "cell_type": "code",
   "execution_count": 16,
   "id": "8627e3fb",
   "metadata": {},
   "outputs": [
    {
     "data": {
      "text/plain": [
       "array(['Tripura', 'Mizoram', 'Uttar Pradesh', 'Karnataka', 'Tamil Nadu',\n",
       "       'Delhi', 'Nagaland', 'Uttarakhand', 'Telangana', 'Puducherry',\n",
       "       'West Bengal', 'Maharashtra', 'Pondicherry', 'Meghalaya'],\n",
       "      dtype=object)"
      ]
     },
     "execution_count": 16,
     "metadata": {},
     "output_type": "execute_result"
    }
   ],
   "source": [
    "d.state.unique()"
   ]
  },
  {
   "cell_type": "markdown",
   "id": "d715bf99",
   "metadata": {},
   "source": [
    "## Print statistical informations"
   ]
  },
  {
   "cell_type": "code",
   "execution_count": 17,
   "id": "e35f8a47",
   "metadata": {},
   "outputs": [
    {
     "data": {
      "text/html": [
       "<div>\n",
       "<style scoped>\n",
       "    .dataframe tbody tr th:only-of-type {\n",
       "        vertical-align: middle;\n",
       "    }\n",
       "\n",
       "    .dataframe tbody tr th {\n",
       "        vertical-align: top;\n",
       "    }\n",
       "\n",
       "    .dataframe thead th {\n",
       "        text-align: right;\n",
       "    }\n",
       "</style>\n",
       "<table border=\"1\" class=\"dataframe\">\n",
       "  <thead>\n",
       "    <tr style=\"text-align: right;\">\n",
       "      <th></th>\n",
       "      <th>rate</th>\n",
       "    </tr>\n",
       "  </thead>\n",
       "  <tbody>\n",
       "    <tr>\n",
       "      <th>count</th>\n",
       "      <td>17235.000000</td>\n",
       "    </tr>\n",
       "    <tr>\n",
       "      <th>mean</th>\n",
       "      <td>67.010356</td>\n",
       "    </tr>\n",
       "    <tr>\n",
       "      <th>std</th>\n",
       "      <td>8.460510</td>\n",
       "    </tr>\n",
       "    <tr>\n",
       "      <th>min</th>\n",
       "      <td>18.050000</td>\n",
       "    </tr>\n",
       "    <tr>\n",
       "      <th>25%</th>\n",
       "      <td>63.170000</td>\n",
       "    </tr>\n",
       "    <tr>\n",
       "      <th>50%</th>\n",
       "      <td>67.980000</td>\n",
       "    </tr>\n",
       "    <tr>\n",
       "      <th>75%</th>\n",
       "      <td>72.270000</td>\n",
       "    </tr>\n",
       "    <tr>\n",
       "      <th>max</th>\n",
       "      <td>83.360000</td>\n",
       "    </tr>\n",
       "  </tbody>\n",
       "</table>\n",
       "</div>"
      ],
      "text/plain": [
       "               rate\n",
       "count  17235.000000\n",
       "mean      67.010356\n",
       "std        8.460510\n",
       "min       18.050000\n",
       "25%       63.170000\n",
       "50%       67.980000\n",
       "75%       72.270000\n",
       "max       83.360000"
      ]
     },
     "execution_count": 17,
     "metadata": {},
     "output_type": "execute_result"
    }
   ],
   "source": [
    "d.describe()"
   ]
  },
  {
   "cell_type": "markdown",
   "id": "05359c40",
   "metadata": {},
   "source": [
    "## All statistical information including null values"
   ]
  },
  {
   "cell_type": "code",
   "execution_count": 18,
   "id": "f7aeb059",
   "metadata": {},
   "outputs": [
    {
     "data": {
      "text/html": [
       "<div>\n",
       "<style scoped>\n",
       "    .dataframe tbody tr th:only-of-type {\n",
       "        vertical-align: middle;\n",
       "    }\n",
       "\n",
       "    .dataframe tbody tr th {\n",
       "        vertical-align: top;\n",
       "    }\n",
       "\n",
       "    .dataframe thead th {\n",
       "        text-align: right;\n",
       "    }\n",
       "</style>\n",
       "<table border=\"1\" class=\"dataframe\">\n",
       "  <thead>\n",
       "    <tr style=\"text-align: right;\">\n",
       "      <th></th>\n",
       "      <th>city</th>\n",
       "      <th>date</th>\n",
       "      <th>rate</th>\n",
       "      <th>state</th>\n",
       "    </tr>\n",
       "  </thead>\n",
       "  <tbody>\n",
       "    <tr>\n",
       "      <th>count</th>\n",
       "      <td>17235</td>\n",
       "      <td>17235</td>\n",
       "      <td>17235.000000</td>\n",
       "      <td>17235</td>\n",
       "    </tr>\n",
       "    <tr>\n",
       "      <th>unique</th>\n",
       "      <td>19</td>\n",
       "      <td>1197</td>\n",
       "      <td>NaN</td>\n",
       "      <td>14</td>\n",
       "    </tr>\n",
       "    <tr>\n",
       "      <th>top</th>\n",
       "      <td>Chennai</td>\n",
       "      <td>2019-06-07 00:00:00</td>\n",
       "      <td>NaN</td>\n",
       "      <td>Tamil Nadu</td>\n",
       "    </tr>\n",
       "    <tr>\n",
       "      <th>freq</th>\n",
       "      <td>1189</td>\n",
       "      <td>31</td>\n",
       "      <td>NaN</td>\n",
       "      <td>2974</td>\n",
       "    </tr>\n",
       "    <tr>\n",
       "      <th>first</th>\n",
       "      <td>NaN</td>\n",
       "      <td>2002-06-16 00:00:00</td>\n",
       "      <td>NaN</td>\n",
       "      <td>NaN</td>\n",
       "    </tr>\n",
       "    <tr>\n",
       "      <th>last</th>\n",
       "      <td>NaN</td>\n",
       "      <td>2020-12-31 00:00:00</td>\n",
       "      <td>NaN</td>\n",
       "      <td>NaN</td>\n",
       "    </tr>\n",
       "    <tr>\n",
       "      <th>mean</th>\n",
       "      <td>NaN</td>\n",
       "      <td>NaN</td>\n",
       "      <td>67.010356</td>\n",
       "      <td>NaN</td>\n",
       "    </tr>\n",
       "    <tr>\n",
       "      <th>std</th>\n",
       "      <td>NaN</td>\n",
       "      <td>NaN</td>\n",
       "      <td>8.460510</td>\n",
       "      <td>NaN</td>\n",
       "    </tr>\n",
       "    <tr>\n",
       "      <th>min</th>\n",
       "      <td>NaN</td>\n",
       "      <td>NaN</td>\n",
       "      <td>18.050000</td>\n",
       "      <td>NaN</td>\n",
       "    </tr>\n",
       "    <tr>\n",
       "      <th>25%</th>\n",
       "      <td>NaN</td>\n",
       "      <td>NaN</td>\n",
       "      <td>63.170000</td>\n",
       "      <td>NaN</td>\n",
       "    </tr>\n",
       "    <tr>\n",
       "      <th>50%</th>\n",
       "      <td>NaN</td>\n",
       "      <td>NaN</td>\n",
       "      <td>67.980000</td>\n",
       "      <td>NaN</td>\n",
       "    </tr>\n",
       "    <tr>\n",
       "      <th>75%</th>\n",
       "      <td>NaN</td>\n",
       "      <td>NaN</td>\n",
       "      <td>72.270000</td>\n",
       "      <td>NaN</td>\n",
       "    </tr>\n",
       "    <tr>\n",
       "      <th>max</th>\n",
       "      <td>NaN</td>\n",
       "      <td>NaN</td>\n",
       "      <td>83.360000</td>\n",
       "      <td>NaN</td>\n",
       "    </tr>\n",
       "  </tbody>\n",
       "</table>\n",
       "</div>"
      ],
      "text/plain": [
       "           city                 date          rate       state\n",
       "count     17235                17235  17235.000000       17235\n",
       "unique       19                 1197           NaN          14\n",
       "top     Chennai  2019-06-07 00:00:00           NaN  Tamil Nadu\n",
       "freq       1189                   31           NaN        2974\n",
       "first       NaN  2002-06-16 00:00:00           NaN         NaN\n",
       "last        NaN  2020-12-31 00:00:00           NaN         NaN\n",
       "mean        NaN                  NaN     67.010356         NaN\n",
       "std         NaN                  NaN      8.460510         NaN\n",
       "min         NaN                  NaN     18.050000         NaN\n",
       "25%         NaN                  NaN     63.170000         NaN\n",
       "50%         NaN                  NaN     67.980000         NaN\n",
       "75%         NaN                  NaN     72.270000         NaN\n",
       "max         NaN                  NaN     83.360000         NaN"
      ]
     },
     "execution_count": 18,
     "metadata": {},
     "output_type": "execute_result"
    }
   ],
   "source": [
    "d.describe(include=\"all\")"
   ]
  },
  {
   "cell_type": "markdown",
   "id": "6aefe736",
   "metadata": {},
   "source": [
    "## Check for duplicated values"
   ]
  },
  {
   "cell_type": "code",
   "execution_count": 19,
   "id": "6e587370",
   "metadata": {},
   "outputs": [
    {
     "data": {
      "text/plain": [
       "0        False\n",
       "1        False\n",
       "2        False\n",
       "3        False\n",
       "4        False\n",
       "         ...  \n",
       "17230    False\n",
       "17231    False\n",
       "17232    False\n",
       "17233    False\n",
       "17234    False\n",
       "Length: 17235, dtype: bool"
      ]
     },
     "execution_count": 19,
     "metadata": {},
     "output_type": "execute_result"
    }
   ],
   "source": [
    "d.duplicated()"
   ]
  },
  {
   "cell_type": "markdown",
   "id": "f34a2d6c",
   "metadata": {},
   "source": [
    "## Sum of duplicated values"
   ]
  },
  {
   "cell_type": "code",
   "execution_count": 20,
   "id": "db7e01e9",
   "metadata": {},
   "outputs": [
    {
     "data": {
      "text/plain": [
       "300"
      ]
     },
     "execution_count": 20,
     "metadata": {},
     "output_type": "execute_result"
    }
   ],
   "source": [
    "d.duplicated().sum()"
   ]
  },
  {
   "cell_type": "markdown",
   "id": "0ae8067a",
   "metadata": {},
   "source": [
    "## Dropping duplicated values"
   ]
  },
  {
   "cell_type": "code",
   "execution_count": 21,
   "id": "b20f16be",
   "metadata": {},
   "outputs": [],
   "source": [
    "d.drop_duplicates(subset=None, inplace=True)"
   ]
  },
  {
   "cell_type": "code",
   "execution_count": 22,
   "id": "82e05062",
   "metadata": {},
   "outputs": [
    {
     "data": {
      "text/plain": [
       "0"
      ]
     },
     "execution_count": 22,
     "metadata": {},
     "output_type": "execute_result"
    }
   ],
   "source": [
    "d.duplicated().sum()"
   ]
  },
  {
   "cell_type": "markdown",
   "id": "c711bee3",
   "metadata": {},
   "source": [
    "## Extracting year from date and creating a column for the same"
   ]
  },
  {
   "cell_type": "code",
   "execution_count": 23,
   "id": "b14fe0e9",
   "metadata": {},
   "outputs": [
    {
     "data": {
      "text/html": [
       "<div>\n",
       "<style scoped>\n",
       "    .dataframe tbody tr th:only-of-type {\n",
       "        vertical-align: middle;\n",
       "    }\n",
       "\n",
       "    .dataframe tbody tr th {\n",
       "        vertical-align: top;\n",
       "    }\n",
       "\n",
       "    .dataframe thead th {\n",
       "        text-align: right;\n",
       "    }\n",
       "</style>\n",
       "<table border=\"1\" class=\"dataframe\">\n",
       "  <thead>\n",
       "    <tr style=\"text-align: right;\">\n",
       "      <th></th>\n",
       "      <th>city</th>\n",
       "      <th>date</th>\n",
       "      <th>rate</th>\n",
       "      <th>state</th>\n",
       "      <th>year</th>\n",
       "    </tr>\n",
       "  </thead>\n",
       "  <tbody>\n",
       "    <tr>\n",
       "      <th>0</th>\n",
       "      <td>Agartala</td>\n",
       "      <td>2012-10-27</td>\n",
       "      <td>46.93</td>\n",
       "      <td>Tripura</td>\n",
       "      <td>2012</td>\n",
       "    </tr>\n",
       "    <tr>\n",
       "      <th>1</th>\n",
       "      <td>Agartala</td>\n",
       "      <td>2013-01-18</td>\n",
       "      <td>47.45</td>\n",
       "      <td>Tripura</td>\n",
       "      <td>2013</td>\n",
       "    </tr>\n",
       "    <tr>\n",
       "      <th>2</th>\n",
       "      <td>Agartala</td>\n",
       "      <td>2013-02-16</td>\n",
       "      <td>47.96</td>\n",
       "      <td>Tripura</td>\n",
       "      <td>2013</td>\n",
       "    </tr>\n",
       "    <tr>\n",
       "      <th>3</th>\n",
       "      <td>Agartala</td>\n",
       "      <td>2013-03-23</td>\n",
       "      <td>47.46</td>\n",
       "      <td>Tripura</td>\n",
       "      <td>2013</td>\n",
       "    </tr>\n",
       "    <tr>\n",
       "      <th>4</th>\n",
       "      <td>Agartala</td>\n",
       "      <td>2013-04-01</td>\n",
       "      <td>48.47</td>\n",
       "      <td>Tripura</td>\n",
       "      <td>2013</td>\n",
       "    </tr>\n",
       "    <tr>\n",
       "      <th>...</th>\n",
       "      <td>...</td>\n",
       "      <td>...</td>\n",
       "      <td>...</td>\n",
       "      <td>...</td>\n",
       "      <td>...</td>\n",
       "    </tr>\n",
       "    <tr>\n",
       "      <th>17230</th>\n",
       "      <td>Varanasi</td>\n",
       "      <td>2020-12-27</td>\n",
       "      <td>74.84</td>\n",
       "      <td>Uttar Pradesh</td>\n",
       "      <td>2020</td>\n",
       "    </tr>\n",
       "    <tr>\n",
       "      <th>17231</th>\n",
       "      <td>Varanasi</td>\n",
       "      <td>2020-12-28</td>\n",
       "      <td>74.84</td>\n",
       "      <td>Uttar Pradesh</td>\n",
       "      <td>2020</td>\n",
       "    </tr>\n",
       "    <tr>\n",
       "      <th>17232</th>\n",
       "      <td>Varanasi</td>\n",
       "      <td>2020-12-29</td>\n",
       "      <td>74.84</td>\n",
       "      <td>Uttar Pradesh</td>\n",
       "      <td>2020</td>\n",
       "    </tr>\n",
       "    <tr>\n",
       "      <th>17233</th>\n",
       "      <td>Varanasi</td>\n",
       "      <td>2020-12-30</td>\n",
       "      <td>74.84</td>\n",
       "      <td>Uttar Pradesh</td>\n",
       "      <td>2020</td>\n",
       "    </tr>\n",
       "    <tr>\n",
       "      <th>17234</th>\n",
       "      <td>Varanasi</td>\n",
       "      <td>2020-12-31</td>\n",
       "      <td>74.84</td>\n",
       "      <td>Uttar Pradesh</td>\n",
       "      <td>2020</td>\n",
       "    </tr>\n",
       "  </tbody>\n",
       "</table>\n",
       "<p>16935 rows × 5 columns</p>\n",
       "</div>"
      ],
      "text/plain": [
       "           city       date   rate          state  year\n",
       "0      Agartala 2012-10-27  46.93        Tripura  2012\n",
       "1      Agartala 2013-01-18  47.45        Tripura  2013\n",
       "2      Agartala 2013-02-16  47.96        Tripura  2013\n",
       "3      Agartala 2013-03-23  47.46        Tripura  2013\n",
       "4      Agartala 2013-04-01  48.47        Tripura  2013\n",
       "...         ...        ...    ...            ...   ...\n",
       "17230  Varanasi 2020-12-27  74.84  Uttar Pradesh  2020\n",
       "17231  Varanasi 2020-12-28  74.84  Uttar Pradesh  2020\n",
       "17232  Varanasi 2020-12-29  74.84  Uttar Pradesh  2020\n",
       "17233  Varanasi 2020-12-30  74.84  Uttar Pradesh  2020\n",
       "17234  Varanasi 2020-12-31  74.84  Uttar Pradesh  2020\n",
       "\n",
       "[16935 rows x 5 columns]"
      ]
     },
     "execution_count": 23,
     "metadata": {},
     "output_type": "execute_result"
    }
   ],
   "source": [
    "d[\"year\"]=pd.DatetimeIndex(d[\"date\"]).year\n",
    "d"
   ]
  },
  {
   "cell_type": "markdown",
   "id": "7dad4156",
   "metadata": {},
   "source": [
    "## Number of times each states are appearing in the dataset"
   ]
  },
  {
   "cell_type": "code",
   "execution_count": 24,
   "id": "23e7f12c",
   "metadata": {},
   "outputs": [
    {
     "data": {
      "text/plain": [
       "Tamil Nadu       2928\n",
       "Uttar Pradesh    2378\n",
       "Telangana        1849\n",
       "Maharashtra      1171\n",
       "Delhi            1170\n",
       "West Bengal      1158\n",
       "Karnataka        1111\n",
       "Pondicherry       938\n",
       "Meghalaya         936\n",
       "Mizoram           932\n",
       "Tripura           815\n",
       "Nagaland          793\n",
       "Uttarakhand       378\n",
       "Puducherry        378\n",
       "Name: state, dtype: int64"
      ]
     },
     "execution_count": 24,
     "metadata": {},
     "output_type": "execute_result"
    }
   ],
   "source": [
    "d.state.value_counts()"
   ]
  },
  {
   "cell_type": "markdown",
   "id": "490b652f",
   "metadata": {},
   "source": [
    "## In this dataset,Tamilnadu is comming more frequently,and then Uttar Pradesh."
   ]
  },
  {
   "cell_type": "code",
   "execution_count": 25,
   "id": "d5dfa715",
   "metadata": {},
   "outputs": [
    {
     "data": {
      "image/png": "[encoded data removed]",
      "text/plain": [
       "<Figure size 720x360 with 1 Axes>"
      ]
     },
     "metadata": {
      "needs_background": "light"
     },
     "output_type": "display_data"
    }
   ],
   "source": [
    "plt.figure(figsize=(10,5))\n",
    "sns.countplot(d[\"state\"],palette='Set1')\n",
    "plt.xticks(rotation=90)\n",
    "plt.show()"
   ]
  },
  {
   "cell_type": "markdown",
   "id": "15673fa9",
   "metadata": {},
   "source": [
    "## Number of times each cities appear in the dataset"
   ]
  },
  {
   "cell_type": "code",
   "execution_count": 26,
   "id": "532c6e26",
   "metadata": {},
   "outputs": [
    {
     "data": {
      "text/plain": [
       "Chennai        1171\n",
       "Mumbai         1171\n",
       "Delhi          1170\n",
       "Kolkata        1158\n",
       "Hyderabad      1115\n",
       "Bengaluru      1111\n",
       "Coimbatore      963\n",
       "Pondicherry     938\n",
       "Shillong        936\n",
       "Aizwal          932\n",
       "Agartala        815\n",
       "Madurai         794\n",
       "Meerut          794\n",
       "Varanasi        794\n",
       "Dimapur         793\n",
       "Allahabad       790\n",
       "Nizamabad       734\n",
       "Karaikal        378\n",
       "Haridwar        378\n",
       "Name: city, dtype: int64"
      ]
     },
     "execution_count": 26,
     "metadata": {},
     "output_type": "execute_result"
    }
   ],
   "source": [
    "d.city.value_counts()"
   ]
  },
  {
   "cell_type": "markdown",
   "id": "6c3c7291",
   "metadata": {},
   "source": [
    "## Count plot for the number of times each cities appear in the data\n",
    "\n",
    "- On the basis of city,Chennai and Mumbai are comming more frequntly,then Delhi is in the next position."
   ]
  },
  {
   "cell_type": "code",
   "execution_count": 27,
   "id": "8def00dc",
   "metadata": {},
   "outputs": [
    {
     "data": {
      "image/png": "[encoded data removed]",
      "text/plain": [
       "<Figure size 1080x360 with 1 Axes>"
      ]
     },
     "metadata": {
      "needs_background": "light"
     },
     "output_type": "display_data"
    }
   ],
   "source": [
    "plt.figure(figsize=(15,5))\n",
    "sns.countplot(d[\"city\"])\n",
    "plt.xticks(rotation=90)\n",
    "plt.show()"
   ]
  },
  {
   "cell_type": "markdown",
   "id": "9e0a56f2",
   "metadata": {},
   "source": [
    "## Peak diesel price per day"
   ]
  },
  {
   "cell_type": "code",
   "execution_count": 28,
   "id": "dec1d944",
   "metadata": {},
   "outputs": [
    {
     "data": {
      "text/html": [
       "<div>\n",
       "<style scoped>\n",
       "    .dataframe tbody tr th:only-of-type {\n",
       "        vertical-align: middle;\n",
       "    }\n",
       "\n",
       "    .dataframe tbody tr th {\n",
       "        vertical-align: top;\n",
       "    }\n",
       "\n",
       "    .dataframe thead th {\n",
       "        text-align: right;\n",
       "    }\n",
       "</style>\n",
       "<table border=\"1\" class=\"dataframe\">\n",
       "  <thead>\n",
       "    <tr style=\"text-align: right;\">\n",
       "      <th></th>\n",
       "      <th>city</th>\n",
       "      <th>date</th>\n",
       "      <th>rate</th>\n",
       "      <th>state</th>\n",
       "      <th>year</th>\n",
       "    </tr>\n",
       "  </thead>\n",
       "  <tbody>\n",
       "    <tr>\n",
       "      <th>13949</th>\n",
       "      <td>Nizamabad</td>\n",
       "      <td>2018-10-16</td>\n",
       "      <td>83.36</td>\n",
       "      <td>Telangana</td>\n",
       "      <td>2018</td>\n",
       "    </tr>\n",
       "    <tr>\n",
       "      <th>13950</th>\n",
       "      <td>Nizamabad</td>\n",
       "      <td>2018-10-18</td>\n",
       "      <td>83.24</td>\n",
       "      <td>Telangana</td>\n",
       "      <td>2018</td>\n",
       "    </tr>\n",
       "    <tr>\n",
       "      <th>13951</th>\n",
       "      <td>Nizamabad</td>\n",
       "      <td>2018-10-19</td>\n",
       "      <td>83.13</td>\n",
       "      <td>Telangana</td>\n",
       "      <td>2018</td>\n",
       "    </tr>\n",
       "    <tr>\n",
       "      <th>13948</th>\n",
       "      <td>Nizamabad</td>\n",
       "      <td>2018-10-15</td>\n",
       "      <td>83.11</td>\n",
       "      <td>Telangana</td>\n",
       "      <td>2018</td>\n",
       "    </tr>\n",
       "    <tr>\n",
       "      <th>13937</th>\n",
       "      <td>Nizamabad</td>\n",
       "      <td>2018-10-04</td>\n",
       "      <td>83.10</td>\n",
       "      <td>Telangana</td>\n",
       "      <td>2018</td>\n",
       "    </tr>\n",
       "  </tbody>\n",
       "</table>\n",
       "</div>"
      ],
      "text/plain": [
       "            city       date   rate      state  year\n",
       "13949  Nizamabad 2018-10-16  83.36  Telangana  2018\n",
       "13950  Nizamabad 2018-10-18  83.24  Telangana  2018\n",
       "13951  Nizamabad 2018-10-19  83.13  Telangana  2018\n",
       "13948  Nizamabad 2018-10-15  83.11  Telangana  2018\n",
       "13937  Nizamabad 2018-10-04  83.10  Telangana  2018"
      ]
     },
     "execution_count": 28,
     "metadata": {},
     "output_type": "execute_result"
    }
   ],
   "source": [
    "day_rateP=d.sort_values('rate',ascending=False)\n",
    "day_rateP.head()"
   ]
  },
  {
   "cell_type": "markdown",
   "id": "f7d050b1",
   "metadata": {},
   "source": [
    "## Bar plot for peak diesel price\n",
    "\n",
    "- Telangana(Nizamabad) has the highest diesel rate."
   ]
  },
  {
   "cell_type": "code",
   "execution_count": 29,
   "id": "57a609e7",
   "metadata": {},
   "outputs": [
    {
     "data": {
      "image/png": "[encoded data removed]",
      "text/plain": [
       "<Figure size 1224x216 with 1 Axes>"
      ]
     },
     "metadata": {
      "needs_background": "light"
     },
     "output_type": "display_data"
    }
   ],
   "source": [
    "plt.figure(figsize=(17,3))\n",
    "plt.bar(d['state'],d['rate'],color='forestgreen')\n",
    "plt.title('Peak Diesel rates',fontsize=15,color='green')\n",
    "plt.xlabel(\"State\",fontsize=10,color='black')\n",
    "plt.xticks(rotation=90)\n",
    "plt.ylabel(\"Rate\",fontsize=10,color='black')\n",
    "plt.show()"
   ]
  },
  {
   "cell_type": "markdown",
   "id": "da1e4b8c",
   "metadata": {},
   "source": [
    "## Lowest diesel price per day"
   ]
  },
  {
   "cell_type": "code",
   "execution_count": 30,
   "id": "881b5e1c",
   "metadata": {},
   "outputs": [
    {
     "data": {
      "text/html": [
       "<div>\n",
       "<style scoped>\n",
       "    .dataframe tbody tr th:only-of-type {\n",
       "        vertical-align: middle;\n",
       "    }\n",
       "\n",
       "    .dataframe tbody tr th {\n",
       "        vertical-align: top;\n",
       "    }\n",
       "\n",
       "    .dataframe thead th {\n",
       "        text-align: right;\n",
       "    }\n",
       "</style>\n",
       "<table border=\"1\" class=\"dataframe\">\n",
       "  <thead>\n",
       "    <tr style=\"text-align: right;\">\n",
       "      <th></th>\n",
       "      <th>rate</th>\n",
       "    </tr>\n",
       "    <tr>\n",
       "      <th>state</th>\n",
       "      <th></th>\n",
       "    </tr>\n",
       "  </thead>\n",
       "  <tbody>\n",
       "    <tr>\n",
       "      <th>Delhi</th>\n",
       "      <td>18.05</td>\n",
       "    </tr>\n",
       "    <tr>\n",
       "      <th>Karnataka</th>\n",
       "      <td>44.98</td>\n",
       "    </tr>\n",
       "    <tr>\n",
       "      <th>Maharashtra</th>\n",
       "      <td>22.95</td>\n",
       "    </tr>\n",
       "    <tr>\n",
       "      <th>Meghalaya</th>\n",
       "      <td>43.74</td>\n",
       "    </tr>\n",
       "    <tr>\n",
       "      <th>Mizoram</th>\n",
       "      <td>42.02</td>\n",
       "    </tr>\n",
       "    <tr>\n",
       "      <th>Nagaland</th>\n",
       "      <td>46.02</td>\n",
       "    </tr>\n",
       "    <tr>\n",
       "      <th>Pondicherry</th>\n",
       "      <td>44.66</td>\n",
       "    </tr>\n",
       "    <tr>\n",
       "      <th>Puducherry</th>\n",
       "      <td>47.91</td>\n",
       "    </tr>\n",
       "    <tr>\n",
       "      <th>Tamil Nadu</th>\n",
       "      <td>19.83</td>\n",
       "    </tr>\n",
       "    <tr>\n",
       "      <th>Telangana</th>\n",
       "      <td>44.94</td>\n",
       "    </tr>\n",
       "    <tr>\n",
       "      <th>Tripura</th>\n",
       "      <td>42.33</td>\n",
       "    </tr>\n",
       "    <tr>\n",
       "      <th>Uttar Pradesh</th>\n",
       "      <td>48.46</td>\n",
       "    </tr>\n",
       "    <tr>\n",
       "      <th>Uttarakhand</th>\n",
       "      <td>48.77</td>\n",
       "    </tr>\n",
       "    <tr>\n",
       "      <th>West Bengal</th>\n",
       "      <td>18.43</td>\n",
       "    </tr>\n",
       "  </tbody>\n",
       "</table>\n",
       "</div>"
      ],
      "text/plain": [
       "                rate\n",
       "state               \n",
       "Delhi          18.05\n",
       "Karnataka      44.98\n",
       "Maharashtra    22.95\n",
       "Meghalaya      43.74\n",
       "Mizoram        42.02\n",
       "Nagaland       46.02\n",
       "Pondicherry    44.66\n",
       "Puducherry     47.91\n",
       "Tamil Nadu     19.83\n",
       "Telangana      44.94\n",
       "Tripura        42.33\n",
       "Uttar Pradesh  48.46\n",
       "Uttarakhand    48.77\n",
       "West Bengal    18.43"
      ]
     },
     "execution_count": 30,
     "metadata": {},
     "output_type": "execute_result"
    }
   ],
   "source": [
    "lowest_rate=d.groupby(['state']).agg({\"rate\":\"min\"})                                                                                   \n",
    "lowest_rate"
   ]
  },
  {
   "cell_type": "markdown",
   "id": "285fd31e",
   "metadata": {},
   "source": [
    "## Bar plot for lowest diesel rates\n",
    "\n",
    "- Delhi has the lowest diesel rate."
   ]
  },
  {
   "cell_type": "code",
   "execution_count": 31,
   "id": "8c9f4eaa",
   "metadata": {},
   "outputs": [
    {
     "data": {
      "image/png": "[encoded data removed]",
      "text/plain": [
       "<Figure size 1080x216 with 1 Axes>"
      ]
     },
     "metadata": {
      "needs_background": "light"
     },
     "output_type": "display_data"
    }
   ],
   "source": [
    "plt.figure(figsize=(15,3))\n",
    "plt.bar(lowest_rate.index,lowest_rate['rate'],color='crimson')\n",
    "plt.title('Lowest Diesel Rates',fontsize=15,color='green')\n",
    "plt.xlabel(\"State\",fontsize=10,color='black')\n",
    "plt.xticks(rotation=90)\n",
    "plt.ylabel(\"Rate\",fontsize=10,color='black')\n",
    "plt.show()"
   ]
  },
  {
   "cell_type": "markdown",
   "id": "0853da80",
   "metadata": {},
   "source": [
    "## Groupby state and city and maximum of rate"
   ]
  },
  {
   "cell_type": "code",
   "execution_count": 32,
   "id": "4cab6e03",
   "metadata": {},
   "outputs": [
    {
     "data": {
      "text/html": [
       "<div>\n",
       "<style scoped>\n",
       "    .dataframe tbody tr th:only-of-type {\n",
       "        vertical-align: middle;\n",
       "    }\n",
       "\n",
       "    .dataframe tbody tr th {\n",
       "        vertical-align: top;\n",
       "    }\n",
       "\n",
       "    .dataframe thead th {\n",
       "        text-align: right;\n",
       "    }\n",
       "</style>\n",
       "<table border=\"1\" class=\"dataframe\">\n",
       "  <thead>\n",
       "    <tr style=\"text-align: right;\">\n",
       "      <th></th>\n",
       "      <th></th>\n",
       "      <th>date</th>\n",
       "      <th>rate</th>\n",
       "      <th>year</th>\n",
       "    </tr>\n",
       "    <tr>\n",
       "      <th>state</th>\n",
       "      <th>city</th>\n",
       "      <th></th>\n",
       "      <th></th>\n",
       "      <th></th>\n",
       "    </tr>\n",
       "  </thead>\n",
       "  <tbody>\n",
       "    <tr>\n",
       "      <th>Delhi</th>\n",
       "      <th>Delhi</th>\n",
       "      <td>2020-12-31</td>\n",
       "      <td>82.00</td>\n",
       "      <td>2020</td>\n",
       "    </tr>\n",
       "    <tr>\n",
       "      <th>Karnataka</th>\n",
       "      <th>Bengaluru</th>\n",
       "      <td>2020-12-31</td>\n",
       "      <td>78.27</td>\n",
       "      <td>2020</td>\n",
       "    </tr>\n",
       "    <tr>\n",
       "      <th>Maharashtra</th>\n",
       "      <th>Mumbai</th>\n",
       "      <td>2020-12-31</td>\n",
       "      <td>80.47</td>\n",
       "      <td>2020</td>\n",
       "    </tr>\n",
       "    <tr>\n",
       "      <th>Meghalaya</th>\n",
       "      <th>Shillong</th>\n",
       "      <td>2020-12-31</td>\n",
       "      <td>79.97</td>\n",
       "      <td>2020</td>\n",
       "    </tr>\n",
       "    <tr>\n",
       "      <th>Mizoram</th>\n",
       "      <th>Aizwal</th>\n",
       "      <td>2020-12-31</td>\n",
       "      <td>73.29</td>\n",
       "      <td>2020</td>\n",
       "    </tr>\n",
       "    <tr>\n",
       "      <th>Nagaland</th>\n",
       "      <th>Dimapur</th>\n",
       "      <td>2020-12-31</td>\n",
       "      <td>79.47</td>\n",
       "      <td>2020</td>\n",
       "    </tr>\n",
       "    <tr>\n",
       "      <th>Pondicherry</th>\n",
       "      <th>Pondicherry</th>\n",
       "      <td>2020-12-31</td>\n",
       "      <td>79.28</td>\n",
       "      <td>2020</td>\n",
       "    </tr>\n",
       "    <tr>\n",
       "      <th>Puducherry</th>\n",
       "      <th>Karaikal</th>\n",
       "      <td>2020-12-31</td>\n",
       "      <td>59.75</td>\n",
       "      <td>2020</td>\n",
       "    </tr>\n",
       "    <tr>\n",
       "      <th rowspan=\"3\" valign=\"top\">Tamil Nadu</th>\n",
       "      <th>Chennai</th>\n",
       "      <td>2020-12-31</td>\n",
       "      <td>80.10</td>\n",
       "      <td>2020</td>\n",
       "    </tr>\n",
       "    <tr>\n",
       "      <th>Coimbatore</th>\n",
       "      <td>2020-12-31</td>\n",
       "      <td>80.45</td>\n",
       "      <td>2020</td>\n",
       "    </tr>\n",
       "    <tr>\n",
       "      <th>Madurai</th>\n",
       "      <td>2020-12-31</td>\n",
       "      <td>80.71</td>\n",
       "      <td>2020</td>\n",
       "    </tr>\n",
       "    <tr>\n",
       "      <th rowspan=\"2\" valign=\"top\">Telangana</th>\n",
       "      <th>Hyderabad</th>\n",
       "      <td>2020-12-31</td>\n",
       "      <td>82.38</td>\n",
       "      <td>2020</td>\n",
       "    </tr>\n",
       "    <tr>\n",
       "      <th>Nizamabad</th>\n",
       "      <td>2020-12-31</td>\n",
       "      <td>83.36</td>\n",
       "      <td>2020</td>\n",
       "    </tr>\n",
       "    <tr>\n",
       "      <th>Tripura</th>\n",
       "      <th>Agartala</th>\n",
       "      <td>2020-12-31</td>\n",
       "      <td>81.00</td>\n",
       "      <td>2020</td>\n",
       "    </tr>\n",
       "    <tr>\n",
       "      <th rowspan=\"3\" valign=\"top\">Uttar Pradesh</th>\n",
       "      <th>Allahabad</th>\n",
       "      <td>2020-12-31</td>\n",
       "      <td>75.67</td>\n",
       "      <td>2020</td>\n",
       "    </tr>\n",
       "    <tr>\n",
       "      <th>Meerut</th>\n",
       "      <td>2020-12-31</td>\n",
       "      <td>75.40</td>\n",
       "      <td>2020</td>\n",
       "    </tr>\n",
       "    <tr>\n",
       "      <th>Varanasi</th>\n",
       "      <td>2020-12-31</td>\n",
       "      <td>76.19</td>\n",
       "      <td>2020</td>\n",
       "    </tr>\n",
       "    <tr>\n",
       "      <th>Uttarakhand</th>\n",
       "      <th>Haridwar</th>\n",
       "      <td>2020-12-31</td>\n",
       "      <td>61.59</td>\n",
       "      <td>2020</td>\n",
       "    </tr>\n",
       "    <tr>\n",
       "      <th>West Bengal</th>\n",
       "      <th>Kolkata</th>\n",
       "      <td>2020-12-31</td>\n",
       "      <td>77.59</td>\n",
       "      <td>2020</td>\n",
       "    </tr>\n",
       "  </tbody>\n",
       "</table>\n",
       "</div>"
      ],
      "text/plain": [
       "                                date   rate  year\n",
       "state         city                               \n",
       "Delhi         Delhi       2020-12-31  82.00  2020\n",
       "Karnataka     Bengaluru   2020-12-31  78.27  2020\n",
       "Maharashtra   Mumbai      2020-12-31  80.47  2020\n",
       "Meghalaya     Shillong    2020-12-31  79.97  2020\n",
       "Mizoram       Aizwal      2020-12-31  73.29  2020\n",
       "Nagaland      Dimapur     2020-12-31  79.47  2020\n",
       "Pondicherry   Pondicherry 2020-12-31  79.28  2020\n",
       "Puducherry    Karaikal    2020-12-31  59.75  2020\n",
       "Tamil Nadu    Chennai     2020-12-31  80.10  2020\n",
       "              Coimbatore  2020-12-31  80.45  2020\n",
       "              Madurai     2020-12-31  80.71  2020\n",
       "Telangana     Hyderabad   2020-12-31  82.38  2020\n",
       "              Nizamabad   2020-12-31  83.36  2020\n",
       "Tripura       Agartala    2020-12-31  81.00  2020\n",
       "Uttar Pradesh Allahabad   2020-12-31  75.67  2020\n",
       "              Meerut      2020-12-31  75.40  2020\n",
       "              Varanasi    2020-12-31  76.19  2020\n",
       "Uttarakhand   Haridwar    2020-12-31  61.59  2020\n",
       "West Bengal   Kolkata     2020-12-31  77.59  2020"
      ]
     },
     "execution_count": 32,
     "metadata": {},
     "output_type": "execute_result"
    }
   ],
   "source": [
    "state_city=d.groupby(['state','city']).max()\n",
    "state_city"
   ]
  },
  {
   "cell_type": "markdown",
   "id": "408aa2e0",
   "metadata": {},
   "source": [
    "## Sorting state_city by rate"
   ]
  },
  {
   "cell_type": "code",
   "execution_count": 33,
   "id": "61556c6a",
   "metadata": {},
   "outputs": [
    {
     "data": {
      "text/html": [
       "<div>\n",
       "<style scoped>\n",
       "    .dataframe tbody tr th:only-of-type {\n",
       "        vertical-align: middle;\n",
       "    }\n",
       "\n",
       "    .dataframe tbody tr th {\n",
       "        vertical-align: top;\n",
       "    }\n",
       "\n",
       "    .dataframe thead th {\n",
       "        text-align: right;\n",
       "    }\n",
       "</style>\n",
       "<table border=\"1\" class=\"dataframe\">\n",
       "  <thead>\n",
       "    <tr style=\"text-align: right;\">\n",
       "      <th></th>\n",
       "      <th></th>\n",
       "      <th>date</th>\n",
       "      <th>rate</th>\n",
       "      <th>year</th>\n",
       "    </tr>\n",
       "    <tr>\n",
       "      <th>state</th>\n",
       "      <th>city</th>\n",
       "      <th></th>\n",
       "      <th></th>\n",
       "      <th></th>\n",
       "    </tr>\n",
       "  </thead>\n",
       "  <tbody>\n",
       "    <tr>\n",
       "      <th>Puducherry</th>\n",
       "      <th>Karaikal</th>\n",
       "      <td>2020-12-31</td>\n",
       "      <td>59.75</td>\n",
       "      <td>2020</td>\n",
       "    </tr>\n",
       "    <tr>\n",
       "      <th>Uttarakhand</th>\n",
       "      <th>Haridwar</th>\n",
       "      <td>2020-12-31</td>\n",
       "      <td>61.59</td>\n",
       "      <td>2020</td>\n",
       "    </tr>\n",
       "    <tr>\n",
       "      <th>Mizoram</th>\n",
       "      <th>Aizwal</th>\n",
       "      <td>2020-12-31</td>\n",
       "      <td>73.29</td>\n",
       "      <td>2020</td>\n",
       "    </tr>\n",
       "    <tr>\n",
       "      <th rowspan=\"3\" valign=\"top\">Uttar Pradesh</th>\n",
       "      <th>Meerut</th>\n",
       "      <td>2020-12-31</td>\n",
       "      <td>75.40</td>\n",
       "      <td>2020</td>\n",
       "    </tr>\n",
       "    <tr>\n",
       "      <th>Allahabad</th>\n",
       "      <td>2020-12-31</td>\n",
       "      <td>75.67</td>\n",
       "      <td>2020</td>\n",
       "    </tr>\n",
       "    <tr>\n",
       "      <th>Varanasi</th>\n",
       "      <td>2020-12-31</td>\n",
       "      <td>76.19</td>\n",
       "      <td>2020</td>\n",
       "    </tr>\n",
       "    <tr>\n",
       "      <th>West Bengal</th>\n",
       "      <th>Kolkata</th>\n",
       "      <td>2020-12-31</td>\n",
       "      <td>77.59</td>\n",
       "      <td>2020</td>\n",
       "    </tr>\n",
       "    <tr>\n",
       "      <th>Karnataka</th>\n",
       "      <th>Bengaluru</th>\n",
       "      <td>2020-12-31</td>\n",
       "      <td>78.27</td>\n",
       "      <td>2020</td>\n",
       "    </tr>\n",
       "    <tr>\n",
       "      <th>Pondicherry</th>\n",
       "      <th>Pondicherry</th>\n",
       "      <td>2020-12-31</td>\n",
       "      <td>79.28</td>\n",
       "      <td>2020</td>\n",
       "    </tr>\n",
       "    <tr>\n",
       "      <th>Nagaland</th>\n",
       "      <th>Dimapur</th>\n",
       "      <td>2020-12-31</td>\n",
       "      <td>79.47</td>\n",
       "      <td>2020</td>\n",
       "    </tr>\n",
       "    <tr>\n",
       "      <th>Meghalaya</th>\n",
       "      <th>Shillong</th>\n",
       "      <td>2020-12-31</td>\n",
       "      <td>79.97</td>\n",
       "      <td>2020</td>\n",
       "    </tr>\n",
       "    <tr>\n",
       "      <th rowspan=\"2\" valign=\"top\">Tamil Nadu</th>\n",
       "      <th>Chennai</th>\n",
       "      <td>2020-12-31</td>\n",
       "      <td>80.10</td>\n",
       "      <td>2020</td>\n",
       "    </tr>\n",
       "    <tr>\n",
       "      <th>Coimbatore</th>\n",
       "      <td>2020-12-31</td>\n",
       "      <td>80.45</td>\n",
       "      <td>2020</td>\n",
       "    </tr>\n",
       "    <tr>\n",
       "      <th>Maharashtra</th>\n",
       "      <th>Mumbai</th>\n",
       "      <td>2020-12-31</td>\n",
       "      <td>80.47</td>\n",
       "      <td>2020</td>\n",
       "    </tr>\n",
       "    <tr>\n",
       "      <th>Tamil Nadu</th>\n",
       "      <th>Madurai</th>\n",
       "      <td>2020-12-31</td>\n",
       "      <td>80.71</td>\n",
       "      <td>2020</td>\n",
       "    </tr>\n",
       "    <tr>\n",
       "      <th>Tripura</th>\n",
       "      <th>Agartala</th>\n",
       "      <td>2020-12-31</td>\n",
       "      <td>81.00</td>\n",
       "      <td>2020</td>\n",
       "    </tr>\n",
       "    <tr>\n",
       "      <th>Delhi</th>\n",
       "      <th>Delhi</th>\n",
       "      <td>2020-12-31</td>\n",
       "      <td>82.00</td>\n",
       "      <td>2020</td>\n",
       "    </tr>\n",
       "    <tr>\n",
       "      <th rowspan=\"2\" valign=\"top\">Telangana</th>\n",
       "      <th>Hyderabad</th>\n",
       "      <td>2020-12-31</td>\n",
       "      <td>82.38</td>\n",
       "      <td>2020</td>\n",
       "    </tr>\n",
       "    <tr>\n",
       "      <th>Nizamabad</th>\n",
       "      <td>2020-12-31</td>\n",
       "      <td>83.36</td>\n",
       "      <td>2020</td>\n",
       "    </tr>\n",
       "  </tbody>\n",
       "</table>\n",
       "</div>"
      ],
      "text/plain": [
       "                                date   rate  year\n",
       "state         city                               \n",
       "Puducherry    Karaikal    2020-12-31  59.75  2020\n",
       "Uttarakhand   Haridwar    2020-12-31  61.59  2020\n",
       "Mizoram       Aizwal      2020-12-31  73.29  2020\n",
       "Uttar Pradesh Meerut      2020-12-31  75.40  2020\n",
       "              Allahabad   2020-12-31  75.67  2020\n",
       "              Varanasi    2020-12-31  76.19  2020\n",
       "West Bengal   Kolkata     2020-12-31  77.59  2020\n",
       "Karnataka     Bengaluru   2020-12-31  78.27  2020\n",
       "Pondicherry   Pondicherry 2020-12-31  79.28  2020\n",
       "Nagaland      Dimapur     2020-12-31  79.47  2020\n",
       "Meghalaya     Shillong    2020-12-31  79.97  2020\n",
       "Tamil Nadu    Chennai     2020-12-31  80.10  2020\n",
       "              Coimbatore  2020-12-31  80.45  2020\n",
       "Maharashtra   Mumbai      2020-12-31  80.47  2020\n",
       "Tamil Nadu    Madurai     2020-12-31  80.71  2020\n",
       "Tripura       Agartala    2020-12-31  81.00  2020\n",
       "Delhi         Delhi       2020-12-31  82.00  2020\n",
       "Telangana     Hyderabad   2020-12-31  82.38  2020\n",
       "              Nizamabad   2020-12-31  83.36  2020"
      ]
     },
     "execution_count": 33,
     "metadata": {},
     "output_type": "execute_result"
    }
   ],
   "source": [
    "state_city.sort_values(\"rate\")"
   ]
  },
  {
   "cell_type": "markdown",
   "id": "1d0cc615",
   "metadata": {},
   "source": [
    "## Boxplot for distirbution of rate in state_city\n",
    "\n",
    "- Maharashtra has the highest total diesel rate,Telengana is in the next position.\n",
    "- Puducherry has the lowest total diesel rate,Uttarakhand is in the second position in lowest total diesel rate."
   ]
  },
  {
   "cell_type": "code",
   "execution_count": 34,
   "id": "f9979a0b",
   "metadata": {},
   "outputs": [
    {
     "data": {
      "image/png": "[encoded data removed]",
      "text/plain": [
       "<Figure size 432x288 with 1 Axes>"
      ]
     },
     "metadata": {
      "needs_background": "light"
     },
     "output_type": "display_data"
    }
   ],
   "source": [
    "sns.boxplot(state_city[\"rate\"],color='pink')\n",
    "plt.show()"
   ]
  },
  {
   "cell_type": "markdown",
   "id": "798b53d9",
   "metadata": {},
   "source": [
    "## KDE Plot to show the distibution of diesel rate"
   ]
  },
  {
   "cell_type": "code",
   "execution_count": 35,
   "id": "9b2df599",
   "metadata": {},
   "outputs": [
    {
     "data": {
      "image/png": "[encoded data removed]",
      "text/plain": [
       "<Figure size 432x288 with 1 Axes>"
      ]
     },
     "metadata": {
      "needs_background": "light"
     },
     "output_type": "display_data"
    }
   ],
   "source": [
    "sns.kdeplot(d['rate'],color='blue',shade=True)\n",
    "plt.show()"
   ]
  },
  {
   "cell_type": "markdown",
   "id": "7923050f",
   "metadata": {},
   "source": [
    "## KDE Plot to show the distribution of diesel rate against date"
   ]
  },
  {
   "cell_type": "code",
   "execution_count": 36,
   "id": "abc7022a",
   "metadata": {},
   "outputs": [
    {
     "data": {
      "image/png": "[encoded data removed]",
      "text/plain": [
       "<Figure size 432x288 with 1 Axes>"
      ]
     },
     "metadata": {
      "needs_background": "light"
     },
     "output_type": "display_data"
    }
   ],
   "source": [
    "sns.kdeplot(d['rate'],d['date'],color='green',shade=True)\n",
    "plt.show()"
   ]
  },
  {
   "cell_type": "markdown",
   "id": "8ccbe738",
   "metadata": {},
   "source": [
    "## Swarmplot for diesel rate and year"
   ]
  },
  {
   "cell_type": "code",
   "execution_count": 37,
   "id": "31138d6f",
   "metadata": {},
   "outputs": [
    {
     "data": {
      "image/png": "[encoded data removed]",
      "text/plain": [
       "<Figure size 1080x360 with 1 Axes>"
      ]
     },
     "metadata": {
      "needs_background": "light"
     },
     "output_type": "display_data"
    }
   ],
   "source": [
    "plt.figure(figsize=(15,5))\n",
    "sns.swarmplot(x='year',y='rate',data=d,palette='Set1')\n",
    "plt.show()"
   ]
  },
  {
   "cell_type": "markdown",
   "id": "ee694b38",
   "metadata": {},
   "source": [
    "## Pairplot showing relationship between diesel rate, year and state"
   ]
  },
  {
   "cell_type": "code",
   "execution_count": 38,
   "id": "5f6439cc",
   "metadata": {},
   "outputs": [
    {
     "data": {
      "image/png": "[encoded data removed]",
      "text/plain": [
       "<Figure size 464.75x360 with 6 Axes>"
      ]
     },
     "metadata": {
      "needs_background": "light"
     },
     "output_type": "display_data"
    }
   ],
   "source": [
    "sns.pairplot(d,hue='state',palette='Set1')\n",
    "plt.show()"
   ]
  },
  {
   "cell_type": "markdown",
   "id": "864239a2",
   "metadata": {},
   "source": [
    "## Distplot showing the distribution of diesel rate"
   ]
  },
  {
   "cell_type": "code",
   "execution_count": 39,
   "id": "904a33b1",
   "metadata": {},
   "outputs": [
    {
     "data": {
      "image/png": "[encoded data removed]",
      "text/plain": [
       "<Figure size 576x360 with 1 Axes>"
      ]
     },
     "metadata": {
      "needs_background": "light"
     },
     "output_type": "display_data"
    }
   ],
   "source": [
    "plt.figure(figsize=(8,5))\n",
    "sns.distplot(d.rate,bins=20,kde_kws={\"lw\":8,'color':'xkcd:pink'},hist_kws={'alpha':.3,'color':'blue'})\n",
    "plt.xlabel('Rate',fontsize=16,labelpad=15)\n",
    "plt.yticks([])\n",
    "plt.show()"
   ]
  },
  {
   "cell_type": "markdown",
   "id": "a6d45a66",
   "metadata": {},
   "source": [
    "## Extracting the state Telangana"
   ]
  },
  {
   "cell_type": "code",
   "execution_count": 40,
   "id": "1d1ba260",
   "metadata": {},
   "outputs": [
    {
     "data": {
      "text/html": [
       "<div>\n",
       "<style scoped>\n",
       "    .dataframe tbody tr th:only-of-type {\n",
       "        vertical-align: middle;\n",
       "    }\n",
       "\n",
       "    .dataframe tbody tr th {\n",
       "        vertical-align: top;\n",
       "    }\n",
       "\n",
       "    .dataframe thead th {\n",
       "        text-align: right;\n",
       "    }\n",
       "</style>\n",
       "<table border=\"1\" class=\"dataframe\">\n",
       "  <thead>\n",
       "    <tr style=\"text-align: right;\">\n",
       "      <th></th>\n",
       "      <th>city</th>\n",
       "      <th>date</th>\n",
       "      <th>rate</th>\n",
       "      <th>state</th>\n",
       "      <th>year</th>\n",
       "    </tr>\n",
       "  </thead>\n",
       "  <tbody>\n",
       "    <tr>\n",
       "      <th>8238</th>\n",
       "      <td>Hyderabad</td>\n",
       "      <td>2011-07-01</td>\n",
       "      <td>45.08</td>\n",
       "      <td>Telangana</td>\n",
       "      <td>2011</td>\n",
       "    </tr>\n",
       "    <tr>\n",
       "      <th>8239</th>\n",
       "      <td>Hyderabad</td>\n",
       "      <td>2012-07-25</td>\n",
       "      <td>44.94</td>\n",
       "      <td>Telangana</td>\n",
       "      <td>2012</td>\n",
       "    </tr>\n",
       "    <tr>\n",
       "      <th>8240</th>\n",
       "      <td>Hyderabad</td>\n",
       "      <td>2012-08-01</td>\n",
       "      <td>45.06</td>\n",
       "      <td>Telangana</td>\n",
       "      <td>2012</td>\n",
       "    </tr>\n",
       "    <tr>\n",
       "      <th>8241</th>\n",
       "      <td>Hyderabad</td>\n",
       "      <td>2012-09-14</td>\n",
       "      <td>51.17</td>\n",
       "      <td>Telangana</td>\n",
       "      <td>2012</td>\n",
       "    </tr>\n",
       "    <tr>\n",
       "      <th>8242</th>\n",
       "      <td>Hyderabad</td>\n",
       "      <td>2012-10-27</td>\n",
       "      <td>51.35</td>\n",
       "      <td>Telangana</td>\n",
       "      <td>2012</td>\n",
       "    </tr>\n",
       "    <tr>\n",
       "      <th>...</th>\n",
       "      <td>...</td>\n",
       "      <td>...</td>\n",
       "      <td>...</td>\n",
       "      <td>...</td>\n",
       "      <td>...</td>\n",
       "    </tr>\n",
       "    <tr>\n",
       "      <th>14532</th>\n",
       "      <td>Nizamabad</td>\n",
       "      <td>2020-12-27</td>\n",
       "      <td>82.06</td>\n",
       "      <td>Telangana</td>\n",
       "      <td>2020</td>\n",
       "    </tr>\n",
       "    <tr>\n",
       "      <th>14533</th>\n",
       "      <td>Nizamabad</td>\n",
       "      <td>2020-12-28</td>\n",
       "      <td>82.06</td>\n",
       "      <td>Telangana</td>\n",
       "      <td>2020</td>\n",
       "    </tr>\n",
       "    <tr>\n",
       "      <th>14534</th>\n",
       "      <td>Nizamabad</td>\n",
       "      <td>2020-12-29</td>\n",
       "      <td>82.06</td>\n",
       "      <td>Telangana</td>\n",
       "      <td>2020</td>\n",
       "    </tr>\n",
       "    <tr>\n",
       "      <th>14535</th>\n",
       "      <td>Nizamabad</td>\n",
       "      <td>2020-12-30</td>\n",
       "      <td>82.06</td>\n",
       "      <td>Telangana</td>\n",
       "      <td>2020</td>\n",
       "    </tr>\n",
       "    <tr>\n",
       "      <th>14536</th>\n",
       "      <td>Nizamabad</td>\n",
       "      <td>2020-12-31</td>\n",
       "      <td>82.06</td>\n",
       "      <td>Telangana</td>\n",
       "      <td>2020</td>\n",
       "    </tr>\n",
       "  </tbody>\n",
       "</table>\n",
       "<p>1849 rows × 5 columns</p>\n",
       "</div>"
      ],
      "text/plain": [
       "            city       date   rate      state  year\n",
       "8238   Hyderabad 2011-07-01  45.08  Telangana  2011\n",
       "8239   Hyderabad 2012-07-25  44.94  Telangana  2012\n",
       "8240   Hyderabad 2012-08-01  45.06  Telangana  2012\n",
       "8241   Hyderabad 2012-09-14  51.17  Telangana  2012\n",
       "8242   Hyderabad 2012-10-27  51.35  Telangana  2012\n",
       "...          ...        ...    ...        ...   ...\n",
       "14532  Nizamabad 2020-12-27  82.06  Telangana  2020\n",
       "14533  Nizamabad 2020-12-28  82.06  Telangana  2020\n",
       "14534  Nizamabad 2020-12-29  82.06  Telangana  2020\n",
       "14535  Nizamabad 2020-12-30  82.06  Telangana  2020\n",
       "14536  Nizamabad 2020-12-31  82.06  Telangana  2020\n",
       "\n",
       "[1849 rows x 5 columns]"
      ]
     },
     "execution_count": 40,
     "metadata": {},
     "output_type": "execute_result"
    }
   ],
   "source": [
    "Telengana=d[d[\"state\"]==\"Telangana\"]\n",
    "Telengana"
   ]
  },
  {
   "cell_type": "markdown",
   "id": "bb81bb31",
   "metadata": {},
   "source": [
    "## Unique cities in Telengana state"
   ]
  },
  {
   "cell_type": "code",
   "execution_count": 41,
   "id": "d368a420",
   "metadata": {},
   "outputs": [
    {
     "data": {
      "text/plain": [
       "array(['Hyderabad', 'Nizamabad'], dtype=object)"
      ]
     },
     "execution_count": 41,
     "metadata": {},
     "output_type": "execute_result"
    }
   ],
   "source": [
    "Telengana.city.unique()"
   ]
  },
  {
   "cell_type": "markdown",
   "id": "7c6980f8",
   "metadata": {},
   "source": [
    "## Datewise maximum of diesel rates in Telengana"
   ]
  },
  {
   "cell_type": "code",
   "execution_count": 42,
   "id": "fcd488f5",
   "metadata": {},
   "outputs": [
    {
     "data": {
      "text/plain": [
       "date\n",
       "2011-07-01    45.08\n",
       "2012-07-25    44.94\n",
       "2012-08-01    45.06\n",
       "2012-09-14    51.17\n",
       "2012-10-27    51.35\n",
       "              ...  \n",
       "2020-12-27    82.06\n",
       "2020-12-28    82.06\n",
       "2020-12-29    82.06\n",
       "2020-12-30    82.06\n",
       "2020-12-31    82.06\n",
       "Name: rate, Length: 1128, dtype: float64"
      ]
     },
     "execution_count": 42,
     "metadata": {},
     "output_type": "execute_result"
    }
   ],
   "source": [
    "telng_date_max=Telengana.groupby(['date'])['rate'].max()\n",
    "telng_date_max"
   ]
  },
  {
   "cell_type": "markdown",
   "id": "ec29d6a5",
   "metadata": {},
   "source": [
    "## Creating dataframe for above"
   ]
  },
  {
   "cell_type": "code",
   "execution_count": 43,
   "id": "618b44e8",
   "metadata": {},
   "outputs": [
    {
     "data": {
      "text/html": [
       "<div>\n",
       "<style scoped>\n",
       "    .dataframe tbody tr th:only-of-type {\n",
       "        vertical-align: middle;\n",
       "    }\n",
       "\n",
       "    .dataframe tbody tr th {\n",
       "        vertical-align: top;\n",
       "    }\n",
       "\n",
       "    .dataframe thead th {\n",
       "        text-align: right;\n",
       "    }\n",
       "</style>\n",
       "<table border=\"1\" class=\"dataframe\">\n",
       "  <thead>\n",
       "    <tr style=\"text-align: right;\">\n",
       "      <th></th>\n",
       "      <th>rate</th>\n",
       "    </tr>\n",
       "    <tr>\n",
       "      <th>date</th>\n",
       "      <th></th>\n",
       "    </tr>\n",
       "  </thead>\n",
       "  <tbody>\n",
       "    <tr>\n",
       "      <th>2011-07-01</th>\n",
       "      <td>45.08</td>\n",
       "    </tr>\n",
       "    <tr>\n",
       "      <th>2012-07-25</th>\n",
       "      <td>44.94</td>\n",
       "    </tr>\n",
       "    <tr>\n",
       "      <th>2012-08-01</th>\n",
       "      <td>45.06</td>\n",
       "    </tr>\n",
       "    <tr>\n",
       "      <th>2012-09-14</th>\n",
       "      <td>51.17</td>\n",
       "    </tr>\n",
       "    <tr>\n",
       "      <th>2012-10-27</th>\n",
       "      <td>51.35</td>\n",
       "    </tr>\n",
       "    <tr>\n",
       "      <th>...</th>\n",
       "      <td>...</td>\n",
       "    </tr>\n",
       "    <tr>\n",
       "      <th>2020-12-27</th>\n",
       "      <td>82.06</td>\n",
       "    </tr>\n",
       "    <tr>\n",
       "      <th>2020-12-28</th>\n",
       "      <td>82.06</td>\n",
       "    </tr>\n",
       "    <tr>\n",
       "      <th>2020-12-29</th>\n",
       "      <td>82.06</td>\n",
       "    </tr>\n",
       "    <tr>\n",
       "      <th>2020-12-30</th>\n",
       "      <td>82.06</td>\n",
       "    </tr>\n",
       "    <tr>\n",
       "      <th>2020-12-31</th>\n",
       "      <td>82.06</td>\n",
       "    </tr>\n",
       "  </tbody>\n",
       "</table>\n",
       "<p>1128 rows × 1 columns</p>\n",
       "</div>"
      ],
      "text/plain": [
       "             rate\n",
       "date             \n",
       "2011-07-01  45.08\n",
       "2012-07-25  44.94\n",
       "2012-08-01  45.06\n",
       "2012-09-14  51.17\n",
       "2012-10-27  51.35\n",
       "...           ...\n",
       "2020-12-27  82.06\n",
       "2020-12-28  82.06\n",
       "2020-12-29  82.06\n",
       "2020-12-30  82.06\n",
       "2020-12-31  82.06\n",
       "\n",
       "[1128 rows x 1 columns]"
      ]
     },
     "execution_count": 43,
     "metadata": {},
     "output_type": "execute_result"
    }
   ],
   "source": [
    "telengDF=pd.DataFrame(telng_date_max)\n",
    "telengDF"
   ]
  },
  {
   "cell_type": "markdown",
   "id": "3eeb9540",
   "metadata": {},
   "source": [
    "## Sorting the details of Telengana by rate\n",
    "\n",
    "- In Telangana,highest diesel rate is 83.36 on 16-10-2018.\n",
    "- The lowest diesel rate is 44.94 on 25-07-2012."
   ]
  },
  {
   "cell_type": "code",
   "execution_count": 44,
   "id": "be1a7d6b",
   "metadata": {},
   "outputs": [
    {
     "data": {
      "text/html": [
       "<div>\n",
       "<style scoped>\n",
       "    .dataframe tbody tr th:only-of-type {\n",
       "        vertical-align: middle;\n",
       "    }\n",
       "\n",
       "    .dataframe tbody tr th {\n",
       "        vertical-align: top;\n",
       "    }\n",
       "\n",
       "    .dataframe thead th {\n",
       "        text-align: right;\n",
       "    }\n",
       "</style>\n",
       "<table border=\"1\" class=\"dataframe\">\n",
       "  <thead>\n",
       "    <tr style=\"text-align: right;\">\n",
       "      <th></th>\n",
       "      <th>rate</th>\n",
       "    </tr>\n",
       "    <tr>\n",
       "      <th>date</th>\n",
       "      <th></th>\n",
       "    </tr>\n",
       "  </thead>\n",
       "  <tbody>\n",
       "    <tr>\n",
       "      <th>2018-10-16</th>\n",
       "      <td>83.36</td>\n",
       "    </tr>\n",
       "    <tr>\n",
       "      <th>2018-10-18</th>\n",
       "      <td>83.24</td>\n",
       "    </tr>\n",
       "    <tr>\n",
       "      <th>2018-10-19</th>\n",
       "      <td>83.13</td>\n",
       "    </tr>\n",
       "    <tr>\n",
       "      <th>2018-10-15</th>\n",
       "      <td>83.11</td>\n",
       "    </tr>\n",
       "    <tr>\n",
       "      <th>2018-10-04</th>\n",
       "      <td>83.10</td>\n",
       "    </tr>\n",
       "    <tr>\n",
       "      <th>...</th>\n",
       "      <td>...</td>\n",
       "    </tr>\n",
       "    <tr>\n",
       "      <th>2016-01-15</th>\n",
       "      <td>48.18</td>\n",
       "    </tr>\n",
       "    <tr>\n",
       "      <th>2016-02-01</th>\n",
       "      <td>48.14</td>\n",
       "    </tr>\n",
       "    <tr>\n",
       "      <th>2011-07-01</th>\n",
       "      <td>45.08</td>\n",
       "    </tr>\n",
       "    <tr>\n",
       "      <th>2012-08-01</th>\n",
       "      <td>45.06</td>\n",
       "    </tr>\n",
       "    <tr>\n",
       "      <th>2012-07-25</th>\n",
       "      <td>44.94</td>\n",
       "    </tr>\n",
       "  </tbody>\n",
       "</table>\n",
       "<p>1128 rows × 1 columns</p>\n",
       "</div>"
      ],
      "text/plain": [
       "             rate\n",
       "date             \n",
       "2018-10-16  83.36\n",
       "2018-10-18  83.24\n",
       "2018-10-19  83.13\n",
       "2018-10-15  83.11\n",
       "2018-10-04  83.10\n",
       "...           ...\n",
       "2016-01-15  48.18\n",
       "2016-02-01  48.14\n",
       "2011-07-01  45.08\n",
       "2012-08-01  45.06\n",
       "2012-07-25  44.94\n",
       "\n",
       "[1128 rows x 1 columns]"
      ]
     },
     "execution_count": 44,
     "metadata": {},
     "output_type": "execute_result"
    }
   ],
   "source": [
    "tDF=telengDF.sort_values('rate',ascending=False)\n",
    "tDF"
   ]
  },
  {
   "cell_type": "markdown",
   "id": "f8437796",
   "metadata": {},
   "source": [
    "## Extracting the details for Nizamabad in Telengana"
   ]
  },
  {
   "cell_type": "code",
   "execution_count": 45,
   "id": "b03df320",
   "metadata": {},
   "outputs": [
    {
     "data": {
      "text/html": [
       "<div>\n",
       "<style scoped>\n",
       "    .dataframe tbody tr th:only-of-type {\n",
       "        vertical-align: middle;\n",
       "    }\n",
       "\n",
       "    .dataframe tbody tr th {\n",
       "        vertical-align: top;\n",
       "    }\n",
       "\n",
       "    .dataframe thead th {\n",
       "        text-align: right;\n",
       "    }\n",
       "</style>\n",
       "<table border=\"1\" class=\"dataframe\">\n",
       "  <thead>\n",
       "    <tr style=\"text-align: right;\">\n",
       "      <th></th>\n",
       "      <th>city</th>\n",
       "      <th>date</th>\n",
       "      <th>rate</th>\n",
       "      <th>state</th>\n",
       "      <th>year</th>\n",
       "    </tr>\n",
       "  </thead>\n",
       "  <tbody>\n",
       "    <tr>\n",
       "      <th>13733</th>\n",
       "      <td>Nizamabad</td>\n",
       "      <td>2018-01-05</td>\n",
       "      <td>66.07</td>\n",
       "      <td>Telangana</td>\n",
       "      <td>2018</td>\n",
       "    </tr>\n",
       "    <tr>\n",
       "      <th>13749</th>\n",
       "      <td>Nizamabad</td>\n",
       "      <td>2018-01-08</td>\n",
       "      <td>66.66</td>\n",
       "      <td>Telangana</td>\n",
       "      <td>2018</td>\n",
       "    </tr>\n",
       "    <tr>\n",
       "      <th>13765</th>\n",
       "      <td>Nizamabad</td>\n",
       "      <td>2018-01-09</td>\n",
       "      <td>66.79</td>\n",
       "      <td>Telangana</td>\n",
       "      <td>2018</td>\n",
       "    </tr>\n",
       "    <tr>\n",
       "      <th>13781</th>\n",
       "      <td>Nizamabad</td>\n",
       "      <td>2018-01-10</td>\n",
       "      <td>66.93</td>\n",
       "      <td>Telangana</td>\n",
       "      <td>2018</td>\n",
       "    </tr>\n",
       "    <tr>\n",
       "      <th>13797</th>\n",
       "      <td>Nizamabad</td>\n",
       "      <td>2018-01-11</td>\n",
       "      <td>67.13</td>\n",
       "      <td>Telangana</td>\n",
       "      <td>2018</td>\n",
       "    </tr>\n",
       "    <tr>\n",
       "      <th>...</th>\n",
       "      <td>...</td>\n",
       "      <td>...</td>\n",
       "      <td>...</td>\n",
       "      <td>...</td>\n",
       "      <td>...</td>\n",
       "    </tr>\n",
       "    <tr>\n",
       "      <th>14532</th>\n",
       "      <td>Nizamabad</td>\n",
       "      <td>2020-12-27</td>\n",
       "      <td>82.06</td>\n",
       "      <td>Telangana</td>\n",
       "      <td>2020</td>\n",
       "    </tr>\n",
       "    <tr>\n",
       "      <th>14533</th>\n",
       "      <td>Nizamabad</td>\n",
       "      <td>2020-12-28</td>\n",
       "      <td>82.06</td>\n",
       "      <td>Telangana</td>\n",
       "      <td>2020</td>\n",
       "    </tr>\n",
       "    <tr>\n",
       "      <th>14534</th>\n",
       "      <td>Nizamabad</td>\n",
       "      <td>2020-12-29</td>\n",
       "      <td>82.06</td>\n",
       "      <td>Telangana</td>\n",
       "      <td>2020</td>\n",
       "    </tr>\n",
       "    <tr>\n",
       "      <th>14535</th>\n",
       "      <td>Nizamabad</td>\n",
       "      <td>2020-12-30</td>\n",
       "      <td>82.06</td>\n",
       "      <td>Telangana</td>\n",
       "      <td>2020</td>\n",
       "    </tr>\n",
       "    <tr>\n",
       "      <th>14536</th>\n",
       "      <td>Nizamabad</td>\n",
       "      <td>2020-12-31</td>\n",
       "      <td>82.06</td>\n",
       "      <td>Telangana</td>\n",
       "      <td>2020</td>\n",
       "    </tr>\n",
       "  </tbody>\n",
       "</table>\n",
       "<p>734 rows × 5 columns</p>\n",
       "</div>"
      ],
      "text/plain": [
       "            city       date   rate      state  year\n",
       "13733  Nizamabad 2018-01-05  66.07  Telangana  2018\n",
       "13749  Nizamabad 2018-01-08  66.66  Telangana  2018\n",
       "13765  Nizamabad 2018-01-09  66.79  Telangana  2018\n",
       "13781  Nizamabad 2018-01-10  66.93  Telangana  2018\n",
       "13797  Nizamabad 2018-01-11  67.13  Telangana  2018\n",
       "...          ...        ...    ...        ...   ...\n",
       "14532  Nizamabad 2020-12-27  82.06  Telangana  2020\n",
       "14533  Nizamabad 2020-12-28  82.06  Telangana  2020\n",
       "14534  Nizamabad 2020-12-29  82.06  Telangana  2020\n",
       "14535  Nizamabad 2020-12-30  82.06  Telangana  2020\n",
       "14536  Nizamabad 2020-12-31  82.06  Telangana  2020\n",
       "\n",
       "[734 rows x 5 columns]"
      ]
     },
     "execution_count": 45,
     "metadata": {},
     "output_type": "execute_result"
    }
   ],
   "source": [
    "Nizamabad=d[d['city']=='Nizamabad']\n",
    "Nizamabad"
   ]
  },
  {
   "cell_type": "markdown",
   "id": "a1c52f51",
   "metadata": {},
   "source": [
    "## Barplot showing details of Nizamabad"
   ]
  },
  {
   "cell_type": "code",
   "execution_count": 46,
   "id": "558e7371",
   "metadata": {},
   "outputs": [
    {
     "data": {
      "image/png": "[encoded data removed]",
      "text/plain": [
       "<Figure size 1224x216 with 1 Axes>"
      ]
     },
     "metadata": {
      "needs_background": "light"
     },
     "output_type": "display_data"
    }
   ],
   "source": [
    "plt.figure(figsize=(17,3))\n",
    "plt.bar(Nizamabad['date'],Nizamabad['rate'],color='purple')\n",
    "plt.title('Diesel Rates',fontsize=15,color='purple')\n",
    "plt.xlabel(\"Dates\",fontsize=10,color='purple')\n",
    "plt.xticks(rotation=90)\n",
    "plt.ylabel(\"Rate\",fontsize=10,color='purple')\n",
    "plt.show()"
   ]
  },
  {
   "cell_type": "code",
   "execution_count": 47,
   "id": "7bda85c6",
   "metadata": {},
   "outputs": [
    {
     "data": {
      "text/plain": [
       "69.06    82\n",
       "78.26    49\n",
       "82.06    25\n",
       "81.43    21\n",
       "81.61    18\n",
       "         ..\n",
       "83.36     1\n",
       "83.11     1\n",
       "83.02     1\n",
       "82.82     1\n",
       "72.42     1\n",
       "Name: rate, Length: 396, dtype: int64"
      ]
     },
     "execution_count": 47,
     "metadata": {},
     "output_type": "execute_result"
    }
   ],
   "source": [
    "Nizamabad.rate.value_counts()"
   ]
  },
  {
   "cell_type": "markdown",
   "id": "92983394",
   "metadata": {},
   "source": [
    "## Sorting details of Nizamabad by rate"
   ]
  },
  {
   "cell_type": "code",
   "execution_count": 48,
   "id": "abf74d5a",
   "metadata": {},
   "outputs": [
    {
     "data": {
      "text/html": [
       "<div>\n",
       "<style scoped>\n",
       "    .dataframe tbody tr th:only-of-type {\n",
       "        vertical-align: middle;\n",
       "    }\n",
       "\n",
       "    .dataframe tbody tr th {\n",
       "        vertical-align: top;\n",
       "    }\n",
       "\n",
       "    .dataframe thead th {\n",
       "        text-align: right;\n",
       "    }\n",
       "</style>\n",
       "<table border=\"1\" class=\"dataframe\">\n",
       "  <thead>\n",
       "    <tr style=\"text-align: right;\">\n",
       "      <th></th>\n",
       "      <th>city</th>\n",
       "      <th>date</th>\n",
       "      <th>rate</th>\n",
       "      <th>state</th>\n",
       "      <th>year</th>\n",
       "    </tr>\n",
       "  </thead>\n",
       "  <tbody>\n",
       "    <tr>\n",
       "      <th>13949</th>\n",
       "      <td>Nizamabad</td>\n",
       "      <td>2018-10-16</td>\n",
       "      <td>83.36</td>\n",
       "      <td>Telangana</td>\n",
       "      <td>2018</td>\n",
       "    </tr>\n",
       "    <tr>\n",
       "      <th>13950</th>\n",
       "      <td>Nizamabad</td>\n",
       "      <td>2018-10-18</td>\n",
       "      <td>83.24</td>\n",
       "      <td>Telangana</td>\n",
       "      <td>2018</td>\n",
       "    </tr>\n",
       "    <tr>\n",
       "      <th>13951</th>\n",
       "      <td>Nizamabad</td>\n",
       "      <td>2018-10-19</td>\n",
       "      <td>83.13</td>\n",
       "      <td>Telangana</td>\n",
       "      <td>2018</td>\n",
       "    </tr>\n",
       "    <tr>\n",
       "      <th>13948</th>\n",
       "      <td>Nizamabad</td>\n",
       "      <td>2018-10-15</td>\n",
       "      <td>83.11</td>\n",
       "      <td>Telangana</td>\n",
       "      <td>2018</td>\n",
       "    </tr>\n",
       "    <tr>\n",
       "      <th>13937</th>\n",
       "      <td>Nizamabad</td>\n",
       "      <td>2018-10-04</td>\n",
       "      <td>83.10</td>\n",
       "      <td>Telangana</td>\n",
       "      <td>2018</td>\n",
       "    </tr>\n",
       "    <tr>\n",
       "      <th>...</th>\n",
       "      <td>...</td>\n",
       "      <td>...</td>\n",
       "      <td>...</td>\n",
       "      <td>...</td>\n",
       "      <td>...</td>\n",
       "    </tr>\n",
       "    <tr>\n",
       "      <th>13797</th>\n",
       "      <td>Nizamabad</td>\n",
       "      <td>2018-01-11</td>\n",
       "      <td>67.13</td>\n",
       "      <td>Telangana</td>\n",
       "      <td>2018</td>\n",
       "    </tr>\n",
       "    <tr>\n",
       "      <th>13781</th>\n",
       "      <td>Nizamabad</td>\n",
       "      <td>2018-01-10</td>\n",
       "      <td>66.93</td>\n",
       "      <td>Telangana</td>\n",
       "      <td>2018</td>\n",
       "    </tr>\n",
       "    <tr>\n",
       "      <th>13765</th>\n",
       "      <td>Nizamabad</td>\n",
       "      <td>2018-01-09</td>\n",
       "      <td>66.79</td>\n",
       "      <td>Telangana</td>\n",
       "      <td>2018</td>\n",
       "    </tr>\n",
       "    <tr>\n",
       "      <th>13749</th>\n",
       "      <td>Nizamabad</td>\n",
       "      <td>2018-01-08</td>\n",
       "      <td>66.66</td>\n",
       "      <td>Telangana</td>\n",
       "      <td>2018</td>\n",
       "    </tr>\n",
       "    <tr>\n",
       "      <th>13733</th>\n",
       "      <td>Nizamabad</td>\n",
       "      <td>2018-01-05</td>\n",
       "      <td>66.07</td>\n",
       "      <td>Telangana</td>\n",
       "      <td>2018</td>\n",
       "    </tr>\n",
       "  </tbody>\n",
       "</table>\n",
       "<p>734 rows × 5 columns</p>\n",
       "</div>"
      ],
      "text/plain": [
       "            city       date   rate      state  year\n",
       "13949  Nizamabad 2018-10-16  83.36  Telangana  2018\n",
       "13950  Nizamabad 2018-10-18  83.24  Telangana  2018\n",
       "13951  Nizamabad 2018-10-19  83.13  Telangana  2018\n",
       "13948  Nizamabad 2018-10-15  83.11  Telangana  2018\n",
       "13937  Nizamabad 2018-10-04  83.10  Telangana  2018\n",
       "...          ...        ...    ...        ...   ...\n",
       "13797  Nizamabad 2018-01-11  67.13  Telangana  2018\n",
       "13781  Nizamabad 2018-01-10  66.93  Telangana  2018\n",
       "13765  Nizamabad 2018-01-09  66.79  Telangana  2018\n",
       "13749  Nizamabad 2018-01-08  66.66  Telangana  2018\n",
       "13733  Nizamabad 2018-01-05  66.07  Telangana  2018\n",
       "\n",
       "[734 rows x 5 columns]"
      ]
     },
     "execution_count": 48,
     "metadata": {},
     "output_type": "execute_result"
    }
   ],
   "source": [
    "Nizamabad.sort_values(by=\"rate\",ascending=False)"
   ]
  },
  {
   "cell_type": "markdown",
   "id": "ded9aa11",
   "metadata": {},
   "source": [
    "## Checking the missing values"
   ]
  },
  {
   "cell_type": "code",
   "execution_count": 49,
   "id": "6f6f56f6",
   "metadata": {},
   "outputs": [
    {
     "data": {
      "text/plain": [
       "city     0\n",
       "date     0\n",
       "rate     0\n",
       "state    0\n",
       "year     0\n",
       "dtype: int64"
      ]
     },
     "execution_count": 49,
     "metadata": {},
     "output_type": "execute_result"
    }
   ],
   "source": [
    "Nizamabad.isnull().sum()"
   ]
  },
  {
   "cell_type": "markdown",
   "id": "851237d9",
   "metadata": {},
   "source": [
    "## Statistical details for Nizamabad\n",
    "\n",
    "- The highest diesel rate in Nizamabad is 83.36 and lowest rate is 66.07"
   ]
  },
  {
   "cell_type": "code",
   "execution_count": 50,
   "id": "ba0edaa6",
   "metadata": {},
   "outputs": [
    {
     "data": {
      "text/html": [
       "<div>\n",
       "<style scoped>\n",
       "    .dataframe tbody tr th:only-of-type {\n",
       "        vertical-align: middle;\n",
       "    }\n",
       "\n",
       "    .dataframe tbody tr th {\n",
       "        vertical-align: top;\n",
       "    }\n",
       "\n",
       "    .dataframe thead th {\n",
       "        text-align: right;\n",
       "    }\n",
       "</style>\n",
       "<table border=\"1\" class=\"dataframe\">\n",
       "  <thead>\n",
       "    <tr style=\"text-align: right;\">\n",
       "      <th></th>\n",
       "      <th>rate</th>\n",
       "      <th>year</th>\n",
       "    </tr>\n",
       "  </thead>\n",
       "  <tbody>\n",
       "    <tr>\n",
       "      <th>count</th>\n",
       "      <td>734.000000</td>\n",
       "      <td>734.000000</td>\n",
       "    </tr>\n",
       "    <tr>\n",
       "      <th>mean</th>\n",
       "      <td>74.894019</td>\n",
       "      <td>2019.216621</td>\n",
       "    </tr>\n",
       "    <tr>\n",
       "      <th>std</th>\n",
       "      <td>4.464085</td>\n",
       "      <td>0.842718</td>\n",
       "    </tr>\n",
       "    <tr>\n",
       "      <th>min</th>\n",
       "      <td>66.070000</td>\n",
       "      <td>2018.000000</td>\n",
       "    </tr>\n",
       "    <tr>\n",
       "      <th>25%</th>\n",
       "      <td>71.390000</td>\n",
       "      <td>2018.000000</td>\n",
       "    </tr>\n",
       "    <tr>\n",
       "      <th>50%</th>\n",
       "      <td>73.845000</td>\n",
       "      <td>2019.000000</td>\n",
       "    </tr>\n",
       "    <tr>\n",
       "      <th>75%</th>\n",
       "      <td>78.777500</td>\n",
       "      <td>2020.000000</td>\n",
       "    </tr>\n",
       "    <tr>\n",
       "      <th>max</th>\n",
       "      <td>83.360000</td>\n",
       "      <td>2020.000000</td>\n",
       "    </tr>\n",
       "  </tbody>\n",
       "</table>\n",
       "</div>"
      ],
      "text/plain": [
       "             rate         year\n",
       "count  734.000000   734.000000\n",
       "mean    74.894019  2019.216621\n",
       "std      4.464085     0.842718\n",
       "min     66.070000  2018.000000\n",
       "25%     71.390000  2018.000000\n",
       "50%     73.845000  2019.000000\n",
       "75%     78.777500  2020.000000\n",
       "max     83.360000  2020.000000"
      ]
     },
     "execution_count": 50,
     "metadata": {},
     "output_type": "execute_result"
    }
   ],
   "source": [
    "Nizamabad.describe()"
   ]
  },
  {
   "cell_type": "markdown",
   "id": "a817387c",
   "metadata": {},
   "source": [
    "# Monthly prediction"
   ]
  },
  {
   "cell_type": "markdown",
   "id": "b2042fe9",
   "metadata": {},
   "source": [
    "## Month wise maximum values of Nizamabad"
   ]
  },
  {
   "cell_type": "code",
   "execution_count": 51,
   "id": "2f4bf010",
   "metadata": {},
   "outputs": [
    {
     "name": "stdout",
     "output_type": "stream",
     "text": [
      "                 city   rate      state  year\n",
      "date                                         \n",
      "2018-01-31  Nizamabad  70.38  Telangana  2018\n",
      "2018-02-28  Nizamabad  70.62  Telangana  2018\n",
      "2018-03-31  Nizamabad  70.61  Telangana  2018\n",
      "2018-04-30  Nizamabad  72.54  Telangana  2018\n",
      "2018-05-31  Nizamabad  76.30  Telangana  2018\n",
      "2018-06-30  Nizamabad  76.18  Telangana  2018\n",
      "2018-07-31  Nizamabad  75.39  Telangana  2018\n",
      "2018-08-31  Nizamabad  77.40  Telangana  2018\n",
      "2018-09-30  Nizamabad  82.42  Telangana  2018\n",
      "2018-10-31  Nizamabad  83.36  Telangana  2018\n",
      "2018-11-30  Nizamabad  81.26  Telangana  2018\n",
      "2018-12-31  Nizamabad  74.32  Telangana  2018\n",
      "2019-01-31  Nizamabad  72.86  Telangana  2019\n",
      "2019-02-28  Nizamabad  73.92  Telangana  2019\n",
      "2019-03-31  Nizamabad  74.65  Telangana  2019\n",
      "2019-04-30  Nizamabad  73.66  Telangana  2019\n",
      "2019-05-31  Nizamabad  73.57  Telangana  2019\n",
      "2019-06-30  Nizamabad  73.36  Telangana  2019\n",
      "2019-07-31  Nizamabad  73.73  Telangana  2019\n",
      "2019-08-31  Nizamabad  73.00  Telangana  2019\n",
      "2019-09-30  Nizamabad  74.49  Telangana  2019\n",
      "2019-10-31  Nizamabad  74.69  Telangana  2019\n",
      "2019-11-30  Nizamabad  72.91  Telangana  2019\n",
      "2019-12-31  Nizamabad  75.18  Telangana  2019\n",
      "2020-01-31  Nizamabad  76.51  Telangana  2020\n",
      "2020-02-29  Nizamabad  73.25  Telangana  2020\n",
      "2020-03-31  Nizamabad  71.25  Telangana  2020\n",
      "2020-04-30  Nizamabad  69.06  Telangana  2020\n",
      "2020-05-31  Nizamabad  69.06  Telangana  2020\n",
      "2020-06-30  Nizamabad  79.92  Telangana  2020\n",
      "2020-07-31  Nizamabad  81.43  Telangana  2020\n",
      "2020-08-31  Nizamabad  81.61  Telangana  2020\n",
      "2020-09-30  Nizamabad  81.61  Telangana  2020\n",
      "2020-10-31  Nizamabad  78.35  Telangana  2020\n",
      "2020-11-30  Nizamabad  80.49  Telangana  2020\n",
      "2020-12-31  Nizamabad  82.06  Telangana  2020\n"
     ]
    }
   ],
   "source": [
    "mnz=Nizamabad.copy()\n",
    "nz_month=mnz\n",
    "nz_month.set_index('date',inplace=True)\n",
    "nz_month.index = pd.to_datetime(nz_month.index,format='%Y-%m-%d')\n",
    "nz_month=nz_month.resample('M').max()\n",
    "print(nz_month)"
   ]
  },
  {
   "cell_type": "markdown",
   "id": "90e17d0c",
   "metadata": {},
   "source": [
    "## Shape of the data"
   ]
  },
  {
   "cell_type": "code",
   "execution_count": 52,
   "id": "35fa48cb",
   "metadata": {},
   "outputs": [
    {
     "data": {
      "text/plain": [
       "(36, 4)"
      ]
     },
     "execution_count": 52,
     "metadata": {},
     "output_type": "execute_result"
    }
   ],
   "source": [
    "nz_month.shape"
   ]
  },
  {
   "cell_type": "markdown",
   "id": "21d92aed",
   "metadata": {},
   "source": [
    "## To check is there any missing values in Nizamabad monthly data"
   ]
  },
  {
   "cell_type": "code",
   "execution_count": 53,
   "id": "3051064d",
   "metadata": {},
   "outputs": [
    {
     "data": {
      "text/plain": [
       "city     0\n",
       "rate     0\n",
       "state    0\n",
       "year     0\n",
       "dtype: int64"
      ]
     },
     "execution_count": 53,
     "metadata": {},
     "output_type": "execute_result"
    }
   ],
   "source": [
    "nz_month.isnull().sum()"
   ]
  },
  {
   "cell_type": "markdown",
   "id": "07a15281",
   "metadata": {},
   "source": [
    "## Creating a list of numbers from 1 to 36"
   ]
  },
  {
   "cell_type": "code",
   "execution_count": 54,
   "id": "4a26acdf",
   "metadata": {},
   "outputs": [],
   "source": [
    "x_list=[]\n",
    "for i in range(1,37):\n",
    "    x_list.append(i)\n",
    "x_nz=np.array(x_list)"
   ]
  },
  {
   "cell_type": "markdown",
   "id": "cd0f5a1e",
   "metadata": {},
   "source": [
    "## Printing values"
   ]
  },
  {
   "cell_type": "code",
   "execution_count": 55,
   "id": "1198f881",
   "metadata": {},
   "outputs": [
    {
     "name": "stdout",
     "output_type": "stream",
     "text": [
      "[ 1  2  3  4  5  6  7  8  9 10 11 12 13 14 15 16 17 18 19 20 21 22 23 24\n",
      " 25 26 27 28 29 30 31 32 33 34 35 36]\n"
     ]
    }
   ],
   "source": [
    "print(x_nz)"
   ]
  },
  {
   "cell_type": "markdown",
   "id": "9a055e8c",
   "metadata": {},
   "source": [
    "## Creating the rate array"
   ]
  },
  {
   "cell_type": "code",
   "execution_count": 56,
   "id": "bed5ebd1",
   "metadata": {},
   "outputs": [],
   "source": [
    "y_list=nz_month['rate']\n",
    "y_nz=np.array(y_list)"
   ]
  },
  {
   "cell_type": "markdown",
   "id": "75781ce4",
   "metadata": {},
   "source": [
    "## Printing the rate array"
   ]
  },
  {
   "cell_type": "code",
   "execution_count": 57,
   "id": "2020aa4e",
   "metadata": {},
   "outputs": [
    {
     "name": "stdout",
     "output_type": "stream",
     "text": [
      "[70.38 70.62 70.61 72.54 76.3  76.18 75.39 77.4  82.42 83.36 81.26 74.32\n",
      " 72.86 73.92 74.65 73.66 73.57 73.36 73.73 73.   74.49 74.69 72.91 75.18\n",
      " 76.51 73.25 71.25 69.06 69.06 79.92 81.43 81.61 81.61 78.35 80.49 82.06]\n"
     ]
    }
   ],
   "source": [
    "print(y_nz)"
   ]
  },
  {
   "cell_type": "markdown",
   "id": "58142783",
   "metadata": {},
   "source": [
    "## Creating data frame for month and rate"
   ]
  },
  {
   "cell_type": "code",
   "execution_count": 58,
   "id": "b7651c11",
   "metadata": {},
   "outputs": [
    {
     "data": {
      "text/html": [
       "<div>\n",
       "<style scoped>\n",
       "    .dataframe tbody tr th:only-of-type {\n",
       "        vertical-align: middle;\n",
       "    }\n",
       "\n",
       "    .dataframe tbody tr th {\n",
       "        vertical-align: top;\n",
       "    }\n",
       "\n",
       "    .dataframe thead th {\n",
       "        text-align: right;\n",
       "    }\n",
       "</style>\n",
       "<table border=\"1\" class=\"dataframe\">\n",
       "  <thead>\n",
       "    <tr style=\"text-align: right;\">\n",
       "      <th></th>\n",
       "      <th>months</th>\n",
       "      <th>rate</th>\n",
       "    </tr>\n",
       "  </thead>\n",
       "  <tbody>\n",
       "    <tr>\n",
       "      <th>0</th>\n",
       "      <td>1</td>\n",
       "      <td>70.38</td>\n",
       "    </tr>\n",
       "    <tr>\n",
       "      <th>1</th>\n",
       "      <td>2</td>\n",
       "      <td>70.62</td>\n",
       "    </tr>\n",
       "    <tr>\n",
       "      <th>2</th>\n",
       "      <td>3</td>\n",
       "      <td>70.61</td>\n",
       "    </tr>\n",
       "    <tr>\n",
       "      <th>3</th>\n",
       "      <td>4</td>\n",
       "      <td>72.54</td>\n",
       "    </tr>\n",
       "    <tr>\n",
       "      <th>4</th>\n",
       "      <td>5</td>\n",
       "      <td>76.30</td>\n",
       "    </tr>\n",
       "    <tr>\n",
       "      <th>5</th>\n",
       "      <td>6</td>\n",
       "      <td>76.18</td>\n",
       "    </tr>\n",
       "    <tr>\n",
       "      <th>6</th>\n",
       "      <td>7</td>\n",
       "      <td>75.39</td>\n",
       "    </tr>\n",
       "    <tr>\n",
       "      <th>7</th>\n",
       "      <td>8</td>\n",
       "      <td>77.40</td>\n",
       "    </tr>\n",
       "    <tr>\n",
       "      <th>8</th>\n",
       "      <td>9</td>\n",
       "      <td>82.42</td>\n",
       "    </tr>\n",
       "    <tr>\n",
       "      <th>9</th>\n",
       "      <td>10</td>\n",
       "      <td>83.36</td>\n",
       "    </tr>\n",
       "    <tr>\n",
       "      <th>10</th>\n",
       "      <td>11</td>\n",
       "      <td>81.26</td>\n",
       "    </tr>\n",
       "    <tr>\n",
       "      <th>11</th>\n",
       "      <td>12</td>\n",
       "      <td>74.32</td>\n",
       "    </tr>\n",
       "    <tr>\n",
       "      <th>12</th>\n",
       "      <td>13</td>\n",
       "      <td>72.86</td>\n",
       "    </tr>\n",
       "    <tr>\n",
       "      <th>13</th>\n",
       "      <td>14</td>\n",
       "      <td>73.92</td>\n",
       "    </tr>\n",
       "    <tr>\n",
       "      <th>14</th>\n",
       "      <td>15</td>\n",
       "      <td>74.65</td>\n",
       "    </tr>\n",
       "    <tr>\n",
       "      <th>15</th>\n",
       "      <td>16</td>\n",
       "      <td>73.66</td>\n",
       "    </tr>\n",
       "    <tr>\n",
       "      <th>16</th>\n",
       "      <td>17</td>\n",
       "      <td>73.57</td>\n",
       "    </tr>\n",
       "    <tr>\n",
       "      <th>17</th>\n",
       "      <td>18</td>\n",
       "      <td>73.36</td>\n",
       "    </tr>\n",
       "    <tr>\n",
       "      <th>18</th>\n",
       "      <td>19</td>\n",
       "      <td>73.73</td>\n",
       "    </tr>\n",
       "    <tr>\n",
       "      <th>19</th>\n",
       "      <td>20</td>\n",
       "      <td>73.00</td>\n",
       "    </tr>\n",
       "    <tr>\n",
       "      <th>20</th>\n",
       "      <td>21</td>\n",
       "      <td>74.49</td>\n",
       "    </tr>\n",
       "    <tr>\n",
       "      <th>21</th>\n",
       "      <td>22</td>\n",
       "      <td>74.69</td>\n",
       "    </tr>\n",
       "    <tr>\n",
       "      <th>22</th>\n",
       "      <td>23</td>\n",
       "      <td>72.91</td>\n",
       "    </tr>\n",
       "    <tr>\n",
       "      <th>23</th>\n",
       "      <td>24</td>\n",
       "      <td>75.18</td>\n",
       "    </tr>\n",
       "    <tr>\n",
       "      <th>24</th>\n",
       "      <td>25</td>\n",
       "      <td>76.51</td>\n",
       "    </tr>\n",
       "    <tr>\n",
       "      <th>25</th>\n",
       "      <td>26</td>\n",
       "      <td>73.25</td>\n",
       "    </tr>\n",
       "    <tr>\n",
       "      <th>26</th>\n",
       "      <td>27</td>\n",
       "      <td>71.25</td>\n",
       "    </tr>\n",
       "    <tr>\n",
       "      <th>27</th>\n",
       "      <td>28</td>\n",
       "      <td>69.06</td>\n",
       "    </tr>\n",
       "    <tr>\n",
       "      <th>28</th>\n",
       "      <td>29</td>\n",
       "      <td>69.06</td>\n",
       "    </tr>\n",
       "    <tr>\n",
       "      <th>29</th>\n",
       "      <td>30</td>\n",
       "      <td>79.92</td>\n",
       "    </tr>\n",
       "    <tr>\n",
       "      <th>30</th>\n",
       "      <td>31</td>\n",
       "      <td>81.43</td>\n",
       "    </tr>\n",
       "    <tr>\n",
       "      <th>31</th>\n",
       "      <td>32</td>\n",
       "      <td>81.61</td>\n",
       "    </tr>\n",
       "    <tr>\n",
       "      <th>32</th>\n",
       "      <td>33</td>\n",
       "      <td>81.61</td>\n",
       "    </tr>\n",
       "    <tr>\n",
       "      <th>33</th>\n",
       "      <td>34</td>\n",
       "      <td>78.35</td>\n",
       "    </tr>\n",
       "    <tr>\n",
       "      <th>34</th>\n",
       "      <td>35</td>\n",
       "      <td>80.49</td>\n",
       "    </tr>\n",
       "    <tr>\n",
       "      <th>35</th>\n",
       "      <td>36</td>\n",
       "      <td>82.06</td>\n",
       "    </tr>\n",
       "  </tbody>\n",
       "</table>\n",
       "</div>"
      ],
      "text/plain": [
       "    months   rate\n",
       "0        1  70.38\n",
       "1        2  70.62\n",
       "2        3  70.61\n",
       "3        4  72.54\n",
       "4        5  76.30\n",
       "5        6  76.18\n",
       "6        7  75.39\n",
       "7        8  77.40\n",
       "8        9  82.42\n",
       "9       10  83.36\n",
       "10      11  81.26\n",
       "11      12  74.32\n",
       "12      13  72.86\n",
       "13      14  73.92\n",
       "14      15  74.65\n",
       "15      16  73.66\n",
       "16      17  73.57\n",
       "17      18  73.36\n",
       "18      19  73.73\n",
       "19      20  73.00\n",
       "20      21  74.49\n",
       "21      22  74.69\n",
       "22      23  72.91\n",
       "23      24  75.18\n",
       "24      25  76.51\n",
       "25      26  73.25\n",
       "26      27  71.25\n",
       "27      28  69.06\n",
       "28      29  69.06\n",
       "29      30  79.92\n",
       "30      31  81.43\n",
       "31      32  81.61\n",
       "32      33  81.61\n",
       "33      34  78.35\n",
       "34      35  80.49\n",
       "35      36  82.06"
      ]
     },
     "execution_count": 58,
     "metadata": {},
     "output_type": "execute_result"
    }
   ],
   "source": [
    "datad={'months':x_nz,'rate':y_nz}\n",
    "diesel=pd.DataFrame(datad)\n",
    "diesel"
   ]
  },
  {
   "cell_type": "markdown",
   "id": "c0bb054f",
   "metadata": {},
   "source": [
    "## Assigning required columns into x and y"
   ]
  },
  {
   "cell_type": "code",
   "execution_count": 59,
   "id": "da0d0c0d",
   "metadata": {},
   "outputs": [],
   "source": [
    "x1=diesel.iloc[:,:-1].values\n",
    "y1=diesel.iloc[:,1].values"
   ]
  },
  {
   "cell_type": "markdown",
   "id": "e8934416",
   "metadata": {},
   "source": [
    "## Display elements and shape of data"
   ]
  },
  {
   "cell_type": "code",
   "execution_count": 60,
   "id": "5e5508a5",
   "metadata": {},
   "outputs": [
    {
     "data": {
      "text/plain": [
       "array([[ 1],\n",
       "       [ 2],\n",
       "       [ 3],\n",
       "       [ 4],\n",
       "       [ 5],\n",
       "       [ 6],\n",
       "       [ 7],\n",
       "       [ 8],\n",
       "       [ 9],\n",
       "       [10],\n",
       "       [11],\n",
       "       [12],\n",
       "       [13],\n",
       "       [14],\n",
       "       [15],\n",
       "       [16],\n",
       "       [17],\n",
       "       [18],\n",
       "       [19],\n",
       "       [20],\n",
       "       [21],\n",
       "       [22],\n",
       "       [23],\n",
       "       [24],\n",
       "       [25],\n",
       "       [26],\n",
       "       [27],\n",
       "       [28],\n",
       "       [29],\n",
       "       [30],\n",
       "       [31],\n",
       "       [32],\n",
       "       [33],\n",
       "       [34],\n",
       "       [35],\n",
       "       [36]])"
      ]
     },
     "execution_count": 60,
     "metadata": {},
     "output_type": "execute_result"
    }
   ],
   "source": [
    "x1"
   ]
  },
  {
   "cell_type": "code",
   "execution_count": 61,
   "id": "3b3a94e6",
   "metadata": {},
   "outputs": [
    {
     "data": {
      "text/plain": [
       "(36, 1)"
      ]
     },
     "execution_count": 61,
     "metadata": {},
     "output_type": "execute_result"
    }
   ],
   "source": [
    "x1.shape # 2 dimensional array"
   ]
  },
  {
   "cell_type": "code",
   "execution_count": 62,
   "id": "80e3080e",
   "metadata": {},
   "outputs": [
    {
     "data": {
      "text/plain": [
       "array([70.38, 70.62, 70.61, 72.54, 76.3 , 76.18, 75.39, 77.4 , 82.42,\n",
       "       83.36, 81.26, 74.32, 72.86, 73.92, 74.65, 73.66, 73.57, 73.36,\n",
       "       73.73, 73.  , 74.49, 74.69, 72.91, 75.18, 76.51, 73.25, 71.25,\n",
       "       69.06, 69.06, 79.92, 81.43, 81.61, 81.61, 78.35, 80.49, 82.06])"
      ]
     },
     "execution_count": 62,
     "metadata": {},
     "output_type": "execute_result"
    }
   ],
   "source": [
    "y1 "
   ]
  },
  {
   "cell_type": "code",
   "execution_count": 63,
   "id": "6a4c56c8",
   "metadata": {},
   "outputs": [
    {
     "data": {
      "text/plain": [
       "(36,)"
      ]
     },
     "execution_count": 63,
     "metadata": {},
     "output_type": "execute_result"
    }
   ],
   "source": [
    "y1.shape # Single dimension"
   ]
  },
  {
   "cell_type": "markdown",
   "id": "c9334bfb",
   "metadata": {},
   "source": [
    "## Perform the split into training/ testing set"
   ]
  },
  {
   "cell_type": "code",
   "execution_count": 64,
   "id": "5da3e945",
   "metadata": {},
   "outputs": [],
   "source": [
    "x_train,x_test,y_train,y_test=train_test_split(x1,y1,test_size=0.4,random_state=1)"
   ]
  },
  {
   "cell_type": "code",
   "execution_count": 65,
   "id": "e03b6211",
   "metadata": {},
   "outputs": [
    {
     "name": "stdout",
     "output_type": "stream",
     "text": [
      "(21, 1)\n",
      "(15, 1)\n",
      "(21,)\n",
      "(15,)\n"
     ]
    }
   ],
   "source": [
    "print(x_train.shape)\n",
    "print(x_test.shape)\n",
    "print(y_train.shape)\n",
    "print(y_test.shape)"
   ]
  },
  {
   "cell_type": "markdown",
   "id": "7f68c99d",
   "metadata": {},
   "source": [
    "## Print the mean values"
   ]
  },
  {
   "cell_type": "code",
   "execution_count": 66,
   "id": "d37c5d8d",
   "metadata": {},
   "outputs": [
    {
     "name": "stdout",
     "output_type": "stream",
     "text": [
      "11.0\n",
      "8.0\n",
      "21.0\n",
      "15.0\n"
     ]
    }
   ],
   "source": [
    "print(np.mean(x_train.shape))\n",
    "print(np.mean(x_test.shape))\n",
    "print(np.mean(y_train.shape))\n",
    "print(np.mean(y_test.shape))"
   ]
  },
  {
   "cell_type": "markdown",
   "id": "e576d250",
   "metadata": {},
   "source": [
    "## Create linear regression object"
   ]
  },
  {
   "cell_type": "code",
   "execution_count": 67,
   "id": "ca8d7e3b",
   "metadata": {},
   "outputs": [
    {
     "name": "stdout",
     "output_type": "stream",
     "text": [
      "Train test complete\n"
     ]
    }
   ],
   "source": [
    "l=LinearRegression()\n",
    "l.fit(x_train,y_train) # Train the model using training sets\n",
    "print(\"Train test complete\")"
   ]
  },
  {
   "cell_type": "markdown",
   "id": "7e45a417",
   "metadata": {},
   "source": [
    "## Make predictions using the training set"
   ]
  },
  {
   "cell_type": "code",
   "execution_count": 68,
   "id": "4477b452",
   "metadata": {},
   "outputs": [],
   "source": [
    "ym_pred=l.predict(x_test)"
   ]
  },
  {
   "cell_type": "markdown",
   "id": "63327c50",
   "metadata": {},
   "source": [
    "## Dataframe for actual and predicted"
   ]
  },
  {
   "cell_type": "code",
   "execution_count": 69,
   "id": "93c9e447",
   "metadata": {},
   "outputs": [
    {
     "data": {
      "text/html": [
       "<div>\n",
       "<style scoped>\n",
       "    .dataframe tbody tr th:only-of-type {\n",
       "        vertical-align: middle;\n",
       "    }\n",
       "\n",
       "    .dataframe tbody tr th {\n",
       "        vertical-align: top;\n",
       "    }\n",
       "\n",
       "    .dataframe thead th {\n",
       "        text-align: right;\n",
       "    }\n",
       "</style>\n",
       "<table border=\"1\" class=\"dataframe\">\n",
       "  <thead>\n",
       "    <tr style=\"text-align: right;\">\n",
       "      <th></th>\n",
       "      <th>Actual</th>\n",
       "      <th>Predicted</th>\n",
       "    </tr>\n",
       "  </thead>\n",
       "  <tbody>\n",
       "    <tr>\n",
       "      <th>0</th>\n",
       "      <td>81.43</td>\n",
       "      <td>79.350917</td>\n",
       "    </tr>\n",
       "    <tr>\n",
       "      <th>1</th>\n",
       "      <td>80.49</td>\n",
       "      <td>80.159771</td>\n",
       "    </tr>\n",
       "    <tr>\n",
       "      <th>2</th>\n",
       "      <td>69.06</td>\n",
       "      <td>78.946490</td>\n",
       "    </tr>\n",
       "    <tr>\n",
       "      <th>3</th>\n",
       "      <td>72.54</td>\n",
       "      <td>73.891151</td>\n",
       "    </tr>\n",
       "    <tr>\n",
       "      <th>4</th>\n",
       "      <td>73.00</td>\n",
       "      <td>77.126568</td>\n",
       "    </tr>\n",
       "    <tr>\n",
       "      <th>5</th>\n",
       "      <td>73.36</td>\n",
       "      <td>76.722140</td>\n",
       "    </tr>\n",
       "    <tr>\n",
       "      <th>6</th>\n",
       "      <td>74.69</td>\n",
       "      <td>77.530995</td>\n",
       "    </tr>\n",
       "    <tr>\n",
       "      <th>7</th>\n",
       "      <td>75.18</td>\n",
       "      <td>77.935422</td>\n",
       "    </tr>\n",
       "    <tr>\n",
       "      <th>8</th>\n",
       "      <td>79.92</td>\n",
       "      <td>79.148703</td>\n",
       "    </tr>\n",
       "    <tr>\n",
       "      <th>9</th>\n",
       "      <td>71.25</td>\n",
       "      <td>78.542062</td>\n",
       "    </tr>\n",
       "    <tr>\n",
       "      <th>10</th>\n",
       "      <td>69.06</td>\n",
       "      <td>78.744276</td>\n",
       "    </tr>\n",
       "    <tr>\n",
       "      <th>11</th>\n",
       "      <td>78.35</td>\n",
       "      <td>79.957557</td>\n",
       "    </tr>\n",
       "    <tr>\n",
       "      <th>12</th>\n",
       "      <td>76.51</td>\n",
       "      <td>78.137635</td>\n",
       "    </tr>\n",
       "    <tr>\n",
       "      <th>13</th>\n",
       "      <td>73.25</td>\n",
       "      <td>78.339849</td>\n",
       "    </tr>\n",
       "    <tr>\n",
       "      <th>14</th>\n",
       "      <td>76.30</td>\n",
       "      <td>74.093364</td>\n",
       "    </tr>\n",
       "  </tbody>\n",
       "</table>\n",
       "</div>"
      ],
      "text/plain": [
       "    Actual  Predicted\n",
       "0    81.43  79.350917\n",
       "1    80.49  80.159771\n",
       "2    69.06  78.946490\n",
       "3    72.54  73.891151\n",
       "4    73.00  77.126568\n",
       "5    73.36  76.722140\n",
       "6    74.69  77.530995\n",
       "7    75.18  77.935422\n",
       "8    79.92  79.148703\n",
       "9    71.25  78.542062\n",
       "10   69.06  78.744276\n",
       "11   78.35  79.957557\n",
       "12   76.51  78.137635\n",
       "13   73.25  78.339849\n",
       "14   76.30  74.093364"
      ]
     },
     "execution_count": 69,
     "metadata": {},
     "output_type": "execute_result"
    }
   ],
   "source": [
    "d1=pd.DataFrame({'Actual':y_test,'Predicted':ym_pred})\n",
    "d1"
   ]
  },
  {
   "cell_type": "markdown",
   "id": "8502654e",
   "metadata": {},
   "source": [
    "## Mean absolute error"
   ]
  },
  {
   "cell_type": "code",
   "execution_count": 70,
   "id": "9a904080",
   "metadata": {},
   "outputs": [
    {
     "name": "stdout",
     "output_type": "stream",
     "text": [
      "mean absolute error 3.6674259887005625\n"
     ]
    }
   ],
   "source": [
    "print('mean absolute error',mean_absolute_error(y_test,ym_pred))"
   ]
  },
  {
   "cell_type": "markdown",
   "id": "5628e574",
   "metadata": {},
   "source": [
    "## Regression plot"
   ]
  },
  {
   "cell_type": "code",
   "execution_count": 71,
   "id": "31436339",
   "metadata": {},
   "outputs": [
    {
     "data": {
      "image/png": "[encoded data removed]",
      "text/plain": [
       "<Figure size 432x288 with 1 Axes>"
      ]
     },
     "metadata": {
      "needs_background": "light"
     },
     "output_type": "display_data"
    }
   ],
   "source": [
    "sns.regplot(x=y_test,y=ym_pred,color='purple')\n",
    "plt.title('Regression Plot',size=16,color='violet')\n",
    "plt.ylabel('Rate',size=14,color='violet')\n",
    "plt.xlabel('Month',size=15,color='violet')\n",
    "plt.show()"
   ]
  },
  {
   "cell_type": "markdown",
   "id": "6c303b29",
   "metadata": {},
   "source": [
    "## Prediction of diesel price in the months of 2021 according to past data"
   ]
  },
  {
   "cell_type": "code",
   "execution_count": 72,
   "id": "9ca542dd",
   "metadata": {},
   "outputs": [],
   "source": [
    "pred_rate=[]\n",
    "for i in range(37,49):\n",
    "    h=[i]\n",
    "    r=l.predict([h])\n",
    "    pred_rate.append(float(r))"
   ]
  },
  {
   "cell_type": "markdown",
   "id": "7388d2f7",
   "metadata": {},
   "source": [
    "## Creating dataframe for diesel price predicted for months in 2021"
   ]
  },
  {
   "cell_type": "code",
   "execution_count": 73,
   "id": "a051ae93",
   "metadata": {},
   "outputs": [
    {
     "data": {
      "text/html": [
       "<div>\n",
       "<style scoped>\n",
       "    .dataframe tbody tr th:only-of-type {\n",
       "        vertical-align: middle;\n",
       "    }\n",
       "\n",
       "    .dataframe tbody tr th {\n",
       "        vertical-align: top;\n",
       "    }\n",
       "\n",
       "    .dataframe thead th {\n",
       "        text-align: right;\n",
       "    }\n",
       "</style>\n",
       "<table border=\"1\" class=\"dataframe\">\n",
       "  <thead>\n",
       "    <tr style=\"text-align: right;\">\n",
       "      <th></th>\n",
       "      <th>Months</th>\n",
       "      <th>Predicted rate</th>\n",
       "    </tr>\n",
       "  </thead>\n",
       "  <tbody>\n",
       "    <tr>\n",
       "      <th>0</th>\n",
       "      <td>2021-01-31</td>\n",
       "      <td>80.564198</td>\n",
       "    </tr>\n",
       "    <tr>\n",
       "      <th>1</th>\n",
       "      <td>2021-02-28</td>\n",
       "      <td>80.766412</td>\n",
       "    </tr>\n",
       "    <tr>\n",
       "      <th>2</th>\n",
       "      <td>2021-03-31</td>\n",
       "      <td>80.968625</td>\n",
       "    </tr>\n",
       "    <tr>\n",
       "      <th>3</th>\n",
       "      <td>2021-04-30</td>\n",
       "      <td>81.170839</td>\n",
       "    </tr>\n",
       "    <tr>\n",
       "      <th>4</th>\n",
       "      <td>2021-05-31</td>\n",
       "      <td>81.373052</td>\n",
       "    </tr>\n",
       "    <tr>\n",
       "      <th>5</th>\n",
       "      <td>2021-06-30</td>\n",
       "      <td>81.575266</td>\n",
       "    </tr>\n",
       "    <tr>\n",
       "      <th>6</th>\n",
       "      <td>2021-07-31</td>\n",
       "      <td>81.777479</td>\n",
       "    </tr>\n",
       "    <tr>\n",
       "      <th>7</th>\n",
       "      <td>2021-08-31</td>\n",
       "      <td>81.979693</td>\n",
       "    </tr>\n",
       "    <tr>\n",
       "      <th>8</th>\n",
       "      <td>2021-09-30</td>\n",
       "      <td>82.181907</td>\n",
       "    </tr>\n",
       "    <tr>\n",
       "      <th>9</th>\n",
       "      <td>2021-10-31</td>\n",
       "      <td>82.384120</td>\n",
       "    </tr>\n",
       "    <tr>\n",
       "      <th>10</th>\n",
       "      <td>2021-11-30</td>\n",
       "      <td>82.586334</td>\n",
       "    </tr>\n",
       "    <tr>\n",
       "      <th>11</th>\n",
       "      <td>2021-12-31</td>\n",
       "      <td>82.788547</td>\n",
       "    </tr>\n",
       "  </tbody>\n",
       "</table>\n",
       "</div>"
      ],
      "text/plain": [
       "       Months  Predicted rate\n",
       "0  2021-01-31       80.564198\n",
       "1  2021-02-28       80.766412\n",
       "2  2021-03-31       80.968625\n",
       "3  2021-04-30       81.170839\n",
       "4  2021-05-31       81.373052\n",
       "5  2021-06-30       81.575266\n",
       "6  2021-07-31       81.777479\n",
       "7  2021-08-31       81.979693\n",
       "8  2021-09-30       82.181907\n",
       "9  2021-10-31       82.384120\n",
       "10 2021-11-30       82.586334\n",
       "11 2021-12-31       82.788547"
      ]
     },
     "execution_count": 73,
     "metadata": {},
     "output_type": "execute_result"
    }
   ],
   "source": [
    "mnths=pd.date_range('2021-01-01',periods=12,freq='M')\n",
    "diesel_predict=pd.DataFrame({'Months':mnths,'Predicted rate':pred_rate})\n",
    "diesel_predict"
   ]
  },
  {
   "cell_type": "markdown",
   "id": "2e5bc11f",
   "metadata": {},
   "source": [
    "# Conclusion"
   ]
  },
  {
   "cell_type": "markdown",
   "id": "0b384b25",
   "metadata": {},
   "source": [
    "- Forecasting Crude Oil prices is a very challenging problem due to the high volatility of oil prices. \n",
    "- Here,we developed a new oil price prediction approach using machine learning paradigm for analysis.\n",
    "- Our stream learning model will be updated whenever new oil price data are available, and provided to model, so the model continuously evolves over time, and can capture the changing pattern of oil prices."
   ]
  }
 ],
 "metadata": {
  "kernelspec": {
   "display_name": "Python 3 (ipykernel)",
   "language": "python",
   "name": "python3"
  },
  "language_info": {
   "codemirror_mode": {
    "name": "ipython",
    "version": 3
   },
   "file_extension": ".py",
   "mimetype": "text/x-python",
   "name": "python",
   "nbconvert_exporter": "python",
   "pygments_lexer": "ipython3",
   "version": "3.9.7"
  }
 },
 "nbformat": 4,
 "nbformat_minor": 5
}
