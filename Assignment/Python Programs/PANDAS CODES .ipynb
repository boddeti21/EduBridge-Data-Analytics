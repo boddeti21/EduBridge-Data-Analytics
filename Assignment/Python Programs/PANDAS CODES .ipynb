{
 "cells": [
  {
   "cell_type": "markdown",
   "id": "602ff746",
   "metadata": {},
   "source": [
    "PANDAS "
   ]
  },
  {
   "cell_type": "code",
   "execution_count": 1,
   "id": "25e1ade3",
   "metadata": {},
   "outputs": [],
   "source": [
    "import pandas as pd\n",
    "import numpy as np\n",
    "import warnings \n"
   ]
  },
  {
   "cell_type": "code",
   "execution_count": 89,
   "id": "fa9185b0",
   "metadata": {},
   "outputs": [
    {
     "name": "stdout",
     "output_type": "stream",
     "text": [
      "1.3.4\n"
     ]
    }
   ],
   "source": [
    "print(pd.__version__)"
   ]
  },
  {
   "cell_type": "code",
   "execution_count": 90,
   "id": "ef920331",
   "metadata": {},
   "outputs": [
    {
     "name": "stderr",
     "output_type": "stream",
     "text": [
      "C:\\Users\\Tanuja\\AppData\\Local\\Temp/ipykernel_2156/454184989.py:1: DeprecationWarning: The default dtype for empty Series will be 'object' instead of 'float64' in a future version. Specify a dtype explicitly to silence this warning.\n",
      "  a=pd.Series()\n"
     ]
    },
    {
     "data": {
      "text/plain": [
       "Series([], dtype: float64)"
      ]
     },
     "execution_count": 90,
     "metadata": {},
     "output_type": "execute_result"
    }
   ],
   "source": [
    "a=pd.Series()\n",
    "a"
   ]
  },
  {
   "cell_type": "code",
   "execution_count": 4,
   "id": "701f0291",
   "metadata": {},
   "outputs": [
    {
     "data": {
      "text/plain": [
       "0    11\n",
       "1    21\n",
       "2    13\n",
       "3    12\n",
       "4    13\n",
       "dtype: int32"
      ]
     },
     "execution_count": 4,
     "metadata": {},
     "output_type": "execute_result"
    }
   ],
   "source": [
    "a=np.array([11,21,13,12,13])\n",
    "v=pd.Series(a)\n",
    "v"
   ]
  },
  {
   "cell_type": "code",
   "execution_count": 5,
   "id": "ecfdf1b8",
   "metadata": {},
   "outputs": [
    {
     "data": {
      "text/plain": [
       "numpy.ndarray"
      ]
     },
     "execution_count": 5,
     "metadata": {},
     "output_type": "execute_result"
    }
   ],
   "source": [
    "type(a)\n"
   ]
  },
  {
   "cell_type": "code",
   "execution_count": 6,
   "id": "1bc6a883",
   "metadata": {},
   "outputs": [
    {
     "data": {
      "text/plain": [
       "pandas.core.series.Series"
      ]
     },
     "execution_count": 6,
     "metadata": {},
     "output_type": "execute_result"
    }
   ],
   "source": [
    "type(v)"
   ]
  },
  {
   "cell_type": "code",
   "execution_count": 7,
   "id": "bf545d64",
   "metadata": {},
   "outputs": [
    {
     "data": {
      "text/plain": [
       "a    1\n",
       "b    2\n",
       "c    3\n",
       "dtype: int64"
      ]
     },
     "execution_count": 7,
     "metadata": {},
     "output_type": "execute_result"
    }
   ],
   "source": [
    "s= pd.Series([1,2,3],index=['a','b','c'])\n",
    "s"
   ]
  },
  {
   "cell_type": "code",
   "execution_count": 8,
   "id": "d5694b92",
   "metadata": {},
   "outputs": [
    {
     "data": {
      "text/plain": [
       "0    1\n",
       "1    2\n",
       "2    3\n",
       "dtype: int64"
      ]
     },
     "execution_count": 8,
     "metadata": {},
     "output_type": "execute_result"
    }
   ],
   "source": [
    "s= pd.Series([1,2,3])\n",
    "s"
   ]
  },
  {
   "cell_type": "code",
   "execution_count": 9,
   "id": "e5b4eb9a",
   "metadata": {},
   "outputs": [],
   "source": [
    "s.index=['a','b','c']"
   ]
  },
  {
   "cell_type": "code",
   "execution_count": 10,
   "id": "4b93cf06",
   "metadata": {},
   "outputs": [
    {
     "data": {
      "text/plain": [
       "array([0.37642   , 0.89400981, 0.87278298, 0.01883237, 0.77517082,\n",
       "       0.59096725, 0.94285827, 0.38418484, 0.61537855, 0.75754103,\n",
       "       0.90827698, 0.39972577])"
      ]
     },
     "execution_count": 10,
     "metadata": {},
     "output_type": "execute_result"
    }
   ],
   "source": [
    "v1=np.random.random(12)\n",
    "v1"
   ]
  },
  {
   "cell_type": "code",
   "execution_count": 11,
   "id": "79ce0f9e",
   "metadata": {},
   "outputs": [
    {
     "data": {
      "text/plain": [
       "array([ 2,  3,  4,  5,  6,  7,  8,  9, 10, 11, 12, 13])"
      ]
     },
     "execution_count": 11,
     "metadata": {},
     "output_type": "execute_result"
    }
   ],
   "source": [
    "v2=np.arange(2,14)\n",
    "v2"
   ]
  },
  {
   "cell_type": "code",
   "execution_count": 12,
   "id": "6802f9f1",
   "metadata": {},
   "outputs": [
    {
     "data": {
      "text/plain": [
       "a    10\n",
       "b    20\n",
       "c    30\n",
       "d    40\n",
       "dtype: int64"
      ]
     },
     "execution_count": 12,
     "metadata": {},
     "output_type": "execute_result"
    }
   ],
   "source": [
    "d={'a':10,'b':20,'c':30,'d':40} # series from dictionary\n",
    "s1=pd.Series(d)\n",
    "s1"
   ]
  },
  {
   "cell_type": "code",
   "execution_count": 13,
   "id": "091e2e1f",
   "metadata": {},
   "outputs": [
    {
     "data": {
      "text/plain": [
       "10    34\n",
       "11    34\n",
       "12    34\n",
       "13    34\n",
       "dtype: int64"
      ]
     },
     "execution_count": 13,
     "metadata": {},
     "output_type": "execute_result"
    }
   ],
   "source": [
    "pd.Series(34,index=[10,11,12,13]) # series from scalar"
   ]
  },
  {
   "cell_type": "code",
   "execution_count": 14,
   "id": "64e085f6",
   "metadata": {},
   "outputs": [
    {
     "data": {
      "text/plain": [
       "0    45\n",
       "dtype: int64"
      ]
     },
     "execution_count": 14,
     "metadata": {},
     "output_type": "execute_result"
    }
   ],
   "source": [
    "pd.Series(45)"
   ]
  },
  {
   "cell_type": "code",
   "execution_count": 15,
   "id": "8a304b29",
   "metadata": {},
   "outputs": [
    {
     "data": {
      "text/plain": [
       "a    10\n",
       "b    22\n",
       "c    31\n",
       "d    42\n",
       "e    55\n",
       "f    36\n",
       "g    47\n",
       "dtype: int32"
      ]
     },
     "execution_count": 15,
     "metadata": {},
     "output_type": "execute_result"
    }
   ],
   "source": [
    "a= np.array([10,22,31,42,55,36,47])\n",
    "v=pd.Series(a,index=['a','b','c','d','e','f','g'])\n",
    "v"
   ]
  },
  {
   "cell_type": "code",
   "execution_count": 16,
   "id": "b912fa51",
   "metadata": {},
   "outputs": [
    {
     "data": {
      "text/plain": [
       "dtype('int32')"
      ]
     },
     "execution_count": 16,
     "metadata": {},
     "output_type": "execute_result"
    }
   ],
   "source": [
    "v.dtype\n"
   ]
  },
  {
   "cell_type": "code",
   "execution_count": 17,
   "id": "9f71c668",
   "metadata": {},
   "outputs": [
    {
     "data": {
      "text/plain": [
       "Index(['a', 'b', 'c', 'd', 'e', 'f', 'g'], dtype='object')"
      ]
     },
     "execution_count": 17,
     "metadata": {},
     "output_type": "execute_result"
    }
   ],
   "source": [
    "v.index"
   ]
  },
  {
   "cell_type": "code",
   "execution_count": 18,
   "id": "07f28b2d",
   "metadata": {},
   "outputs": [
    {
     "data": {
      "text/plain": [
       "(7,)"
      ]
     },
     "execution_count": 18,
     "metadata": {},
     "output_type": "execute_result"
    }
   ],
   "source": [
    "v.shape"
   ]
  },
  {
   "cell_type": "code",
   "execution_count": 19,
   "id": "2a7936e9",
   "metadata": {},
   "outputs": [
    {
     "data": {
      "text/plain": [
       "7"
      ]
     },
     "execution_count": 19,
     "metadata": {},
     "output_type": "execute_result"
    }
   ],
   "source": [
    "v.size"
   ]
  },
  {
   "cell_type": "code",
   "execution_count": 20,
   "id": "3ded9d2f",
   "metadata": {},
   "outputs": [
    {
     "data": {
      "text/plain": [
       "1"
      ]
     },
     "execution_count": 20,
     "metadata": {},
     "output_type": "execute_result"
    }
   ],
   "source": [
    "v.ndim"
   ]
  },
  {
   "cell_type": "code",
   "execution_count": 21,
   "id": "a6780128",
   "metadata": {},
   "outputs": [
    {
     "data": {
      "text/plain": [
       "28"
      ]
     },
     "execution_count": 21,
     "metadata": {},
     "output_type": "execute_result"
    }
   ],
   "source": [
    "v.nbytes"
   ]
  },
  {
   "cell_type": "code",
   "execution_count": 22,
   "id": "dfdf5df0",
   "metadata": {},
   "outputs": [
    {
     "data": {
      "text/plain": [
       "False"
      ]
     },
     "execution_count": 22,
     "metadata": {},
     "output_type": "execute_result"
    }
   ],
   "source": [
    "v.hasnans # to check null values if null then false"
   ]
  },
  {
   "cell_type": "code",
   "execution_count": 23,
   "id": "d630a148",
   "metadata": {},
   "outputs": [
    {
     "data": {
      "text/plain": [
       "False"
      ]
     },
     "execution_count": 23,
     "metadata": {},
     "output_type": "execute_result"
    }
   ],
   "source": [
    "v.empty"
   ]
  },
  {
   "cell_type": "code",
   "execution_count": 24,
   "id": "808eeab5",
   "metadata": {},
   "outputs": [
    {
     "data": {
      "text/plain": [
       "array([10, 22, 31, 42, 55, 36, 47])"
      ]
     },
     "execution_count": 24,
     "metadata": {},
     "output_type": "execute_result"
    }
   ],
   "source": [
    "v.values  #just the values "
   ]
  },
  {
   "cell_type": "code",
   "execution_count": 25,
   "id": "b213f2c8",
   "metadata": {},
   "outputs": [
    {
     "data": {
      "text/plain": [
       "a    10\n",
       "b    22\n",
       "c    31\n",
       "d    42\n",
       "e    55\n",
       "f    36\n",
       "g    47\n",
       "dtype: int32"
      ]
     },
     "execution_count": 25,
     "metadata": {},
     "output_type": "execute_result"
    }
   ],
   "source": [
    "v # here both index and values will come "
   ]
  },
  {
   "cell_type": "code",
   "execution_count": 26,
   "id": "5b80af1b",
   "metadata": {},
   "outputs": [
    {
     "data": {
      "text/plain": [
       "10    1\n",
       "22    1\n",
       "31    1\n",
       "42    1\n",
       "55    1\n",
       "36    1\n",
       "47    1\n",
       "dtype: int64"
      ]
     },
     "execution_count": 26,
     "metadata": {},
     "output_type": "execute_result"
    }
   ],
   "source": [
    "v.value_counts() # to check the counts of each element in array "
   ]
  },
  {
   "cell_type": "code",
   "execution_count": 27,
   "id": "256de442",
   "metadata": {},
   "outputs": [
    {
     "data": {
      "text/plain": [
       "3    5\n",
       "1    4\n",
       "4    4\n",
       "2    1\n",
       "dtype: int64"
      ]
     },
     "execution_count": 27,
     "metadata": {},
     "output_type": "execute_result"
    }
   ],
   "source": [
    "a=pd.Series([1,2,3,4,1,3,3,4,1,3,4,1,3,4])\n",
    "a.value_counts()"
   ]
  },
  {
   "cell_type": "markdown",
   "id": "bb8b2c1f",
   "metadata": {},
   "source": [
    "# Operations in series:"
   ]
  },
  {
   "cell_type": "code",
   "execution_count": 38,
   "id": "98861910",
   "metadata": {},
   "outputs": [
    {
     "name": "stdout",
     "output_type": "stream",
     "text": [
      "0    32\n",
      "1    53\n",
      "2    22\n",
      "dtype: int64\n"
     ]
    },
    {
     "ename": "TypeError",
     "evalue": "f() missing 1 required positional argument: 'other'",
     "output_type": "error",
     "traceback": [
      "\u001b[1;31m---------------------------------------------------------------------------\u001b[0m",
      "\u001b[1;31mTypeError\u001b[0m                                 Traceback (most recent call last)",
      "\u001b[1;32m~\\AppData\\Local\\Temp/ipykernel_2156/3613821353.py\u001b[0m in \u001b[0;36m<module>\u001b[1;34m\u001b[0m\n\u001b[0;32m      6\u001b[0m \u001b[1;33m\u001b[0m\u001b[0m\n\u001b[0;32m      7\u001b[0m \u001b[0mprint\u001b[0m\u001b[1;33m(\u001b[0m\u001b[0mdf\u001b[0m\u001b[1;33m.\u001b[0m\u001b[0msum\u001b[0m\u001b[1;33m(\u001b[0m\u001b[1;33m)\u001b[0m\u001b[1;33m)\u001b[0m\u001b[1;33m\u001b[0m\u001b[1;33m\u001b[0m\u001b[0m\n\u001b[1;32m----> 8\u001b[1;33m \u001b[0mprint\u001b[0m\u001b[1;33m(\u001b[0m\u001b[0mdf\u001b[0m\u001b[1;33m.\u001b[0m\u001b[0msub\u001b[0m\u001b[1;33m(\u001b[0m\u001b[1;33m)\u001b[0m\u001b[1;33m)\u001b[0m\u001b[1;33m\u001b[0m\u001b[1;33m\u001b[0m\u001b[0m\n\u001b[0m\u001b[0;32m      9\u001b[0m \u001b[0mprint\u001b[0m\u001b[1;33m(\u001b[0m\u001b[0mdf\u001b[0m\u001b[1;33m.\u001b[0m\u001b[0mmul\u001b[0m\u001b[1;33m(\u001b[0m\u001b[1;33m)\u001b[0m\u001b[1;33m)\u001b[0m\u001b[1;33m\u001b[0m\u001b[1;33m\u001b[0m\u001b[0m\n\u001b[0;32m     10\u001b[0m \u001b[0mprint\u001b[0m\u001b[1;33m(\u001b[0m\u001b[0mdf\u001b[0m\u001b[1;33m.\u001b[0m\u001b[0mdiv\u001b[0m\u001b[1;33m(\u001b[0m\u001b[1;33m)\u001b[0m\u001b[1;33m)\u001b[0m\u001b[1;33m\u001b[0m\u001b[1;33m\u001b[0m\u001b[0m\n",
      "\u001b[1;31mTypeError\u001b[0m: f() missing 1 required positional argument: 'other'"
     ]
    }
   ],
   "source": [
    "import pandas as pd\n",
    "\n",
    "data = [[10, 18, 11], [13, 15, 8], [9, 20, 3]]\n",
    "\n",
    "df = pd.DataFrame(data)\n",
    "\n",
    "print(df.sum())\n",
    "print(df.sub())\n",
    "print(df.mul())\n",
    "print(df.div())"
   ]
  },
  {
   "cell_type": "code",
   "execution_count": 35,
   "id": "83013b02",
   "metadata": {},
   "outputs": [
    {
     "ename": "AttributeError",
     "evalue": "'list' object has no attribute 'max'",
     "output_type": "error",
     "traceback": [
      "\u001b[1;31m---------------------------------------------------------------------------\u001b[0m",
      "\u001b[1;31mAttributeError\u001b[0m                            Traceback (most recent call last)",
      "\u001b[1;32m~\\AppData\\Local\\Temp/ipykernel_2156/312136800.py\u001b[0m in \u001b[0;36m<module>\u001b[1;34m\u001b[0m\n\u001b[1;32m----> 1\u001b[1;33m \u001b[0ms1\u001b[0m\u001b[1;33m.\u001b[0m\u001b[0mmax\u001b[0m\u001b[1;33m(\u001b[0m\u001b[1;33m)\u001b[0m\u001b[1;33m\u001b[0m\u001b[1;33m\u001b[0m\u001b[0m\n\u001b[0m",
      "\u001b[1;31mAttributeError\u001b[0m: 'list' object has no attribute 'max'"
     ]
    }
   ],
   "source": [
    "s1.max()"
   ]
  },
  {
   "cell_type": "code",
   "execution_count": 39,
   "id": "c6ca5ebd",
   "metadata": {},
   "outputs": [
    {
     "name": "stdout",
     "output_type": "stream",
     "text": [
      "Empty DataFrame\n",
      "Columns: []\n",
      "Index: []\n"
     ]
    }
   ],
   "source": [
    "# creating a empty dataframe\n",
    "\n",
    "a=pd.DataFrame()\n",
    "print(a)"
   ]
  },
  {
   "cell_type": "code",
   "execution_count": 44,
   "id": "4c91fb25",
   "metadata": {},
   "outputs": [
    {
     "data": {
      "text/html": [
       "<div>\n",
       "<style scoped>\n",
       "    .dataframe tbody tr th:only-of-type {\n",
       "        vertical-align: middle;\n",
       "    }\n",
       "\n",
       "    .dataframe tbody tr th {\n",
       "        vertical-align: top;\n",
       "    }\n",
       "\n",
       "    .dataframe thead th {\n",
       "        text-align: right;\n",
       "    }\n",
       "</style>\n",
       "<table border=\"1\" class=\"dataframe\">\n",
       "  <thead>\n",
       "    <tr style=\"text-align: right;\">\n",
       "      <th></th>\n",
       "      <th>0</th>\n",
       "    </tr>\n",
       "  </thead>\n",
       "  <tbody>\n",
       "    <tr>\n",
       "      <th>0</th>\n",
       "      <td>divya</td>\n",
       "    </tr>\n",
       "    <tr>\n",
       "      <th>1</th>\n",
       "      <td>hiteesh</td>\n",
       "    </tr>\n",
       "    <tr>\n",
       "      <th>2</th>\n",
       "      <td>pavani</td>\n",
       "    </tr>\n",
       "    <tr>\n",
       "      <th>3</th>\n",
       "      <td>sushmitha</td>\n",
       "    </tr>\n",
       "  </tbody>\n",
       "</table>\n",
       "</div>"
      ],
      "text/plain": [
       "           0\n",
       "0      divya\n",
       "1    hiteesh\n",
       "2     pavani\n",
       "3  sushmitha"
      ]
     },
     "execution_count": 44,
     "metadata": {},
     "output_type": "execute_result"
    }
   ],
   "source": [
    "# create dataframe from list\n",
    "\n",
    "list=([\"divya\",\"hiteesh\",\"pavani\",\"sushmitha\"])\n",
    "d=pd.DataFrame(list)\n",
    "d"
   ]
  },
  {
   "cell_type": "code",
   "execution_count": 45,
   "id": "f9fff212",
   "metadata": {},
   "outputs": [
    {
     "data": {
      "text/html": [
       "<div>\n",
       "<style scoped>\n",
       "    .dataframe tbody tr th:only-of-type {\n",
       "        vertical-align: middle;\n",
       "    }\n",
       "\n",
       "    .dataframe tbody tr th {\n",
       "        vertical-align: top;\n",
       "    }\n",
       "\n",
       "    .dataframe thead th {\n",
       "        text-align: right;\n",
       "    }\n",
       "</style>\n",
       "<table border=\"1\" class=\"dataframe\">\n",
       "  <thead>\n",
       "    <tr style=\"text-align: right;\">\n",
       "      <th></th>\n",
       "      <th>0</th>\n",
       "      <th>1</th>\n",
       "    </tr>\n",
       "  </thead>\n",
       "  <tbody>\n",
       "    <tr>\n",
       "      <th>0</th>\n",
       "      <td>divya</td>\n",
       "      <td>95</td>\n",
       "    </tr>\n",
       "    <tr>\n",
       "      <th>1</th>\n",
       "      <td>hiteesh</td>\n",
       "      <td>85</td>\n",
       "    </tr>\n",
       "    <tr>\n",
       "      <th>2</th>\n",
       "      <td>pavani</td>\n",
       "      <td>73</td>\n",
       "    </tr>\n",
       "    <tr>\n",
       "      <th>3</th>\n",
       "      <td>sushmitha</td>\n",
       "      <td>81</td>\n",
       "    </tr>\n",
       "  </tbody>\n",
       "</table>\n",
       "</div>"
      ],
      "text/plain": [
       "           0   1\n",
       "0      divya  95\n",
       "1    hiteesh  85\n",
       "2     pavani  73\n",
       "3  sushmitha  81"
      ]
     },
     "execution_count": 45,
     "metadata": {},
     "output_type": "execute_result"
    }
   ],
   "source": [
    "# add columns is dataframe\n",
    "\n",
    "marks=[95,85,73,81]\n",
    "d[1]=marks\n",
    "d"
   ]
  },
  {
   "cell_type": "code",
   "execution_count": 46,
   "id": "477526e5",
   "metadata": {},
   "outputs": [
    {
     "data": {
      "text/html": [
       "<div>\n",
       "<style scoped>\n",
       "    .dataframe tbody tr th:only-of-type {\n",
       "        vertical-align: middle;\n",
       "    }\n",
       "\n",
       "    .dataframe tbody tr th {\n",
       "        vertical-align: top;\n",
       "    }\n",
       "\n",
       "    .dataframe thead th {\n",
       "        text-align: right;\n",
       "    }\n",
       "</style>\n",
       "<table border=\"1\" class=\"dataframe\">\n",
       "  <thead>\n",
       "    <tr style=\"text-align: right;\">\n",
       "      <th></th>\n",
       "      <th>name</th>\n",
       "      <th>marks</th>\n",
       "    </tr>\n",
       "  </thead>\n",
       "  <tbody>\n",
       "    <tr>\n",
       "      <th>0</th>\n",
       "      <td>divya</td>\n",
       "      <td>95</td>\n",
       "    </tr>\n",
       "    <tr>\n",
       "      <th>1</th>\n",
       "      <td>hiteesh</td>\n",
       "      <td>85</td>\n",
       "    </tr>\n",
       "    <tr>\n",
       "      <th>2</th>\n",
       "      <td>pavani</td>\n",
       "      <td>73</td>\n",
       "    </tr>\n",
       "    <tr>\n",
       "      <th>3</th>\n",
       "      <td>sushmitha</td>\n",
       "      <td>81</td>\n",
       "    </tr>\n",
       "  </tbody>\n",
       "</table>\n",
       "</div>"
      ],
      "text/plain": [
       "        name  marks\n",
       "0      divya     95\n",
       "1    hiteesh     85\n",
       "2     pavani     73\n",
       "3  sushmitha     81"
      ]
     },
     "execution_count": 46,
     "metadata": {},
     "output_type": "execute_result"
    }
   ],
   "source": [
    "# give name to columns\n",
    "\n",
    "d.columns=[\"name\",\"marks\"]\n",
    "d"
   ]
  },
  {
   "cell_type": "code",
   "execution_count": 47,
   "id": "f6e2ddeb",
   "metadata": {},
   "outputs": [
    {
     "data": {
      "text/html": [
       "<div>\n",
       "<style scoped>\n",
       "    .dataframe tbody tr th:only-of-type {\n",
       "        vertical-align: middle;\n",
       "    }\n",
       "\n",
       "    .dataframe tbody tr th {\n",
       "        vertical-align: top;\n",
       "    }\n",
       "\n",
       "    .dataframe thead th {\n",
       "        text-align: right;\n",
       "    }\n",
       "</style>\n",
       "<table border=\"1\" class=\"dataframe\">\n",
       "  <thead>\n",
       "    <tr style=\"text-align: right;\">\n",
       "      <th></th>\n",
       "      <th>ID</th>\n",
       "      <th>NAME</th>\n",
       "    </tr>\n",
       "  </thead>\n",
       "  <tbody>\n",
       "    <tr>\n",
       "      <th>0</th>\n",
       "      <td>1</td>\n",
       "      <td>Akhil</td>\n",
       "    </tr>\n",
       "    <tr>\n",
       "      <th>1</th>\n",
       "      <td>2</td>\n",
       "      <td>Ashish</td>\n",
       "    </tr>\n",
       "    <tr>\n",
       "      <th>2</th>\n",
       "      <td>3</td>\n",
       "      <td>Ajay</td>\n",
       "    </tr>\n",
       "    <tr>\n",
       "      <th>3</th>\n",
       "      <td>4</td>\n",
       "      <td>Arun</td>\n",
       "    </tr>\n",
       "  </tbody>\n",
       "</table>\n",
       "</div>"
      ],
      "text/plain": [
       "   ID    NAME\n",
       "0   1   Akhil\n",
       "1   2  Ashish\n",
       "2   3    Ajay\n",
       "3   4    Arun"
      ]
     },
     "execution_count": 47,
     "metadata": {},
     "output_type": "execute_result"
    }
   ],
   "source": [
    "# create dataframe from dict\n",
    "\n",
    "d1=pd.DataFrame({\"ID\":[1,2,3,4],\"NAME\":[\"Akhil\",\"Ashish\",\"Ajay\",\"Arun\"]})\n",
    "d1"
   ]
  },
  {
   "cell_type": "code",
   "execution_count": 55,
   "id": "6eb07949",
   "metadata": {},
   "outputs": [
    {
     "data": {
      "text/plain": [
       "array([[0.02004917, 0.62974715, 0.61135775, 0.27958691, 0.24487157],\n",
       "       [0.20638781, 0.8314748 , 0.43858457, 0.37072738, 0.26534535],\n",
       "       [0.85601501, 0.24851027, 0.79869305, 0.66795188, 0.97299321],\n",
       "       [0.69109054, 0.2627595 , 0.15997254, 0.88409056, 0.74011828],\n",
       "       [0.40323055, 0.52814053, 0.45415487, 0.38991072, 0.72232943]])"
      ]
     },
     "execution_count": 55,
     "metadata": {},
     "output_type": "execute_result"
    }
   ],
   "source": [
    "# create dataframe from random values\n",
    "\n",
    "r=np.random.random((5,5))\n",
    "r"
   ]
  },
  {
   "cell_type": "code",
   "execution_count": 56,
   "id": "a3f27c39",
   "metadata": {},
   "outputs": [
    {
     "data": {
      "text/html": [
       "<div>\n",
       "<style scoped>\n",
       "    .dataframe tbody tr th:only-of-type {\n",
       "        vertical-align: middle;\n",
       "    }\n",
       "\n",
       "    .dataframe tbody tr th {\n",
       "        vertical-align: top;\n",
       "    }\n",
       "\n",
       "    .dataframe thead th {\n",
       "        text-align: right;\n",
       "    }\n",
       "</style>\n",
       "<table border=\"1\" class=\"dataframe\">\n",
       "  <thead>\n",
       "    <tr style=\"text-align: right;\">\n",
       "      <th></th>\n",
       "      <th>0</th>\n",
       "      <th>1</th>\n",
       "      <th>2</th>\n",
       "      <th>3</th>\n",
       "      <th>4</th>\n",
       "    </tr>\n",
       "  </thead>\n",
       "  <tbody>\n",
       "    <tr>\n",
       "      <th>0</th>\n",
       "      <td>0.020049</td>\n",
       "      <td>0.629747</td>\n",
       "      <td>0.611358</td>\n",
       "      <td>0.279587</td>\n",
       "      <td>0.244872</td>\n",
       "    </tr>\n",
       "    <tr>\n",
       "      <th>1</th>\n",
       "      <td>0.206388</td>\n",
       "      <td>0.831475</td>\n",
       "      <td>0.438585</td>\n",
       "      <td>0.370727</td>\n",
       "      <td>0.265345</td>\n",
       "    </tr>\n",
       "    <tr>\n",
       "      <th>2</th>\n",
       "      <td>0.856015</td>\n",
       "      <td>0.248510</td>\n",
       "      <td>0.798693</td>\n",
       "      <td>0.667952</td>\n",
       "      <td>0.972993</td>\n",
       "    </tr>\n",
       "    <tr>\n",
       "      <th>3</th>\n",
       "      <td>0.691091</td>\n",
       "      <td>0.262759</td>\n",
       "      <td>0.159973</td>\n",
       "      <td>0.884091</td>\n",
       "      <td>0.740118</td>\n",
       "    </tr>\n",
       "    <tr>\n",
       "      <th>4</th>\n",
       "      <td>0.403231</td>\n",
       "      <td>0.528141</td>\n",
       "      <td>0.454155</td>\n",
       "      <td>0.389911</td>\n",
       "      <td>0.722329</td>\n",
       "    </tr>\n",
       "  </tbody>\n",
       "</table>\n",
       "</div>"
      ],
      "text/plain": [
       "          0         1         2         3         4\n",
       "0  0.020049  0.629747  0.611358  0.279587  0.244872\n",
       "1  0.206388  0.831475  0.438585  0.370727  0.265345\n",
       "2  0.856015  0.248510  0.798693  0.667952  0.972993\n",
       "3  0.691091  0.262759  0.159973  0.884091  0.740118\n",
       "4  0.403231  0.528141  0.454155  0.389911  0.722329"
      ]
     },
     "execution_count": 56,
     "metadata": {},
     "output_type": "execute_result"
    }
   ],
   "source": [
    "d2=pd.DataFrame(r)\n",
    "d2"
   ]
  },
  {
   "cell_type": "code",
   "execution_count": 58,
   "id": "f43a62f7",
   "metadata": {},
   "outputs": [
    {
     "data": {
      "text/plain": [
       "DatetimeIndex(['2022-02-11 10:23:21.555737', '2022-02-12 10:23:21.555737',\n",
       "               '2022-02-13 10:23:21.555737', '2022-02-14 10:23:21.555737',\n",
       "               '2022-02-15 10:23:21.555737', '2022-02-16 10:23:21.555737',\n",
       "               '2022-02-17 10:23:21.555737'],\n",
       "              dtype='datetime64[ns]', freq='D')"
      ]
     },
     "execution_count": 58,
     "metadata": {},
     "output_type": "execute_result"
    }
   ],
   "source": [
    "date1=pd.date_range(\"today\",periods=7)\n",
    "date1"
   ]
  },
  {
   "cell_type": "code",
   "execution_count": 68,
   "id": "4249e402",
   "metadata": {},
   "outputs": [
    {
     "data": {
      "text/plain": [
       "DatetimeIndex(['2022-05-21', '2022-05-22', '2022-05-23', '2022-05-24',\n",
       "               '2022-05-25'],\n",
       "              dtype='datetime64[ns]', freq='D')"
      ]
     },
     "execution_count": 68,
     "metadata": {},
     "output_type": "execute_result"
    }
   ],
   "source": [
    "date2=pd.date_range(start=\"2022-05-21\",end=\"2022-05-25\")\n",
    "date2"
   ]
  },
  {
   "cell_type": "code",
   "execution_count": 71,
   "id": "45d3eb8a",
   "metadata": {},
   "outputs": [
    {
     "data": {
      "text/plain": [
       "DatetimeIndex(['2022-05-21', '2022-05-22', '2022-05-23', '2022-05-24',\n",
       "               '2022-05-25'],\n",
       "              dtype='datetime64[ns]', freq='D')"
      ]
     },
     "execution_count": 71,
     "metadata": {},
     "output_type": "execute_result"
    }
   ],
   "source": [
    "date3=pd.date_range(start=\"2022-05-21\",periods=5)\n",
    "date3"
   ]
  },
  {
   "cell_type": "code",
   "execution_count": 69,
   "id": "809849c2",
   "metadata": {},
   "outputs": [
    {
     "data": {
      "text/html": [
       "<div>\n",
       "<style scoped>\n",
       "    .dataframe tbody tr th:only-of-type {\n",
       "        vertical-align: middle;\n",
       "    }\n",
       "\n",
       "    .dataframe tbody tr th {\n",
       "        vertical-align: top;\n",
       "    }\n",
       "\n",
       "    .dataframe thead th {\n",
       "        text-align: right;\n",
       "    }\n",
       "</style>\n",
       "<table border=\"1\" class=\"dataframe\">\n",
       "  <thead>\n",
       "    <tr style=\"text-align: right;\">\n",
       "      <th></th>\n",
       "      <th>0</th>\n",
       "      <th>1</th>\n",
       "      <th>2</th>\n",
       "      <th>3</th>\n",
       "      <th>4</th>\n",
       "    </tr>\n",
       "  </thead>\n",
       "  <tbody>\n",
       "    <tr>\n",
       "      <th>0</th>\n",
       "      <td>0.020049</td>\n",
       "      <td>0.629747</td>\n",
       "      <td>0.611358</td>\n",
       "      <td>0.279587</td>\n",
       "      <td>0.244872</td>\n",
       "    </tr>\n",
       "    <tr>\n",
       "      <th>1</th>\n",
       "      <td>0.206388</td>\n",
       "      <td>0.831475</td>\n",
       "      <td>0.438585</td>\n",
       "      <td>0.370727</td>\n",
       "      <td>0.265345</td>\n",
       "    </tr>\n",
       "    <tr>\n",
       "      <th>2</th>\n",
       "      <td>0.856015</td>\n",
       "      <td>0.248510</td>\n",
       "      <td>0.798693</td>\n",
       "      <td>0.667952</td>\n",
       "      <td>0.972993</td>\n",
       "    </tr>\n",
       "    <tr>\n",
       "      <th>3</th>\n",
       "      <td>0.691091</td>\n",
       "      <td>0.262759</td>\n",
       "      <td>0.159973</td>\n",
       "      <td>0.884091</td>\n",
       "      <td>0.740118</td>\n",
       "    </tr>\n",
       "    <tr>\n",
       "      <th>4</th>\n",
       "      <td>0.403231</td>\n",
       "      <td>0.528141</td>\n",
       "      <td>0.454155</td>\n",
       "      <td>0.389911</td>\n",
       "      <td>0.722329</td>\n",
       "    </tr>\n",
       "  </tbody>\n",
       "</table>\n",
       "</div>"
      ],
      "text/plain": [
       "          0         1         2         3         4\n",
       "0  0.020049  0.629747  0.611358  0.279587  0.244872\n",
       "1  0.206388  0.831475  0.438585  0.370727  0.265345\n",
       "2  0.856015  0.248510  0.798693  0.667952  0.972993\n",
       "3  0.691091  0.262759  0.159973  0.884091  0.740118\n",
       "4  0.403231  0.528141  0.454155  0.389911  0.722329"
      ]
     },
     "execution_count": 69,
     "metadata": {},
     "output_type": "execute_result"
    }
   ],
   "source": [
    "d2=pd.DataFrame(r)\n",
    "d2"
   ]
  },
  {
   "cell_type": "code",
   "execution_count": 72,
   "id": "6bb63bc4",
   "metadata": {},
   "outputs": [
    {
     "data": {
      "text/html": [
       "<div>\n",
       "<style scoped>\n",
       "    .dataframe tbody tr th:only-of-type {\n",
       "        vertical-align: middle;\n",
       "    }\n",
       "\n",
       "    .dataframe tbody tr th {\n",
       "        vertical-align: top;\n",
       "    }\n",
       "\n",
       "    .dataframe thead th {\n",
       "        text-align: right;\n",
       "    }\n",
       "</style>\n",
       "<table border=\"1\" class=\"dataframe\">\n",
       "  <thead>\n",
       "    <tr style=\"text-align: right;\">\n",
       "      <th></th>\n",
       "      <th>0</th>\n",
       "      <th>1</th>\n",
       "      <th>2</th>\n",
       "      <th>3</th>\n",
       "      <th>4</th>\n",
       "    </tr>\n",
       "  </thead>\n",
       "  <tbody>\n",
       "    <tr>\n",
       "      <th>2022-05-21</th>\n",
       "      <td>0.020049</td>\n",
       "      <td>0.629747</td>\n",
       "      <td>0.611358</td>\n",
       "      <td>0.279587</td>\n",
       "      <td>0.244872</td>\n",
       "    </tr>\n",
       "    <tr>\n",
       "      <th>2022-05-22</th>\n",
       "      <td>0.206388</td>\n",
       "      <td>0.831475</td>\n",
       "      <td>0.438585</td>\n",
       "      <td>0.370727</td>\n",
       "      <td>0.265345</td>\n",
       "    </tr>\n",
       "    <tr>\n",
       "      <th>2022-05-23</th>\n",
       "      <td>0.856015</td>\n",
       "      <td>0.248510</td>\n",
       "      <td>0.798693</td>\n",
       "      <td>0.667952</td>\n",
       "      <td>0.972993</td>\n",
       "    </tr>\n",
       "    <tr>\n",
       "      <th>2022-05-24</th>\n",
       "      <td>0.691091</td>\n",
       "      <td>0.262759</td>\n",
       "      <td>0.159973</td>\n",
       "      <td>0.884091</td>\n",
       "      <td>0.740118</td>\n",
       "    </tr>\n",
       "    <tr>\n",
       "      <th>2022-05-25</th>\n",
       "      <td>0.403231</td>\n",
       "      <td>0.528141</td>\n",
       "      <td>0.454155</td>\n",
       "      <td>0.389911</td>\n",
       "      <td>0.722329</td>\n",
       "    </tr>\n",
       "  </tbody>\n",
       "</table>\n",
       "</div>"
      ],
      "text/plain": [
       "                   0         1         2         3         4\n",
       "2022-05-21  0.020049  0.629747  0.611358  0.279587  0.244872\n",
       "2022-05-22  0.206388  0.831475  0.438585  0.370727  0.265345\n",
       "2022-05-23  0.856015  0.248510  0.798693  0.667952  0.972993\n",
       "2022-05-24  0.691091  0.262759  0.159973  0.884091  0.740118\n",
       "2022-05-25  0.403231  0.528141  0.454155  0.389911  0.722329"
      ]
     },
     "execution_count": 72,
     "metadata": {},
     "output_type": "execute_result"
    }
   ],
   "source": [
    "d2=pd.DataFrame(r,date3)\n",
    "d2"
   ]
  },
  {
   "cell_type": "code",
   "execution_count": 74,
   "id": "4039b2cb",
   "metadata": {},
   "outputs": [
    {
     "data": {
      "text/html": [
       "<div>\n",
       "<style scoped>\n",
       "    .dataframe tbody tr th:only-of-type {\n",
       "        vertical-align: middle;\n",
       "    }\n",
       "\n",
       "    .dataframe tbody tr th {\n",
       "        vertical-align: top;\n",
       "    }\n",
       "\n",
       "    .dataframe thead th {\n",
       "        text-align: right;\n",
       "    }\n",
       "</style>\n",
       "<table border=\"1\" class=\"dataframe\">\n",
       "  <thead>\n",
       "    <tr style=\"text-align: right;\">\n",
       "      <th></th>\n",
       "      <th>A</th>\n",
       "      <th>B</th>\n",
       "      <th>C</th>\n",
       "      <th>D</th>\n",
       "      <th>E</th>\n",
       "    </tr>\n",
       "  </thead>\n",
       "  <tbody>\n",
       "    <tr>\n",
       "      <th>2022-05-21</th>\n",
       "      <td>0.020049</td>\n",
       "      <td>0.629747</td>\n",
       "      <td>0.611358</td>\n",
       "      <td>0.279587</td>\n",
       "      <td>0.244872</td>\n",
       "    </tr>\n",
       "    <tr>\n",
       "      <th>2022-05-22</th>\n",
       "      <td>0.206388</td>\n",
       "      <td>0.831475</td>\n",
       "      <td>0.438585</td>\n",
       "      <td>0.370727</td>\n",
       "      <td>0.265345</td>\n",
       "    </tr>\n",
       "    <tr>\n",
       "      <th>2022-05-23</th>\n",
       "      <td>0.856015</td>\n",
       "      <td>0.248510</td>\n",
       "      <td>0.798693</td>\n",
       "      <td>0.667952</td>\n",
       "      <td>0.972993</td>\n",
       "    </tr>\n",
       "    <tr>\n",
       "      <th>2022-05-24</th>\n",
       "      <td>0.691091</td>\n",
       "      <td>0.262759</td>\n",
       "      <td>0.159973</td>\n",
       "      <td>0.884091</td>\n",
       "      <td>0.740118</td>\n",
       "    </tr>\n",
       "    <tr>\n",
       "      <th>2022-05-25</th>\n",
       "      <td>0.403231</td>\n",
       "      <td>0.528141</td>\n",
       "      <td>0.454155</td>\n",
       "      <td>0.389911</td>\n",
       "      <td>0.722329</td>\n",
       "    </tr>\n",
       "  </tbody>\n",
       "</table>\n",
       "</div>"
      ],
      "text/plain": [
       "                   A         B         C         D         E\n",
       "2022-05-21  0.020049  0.629747  0.611358  0.279587  0.244872\n",
       "2022-05-22  0.206388  0.831475  0.438585  0.370727  0.265345\n",
       "2022-05-23  0.856015  0.248510  0.798693  0.667952  0.972993\n",
       "2022-05-24  0.691091  0.262759  0.159973  0.884091  0.740118\n",
       "2022-05-25  0.403231  0.528141  0.454155  0.389911  0.722329"
      ]
     },
     "execution_count": 74,
     "metadata": {},
     "output_type": "execute_result"
    }
   ],
   "source": [
    "# changing the columns names\n",
    "\n",
    "d2.columns=[\"A\",\"B\",\"C\",\"D\",\"E\"]\n",
    "d2"
   ]
  },
  {
   "cell_type": "code",
   "execution_count": 75,
   "id": "262c48fe",
   "metadata": {},
   "outputs": [
    {
     "data": {
      "text/plain": [
       "DatetimeIndex(['2022-05-21', '2022-05-22', '2022-05-23', '2022-05-24',\n",
       "               '2022-05-25'],\n",
       "              dtype='datetime64[ns]', freq='D')"
      ]
     },
     "execution_count": 75,
     "metadata": {},
     "output_type": "execute_result"
    }
   ],
   "source": [
    "# list index\n",
    "\n",
    "d2.index"
   ]
  },
  {
   "cell_type": "code",
   "execution_count": 76,
   "id": "9bb353be",
   "metadata": {},
   "outputs": [
    {
     "data": {
      "text/plain": [
       "Index(['A', 'B', 'C', 'D', 'E'], dtype='object')"
      ]
     },
     "execution_count": 76,
     "metadata": {},
     "output_type": "execute_result"
    }
   ],
   "source": [
    "# list column names\n",
    "\n",
    "d2.columns"
   ]
  },
  {
   "cell_type": "code",
   "execution_count": 77,
   "id": "e2cefbfb",
   "metadata": {},
   "outputs": [
    {
     "data": {
      "text/plain": [
       "A    float64\n",
       "B    float64\n",
       "C    float64\n",
       "D    float64\n",
       "E    float64\n",
       "dtype: object"
      ]
     },
     "execution_count": 77,
     "metadata": {},
     "output_type": "execute_result"
    }
   ],
   "source": [
    "# datatypes of each column\n",
    "\n",
    "d2.dtypes"
   ]
  },
  {
   "cell_type": "code",
   "execution_count": 88,
   "id": "1676e8a2",
   "metadata": {},
   "outputs": [
    {
     "data": {
      "text/html": [
       "<div>\n",
       "<style scoped>\n",
       "    .dataframe tbody tr th:only-of-type {\n",
       "        vertical-align: middle;\n",
       "    }\n",
       "\n",
       "    .dataframe tbody tr th {\n",
       "        vertical-align: top;\n",
       "    }\n",
       "\n",
       "    .dataframe thead th {\n",
       "        text-align: right;\n",
       "    }\n",
       "</style>\n",
       "<table border=\"1\" class=\"dataframe\">\n",
       "  <thead>\n",
       "    <tr style=\"text-align: right;\">\n",
       "      <th></th>\n",
       "      <th>A</th>\n",
       "      <th>B</th>\n",
       "      <th>C</th>\n",
       "      <th>D</th>\n",
       "      <th>E</th>\n",
       "    </tr>\n",
       "  </thead>\n",
       "  <tbody>\n",
       "    <tr>\n",
       "      <th>2022-05-21</th>\n",
       "      <td>0.020049</td>\n",
       "      <td>0.629747</td>\n",
       "      <td>0.611358</td>\n",
       "      <td>0.279587</td>\n",
       "      <td>0.244872</td>\n",
       "    </tr>\n",
       "    <tr>\n",
       "      <th>2022-05-22</th>\n",
       "      <td>0.206388</td>\n",
       "      <td>0.831475</td>\n",
       "      <td>0.438585</td>\n",
       "      <td>0.370727</td>\n",
       "      <td>0.265345</td>\n",
       "    </tr>\n",
       "    <tr>\n",
       "      <th>2022-05-25</th>\n",
       "      <td>0.403231</td>\n",
       "      <td>0.528141</td>\n",
       "      <td>0.454155</td>\n",
       "      <td>0.389911</td>\n",
       "      <td>0.722329</td>\n",
       "    </tr>\n",
       "    <tr>\n",
       "      <th>2022-05-24</th>\n",
       "      <td>0.691091</td>\n",
       "      <td>0.262759</td>\n",
       "      <td>0.159973</td>\n",
       "      <td>0.884091</td>\n",
       "      <td>0.740118</td>\n",
       "    </tr>\n",
       "    <tr>\n",
       "      <th>2022-05-23</th>\n",
       "      <td>0.856015</td>\n",
       "      <td>0.248510</td>\n",
       "      <td>0.798693</td>\n",
       "      <td>0.667952</td>\n",
       "      <td>0.972993</td>\n",
       "    </tr>\n",
       "  </tbody>\n",
       "</table>\n",
       "</div>"
      ],
      "text/plain": [
       "                   A         B         C         D         E\n",
       "2022-05-21  0.020049  0.629747  0.611358  0.279587  0.244872\n",
       "2022-05-22  0.206388  0.831475  0.438585  0.370727  0.265345\n",
       "2022-05-25  0.403231  0.528141  0.454155  0.389911  0.722329\n",
       "2022-05-24  0.691091  0.262759  0.159973  0.884091  0.740118\n",
       "2022-05-23  0.856015  0.248510  0.798693  0.667952  0.972993"
      ]
     },
     "execution_count": 88,
     "metadata": {},
     "output_type": "execute_result"
    }
   ],
   "source": [
    "# sort dataframe by column \"A\" in ascending order\n",
    "\n",
    "d2.sort_values(by=\"A\")\n",
    "d2.sort_values(by=\"B\")\n",
    "d2.sort_values(by=\"C\")\n",
    "d2.sort_values(by=\"D\")\n",
    "d2.sort_values(by=\"E\")"
   ]
  },
  {
   "cell_type": "code",
   "execution_count": null,
   "id": "d80184eb",
   "metadata": {},
   "outputs": [],
   "source": [
    "Delete column in dataframe"
   ]
  },
  {
   "cell_type": "code",
   "execution_count": null,
   "id": "8dbe6aae",
   "metadata": {},
   "outputs": [],
   "source": []
  },
  {
   "cell_type": "code",
   "execution_count": null,
   "id": "c8eb8deb",
   "metadata": {},
   "outputs": [],
   "source": []
  },
  {
   "cell_type": "code",
   "execution_count": null,
   "id": "73d958b1",
   "metadata": {},
   "outputs": [],
   "source": []
  }
 ],
 "metadata": {
  "kernelspec": {
   "display_name": "Python 3 (ipykernel)",
   "language": "python",
   "name": "python3"
  },
  "language_info": {
   "codemirror_mode": {
    "name": "ipython",
    "version": 3
   },
   "file_extension": ".py",
   "mimetype": "text/x-python",
   "name": "python",
   "nbconvert_exporter": "python",
   "pygments_lexer": "ipython3",
   "version": "3.9.7"
  }
 },
 "nbformat": 4,
 "nbformat_minor": 5
}
