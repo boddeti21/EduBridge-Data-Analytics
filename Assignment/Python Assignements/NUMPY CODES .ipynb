{
 "cells": [
  {
   "cell_type": "markdown",
   "id": "208ba14f",
   "metadata": {},
   "source": [
    "NUMPY CODES FOR DATA ANALYSIS "
   ]
  },
  {
   "cell_type": "markdown",
   "id": "bd4bac65",
   "metadata": {},
   "source": [
    "Numpy is a python package that stands for numerical python\n",
    "it is the core library for scientific computing which contains a powerful n- dimensional array object.\n",
    "\n"
   ]
  },
  {
   "cell_type": "markdown",
   "id": "04929038",
   "metadata": {},
   "source": [
    "import library \"numpy\""
   ]
  },
  {
   "cell_type": "code",
   "execution_count": 16,
   "id": "49e08a0f",
   "metadata": {},
   "outputs": [],
   "source": [
    "import numpy as np "
   ]
  },
  {
   "cell_type": "raw",
   "id": "8e9eb131",
   "metadata": {},
   "source": [
    "np.array()\n",
    "to create a basic array "
   ]
  },
  {
   "cell_type": "code",
   "execution_count": 17,
   "id": "c5c8d4fa",
   "metadata": {},
   "outputs": [
    {
     "data": {
      "text/plain": [
       "[12, 23, 34, 45, 56, 56]"
      ]
     },
     "execution_count": 17,
     "metadata": {},
     "output_type": "execute_result"
    }
   ],
   "source": [
    "l= [12,23,34,45,56,56]\n",
    "l"
   ]
  },
  {
   "cell_type": "markdown",
   "id": "ecced613",
   "metadata": {},
   "source": [
    "Display the type of an object "
   ]
  },
  {
   "cell_type": "code",
   "execution_count": 18,
   "id": "95262037",
   "metadata": {},
   "outputs": [
    {
     "data": {
      "text/plain": [
       "list"
      ]
     },
     "execution_count": 18,
     "metadata": {},
     "output_type": "execute_result"
    }
   ],
   "source": [
    "type(l)\n"
   ]
  },
  {
   "cell_type": "raw",
   "id": "d5d9d39d",
   "metadata": {},
   "source": [
    "convert list to numpy array"
   ]
  },
  {
   "cell_type": "code",
   "execution_count": 19,
   "id": "010d948b",
   "metadata": {},
   "outputs": [
    {
     "data": {
      "text/plain": [
       "array([12, 23, 34, 45, 56, 56])"
      ]
     },
     "execution_count": 19,
     "metadata": {},
     "output_type": "execute_result"
    }
   ],
   "source": [
    "A=np.array(l)\n",
    "A\n"
   ]
  },
  {
   "cell_type": "code",
   "execution_count": 20,
   "id": "04e7059c",
   "metadata": {},
   "outputs": [
    {
     "data": {
      "text/plain": [
       "numpy.ndarray"
      ]
     },
     "execution_count": 20,
     "metadata": {},
     "output_type": "execute_result"
    }
   ],
   "source": [
    "type(A)"
   ]
  },
  {
   "cell_type": "code",
   "execution_count": 6,
   "id": "769db78d",
   "metadata": {},
   "outputs": [
    {
     "data": {
      "text/plain": [
       "<memory at 0x000001EC21118400>"
      ]
     },
     "execution_count": 6,
     "metadata": {},
     "output_type": "execute_result"
    }
   ],
   "source": [
    "A.data"
   ]
  },
  {
   "cell_type": "code",
   "execution_count": 7,
   "id": "94861804",
   "metadata": {},
   "outputs": [
    {
     "data": {
      "text/plain": [
       "dtype('int32')"
      ]
     },
     "execution_count": 7,
     "metadata": {},
     "output_type": "execute_result"
    }
   ],
   "source": [
    "A.dtype"
   ]
  },
  {
   "cell_type": "raw",
   "id": "b672ecf5",
   "metadata": {},
   "source": [
    " convert integer array to float"
   ]
  },
  {
   "cell_type": "code",
   "execution_count": 8,
   "id": "ff006df4",
   "metadata": {},
   "outputs": [],
   "source": [
    "A=A.astype(float)\n"
   ]
  },
  {
   "cell_type": "code",
   "execution_count": 9,
   "id": "5ba6fa1c",
   "metadata": {},
   "outputs": [
    {
     "data": {
      "text/plain": [
       "array([12., 23., 34., 45., 56., 56.])"
      ]
     },
     "execution_count": 9,
     "metadata": {},
     "output_type": "execute_result"
    }
   ],
   "source": [
    "A"
   ]
  },
  {
   "cell_type": "code",
   "execution_count": 10,
   "id": "e656b913",
   "metadata": {},
   "outputs": [
    {
     "data": {
      "text/plain": [
       "dtype('float64')"
      ]
     },
     "execution_count": 10,
     "metadata": {},
     "output_type": "execute_result"
    }
   ],
   "source": [
    "A.dtype"
   ]
  },
  {
   "cell_type": "markdown",
   "id": "fd8094e0",
   "metadata": {},
   "source": [
    "Generate equal spaced number between 0 to 20 "
   ]
  },
  {
   "cell_type": "code",
   "execution_count": 11,
   "id": "b562a26a",
   "metadata": {},
   "outputs": [
    {
     "data": {
      "text/plain": [
       "array([ 0,  1,  2,  3,  4,  5,  6,  7,  8,  9, 10, 11, 12, 13, 14, 15, 16,\n",
       "       17, 18, 19])"
      ]
     },
     "execution_count": 11,
     "metadata": {},
     "output_type": "execute_result"
    }
   ],
   "source": [
    "np.arange(0,20)"
   ]
  },
  {
   "cell_type": "markdown",
   "id": "3f35ad4c",
   "metadata": {},
   "source": [
    "Generate  number between 0 to 20 with a space of 2"
   ]
  },
  {
   "cell_type": "code",
   "execution_count": 12,
   "id": "e69d9e35",
   "metadata": {},
   "outputs": [
    {
     "data": {
      "text/plain": [
       "array([ 0,  2,  4,  6,  8, 10, 12, 14, 16, 18, 20])"
      ]
     },
     "execution_count": 12,
     "metadata": {},
     "output_type": "execute_result"
    }
   ],
   "source": [
    "np.arange(0,21,2)"
   ]
  },
  {
   "cell_type": "markdown",
   "id": "c8cd1a73",
   "metadata": {},
   "source": [
    "Generate  number between 0 to 20 with a space of 5"
   ]
  },
  {
   "cell_type": "code",
   "execution_count": 13,
   "id": "28ca7e72",
   "metadata": {},
   "outputs": [
    {
     "data": {
      "text/plain": [
       "array([ 0,  5, 10, 15, 20])"
      ]
     },
     "execution_count": 13,
     "metadata": {},
     "output_type": "execute_result"
    }
   ],
   "source": [
    "B=np.arange(0,21,5)\n",
    "B"
   ]
  },
  {
   "cell_type": "markdown",
   "id": "8ef94459",
   "metadata": {},
   "source": [
    "To get Shape,size,dimension,bytesize"
   ]
  },
  {
   "cell_type": "code",
   "execution_count": 21,
   "id": "81f373e0",
   "metadata": {},
   "outputs": [
    {
     "data": {
      "text/plain": [
       "(5,)"
      ]
     },
     "execution_count": 21,
     "metadata": {},
     "output_type": "execute_result"
    }
   ],
   "source": [
    "B.shape"
   ]
  },
  {
   "cell_type": "code",
   "execution_count": 22,
   "id": "1f97094d",
   "metadata": {},
   "outputs": [
    {
     "data": {
      "text/plain": [
       "5"
      ]
     },
     "execution_count": 22,
     "metadata": {},
     "output_type": "execute_result"
    }
   ],
   "source": [
    "B.size"
   ]
  },
  {
   "cell_type": "code",
   "execution_count": 23,
   "id": "3a46f727",
   "metadata": {},
   "outputs": [
    {
     "data": {
      "text/plain": [
       "1"
      ]
     },
     "execution_count": 23,
     "metadata": {},
     "output_type": "execute_result"
    }
   ],
   "source": [
    "B.ndim"
   ]
  },
  {
   "cell_type": "code",
   "execution_count": 25,
   "id": "052f6086",
   "metadata": {},
   "outputs": [
    {
     "data": {
      "text/plain": [
       "4"
      ]
     },
     "execution_count": 25,
     "metadata": {},
     "output_type": "execute_result"
    }
   ],
   "source": [
    "B.itemsize # bytes consumed by an element of an array object "
   ]
  },
  {
   "cell_type": "code",
   "execution_count": 26,
   "id": "86bbac52",
   "metadata": {},
   "outputs": [
    {
     "data": {
      "text/plain": [
       "20"
      ]
     },
     "execution_count": 26,
     "metadata": {},
     "output_type": "execute_result"
    }
   ],
   "source": [
    "B.nbytes # bytes consumed by an array object "
   ]
  },
  {
   "cell_type": "code",
   "execution_count": 27,
   "id": "63fb671c",
   "metadata": {},
   "outputs": [
    {
     "data": {
      "text/plain": [
       "5"
      ]
     },
     "execution_count": 27,
     "metadata": {},
     "output_type": "execute_result"
    }
   ],
   "source": [
    "len(B)# length of array"
   ]
  },
  {
   "cell_type": "code",
   "execution_count": 28,
   "id": "56149d52",
   "metadata": {},
   "outputs": [
    {
     "data": {
      "text/plain": [
       "array([0., 0., 0., 0., 0., 0., 0., 0., 0., 0., 0., 0.])"
      ]
     },
     "execution_count": 28,
     "metadata": {},
     "output_type": "execute_result"
    }
   ],
   "source": [
    "np.zeros(12) # array of zeroes repeating 12 times "
   ]
  },
  {
   "cell_type": "code",
   "execution_count": 29,
   "id": "6266de54",
   "metadata": {},
   "outputs": [
    {
     "data": {
      "text/plain": [
       "array([1., 1., 1., 1., 1., 1., 1., 1., 1., 1., 1., 1.])"
      ]
     },
     "execution_count": 29,
     "metadata": {},
     "output_type": "execute_result"
    }
   ],
   "source": [
    "np.ones(12) # array of ones repeating 12 times \n"
   ]
  },
  {
   "cell_type": "markdown",
   "id": "7e939218",
   "metadata": {},
   "source": [
    "# for repeat 5 ,four times in an array: repeat(m,n);m will be repeated n times "
   ]
  },
  {
   "cell_type": "raw",
   "id": "2aeab804",
   "metadata": {},
   "source": [
    "np.repeat(5,4) "
   ]
  },
  {
   "cell_type": "code",
   "execution_count": 30,
   "id": "249f2a08",
   "metadata": {},
   "outputs": [
    {
     "data": {
      "text/plain": [
       "array([12, 12, 12, 12, 12, 23, 23, 23, 23, 23, 34, 34, 34, 34, 34])"
      ]
     },
     "execution_count": 30,
     "metadata": {},
     "output_type": "execute_result"
    }
   ],
   "source": [
    "#repeat each element in an array five times \n",
    "C=np.array([12,23,34])\n",
    "np.repeat(C,5)\n"
   ]
  },
  {
   "cell_type": "code",
   "execution_count": 31,
   "id": "a3c48544",
   "metadata": {},
   "outputs": [
    {
     "data": {
      "text/plain": [
       "array([8, 8, 8, 8, 8])"
      ]
     },
     "execution_count": 31,
     "metadata": {},
     "output_type": "execute_result"
    }
   ],
   "source": [
    "# generate 5 , 8 times \n",
    "np.full(5,8)"
   ]
  },
  {
   "cell_type": "code",
   "execution_count": 32,
   "id": "4f50d336",
   "metadata": {},
   "outputs": [
    {
     "data": {
      "text/plain": [
       "array([ 2,  4,  6,  8, 10, 12, 14, 16, 18, 20, 22, 24, 26, 28, 30, 32, 34,\n",
       "       36, 38, 40, 42, 44, 46, 48, 50, 52, 54, 56, 58, 60, 62, 64, 66, 68,\n",
       "       70, 72, 74, 76, 78, 80, 82, 84, 86, 88, 90, 92, 94, 96, 98])"
      ]
     },
     "execution_count": 32,
     "metadata": {},
     "output_type": "execute_result"
    }
   ],
   "source": [
    "# generate even numbers between 1 and 100\n",
    "Even=np.arange(1,100)\n",
    "Even[Even%2==0]"
   ]
  },
  {
   "cell_type": "code",
   "execution_count": 33,
   "id": "ac90e614",
   "metadata": {},
   "outputs": [
    {
     "data": {
      "text/plain": [
       "array([ 1,  3,  5,  7,  9, 11, 13, 15, 17, 19, 21, 23, 25, 27, 29, 31, 33,\n",
       "       35, 37, 39, 41, 43, 45, 47, 49, 51, 53, 55, 57, 59, 61, 63, 65, 67,\n",
       "       69, 71, 73, 75, 77, 79, 81, 83, 85, 87, 89, 91, 93, 95, 97, 99])"
      ]
     },
     "execution_count": 33,
     "metadata": {},
     "output_type": "execute_result"
    }
   ],
   "source": [
    "# generate odd numbers between 1 and 100\n",
    "Odd=np.arange(1,100)\n",
    "Odd[Odd%2==1]"
   ]
  },
  {
   "cell_type": "markdown",
   "id": "16e87ea1",
   "metadata": {},
   "source": [
    "# automatically generates values between m and n givingequal spacingand  k numbers between them \n",
    "#  np.linspace(m,n,k)"
   ]
  },
  {
   "cell_type": "code",
   "execution_count": 34,
   "id": "b8857963",
   "metadata": {},
   "outputs": [
    {
     "data": {
      "text/plain": [
       "array([10., 13., 16., 19., 22., 25.])"
      ]
     },
     "execution_count": 34,
     "metadata": {},
     "output_type": "execute_result"
    }
   ],
   "source": [
    "\n",
    "np.linspace(10,25,6)\n"
   ]
  },
  {
   "cell_type": "code",
   "execution_count": 35,
   "id": "37b9051b",
   "metadata": {},
   "outputs": [
    {
     "data": {
      "text/plain": [
       "array([0.04719643, 0.51447628, 0.71438694, 0.2441689 , 0.99325916])"
      ]
     },
     "execution_count": 35,
     "metadata": {},
     "output_type": "execute_result"
    }
   ],
   "source": [
    "#np.random.random(n)\n",
    "np.random.random(5)"
   ]
  },
  {
   "cell_type": "code",
   "execution_count": 36,
   "id": "ab180a3f",
   "metadata": {},
   "outputs": [
    {
     "data": {
      "text/plain": [
       "array([9.01910723, 6.30843503, 5.78034062, 5.32091389, 5.7192093 ,\n",
       "       9.38648941, 7.68450523, 9.28616074])"
      ]
     },
     "execution_count": 36,
     "metadata": {},
     "output_type": "execute_result"
    }
   ],
   "source": [
    "# random numbers between 5 and 10 randomly and there will 8 decimal numbers \n",
    "RANDOM=np.random.uniform(5,10,8)\n",
    "RANDOM"
   ]
  },
  {
   "cell_type": "code",
   "execution_count": 37,
   "id": "a4009cbe",
   "metadata": {},
   "outputs": [
    {
     "data": {
      "text/plain": [
       "array([42, 57, 97, 99, 75, 30, 47, 16, 75, 76])"
      ]
     },
     "execution_count": 37,
     "metadata": {},
     "output_type": "execute_result"
    }
   ],
   "source": [
    "# random integers numbers between 1 and 100 and there will 10 numbers \n",
    "np.random.randint(0,100,10)"
   ]
  },
  {
   "cell_type": "markdown",
   "id": "4b669cef",
   "metadata": {},
   "source": [
    "Two methods to remove the decimal place"
   ]
  },
  {
   "cell_type": "code",
   "execution_count": 38,
   "id": "6766875d",
   "metadata": {},
   "outputs": [
    {
     "data": {
      "text/plain": [
       "array([9., 6., 5., 5., 5., 9., 7., 9.])"
      ]
     },
     "execution_count": 38,
     "metadata": {},
     "output_type": "execute_result"
    }
   ],
   "source": [
    "np.floor(RANDOM)"
   ]
  },
  {
   "cell_type": "code",
   "execution_count": 39,
   "id": "04645d59",
   "metadata": {},
   "outputs": [
    {
     "data": {
      "text/plain": [
       "array([9., 6., 5., 5., 5., 9., 7., 9.])"
      ]
     },
     "execution_count": 39,
     "metadata": {},
     "output_type": "execute_result"
    }
   ],
   "source": [
    "np.trunc(RANDOM)"
   ]
  },
  {
   "cell_type": "code",
   "execution_count": 40,
   "id": "ce5d36d6",
   "metadata": {},
   "outputs": [
    {
     "name": "stdout",
     "output_type": "stream",
     "text": [
      "1.20.3\n"
     ]
    }
   ],
   "source": [
    "print(np.__version__)"
   ]
  },
  {
   "cell_type": "raw",
   "id": "27aa0475",
   "metadata": {},
   "source": [
    "Creating array from list "
   ]
  },
  {
   "cell_type": "code",
   "execution_count": 41,
   "id": "b1b35b85",
   "metadata": {},
   "outputs": [
    {
     "name": "stdout",
     "output_type": "stream",
     "text": [
      "[12 23 34 45 56]\n",
      "<class 'numpy.ndarray'>\n"
     ]
    }
   ],
   "source": [
    "List1=np.array([12,23,34,45,56])\n",
    "print(List1)\n",
    "print(type(List1))\n"
   ]
  },
  {
   "cell_type": "raw",
   "id": "464be163",
   "metadata": {},
   "source": [
    "Creating array from Tuple"
   ]
  },
  {
   "cell_type": "code",
   "execution_count": 42,
   "id": "a1e1ec46",
   "metadata": {},
   "outputs": [
    {
     "name": "stdout",
     "output_type": "stream",
     "text": [
      "[12 23 34 45 56]\n",
      "<class 'numpy.ndarray'>\n"
     ]
    }
   ],
   "source": [
    "Tup1=np.array((12,23,34,45,56))\n",
    "print(Tup1)\n",
    "print(type(Tup1))"
   ]
  },
  {
   "cell_type": "markdown",
   "id": "b725c438",
   "metadata": {},
   "source": [
    "# Dimensions "
   ]
  },
  {
   "cell_type": "raw",
   "id": "8d72a553",
   "metadata": {},
   "source": [
    "# 1. 0-D array "
   ]
  },
  {
   "cell_type": "code",
   "execution_count": 43,
   "id": "a9a7d23d",
   "metadata": {},
   "outputs": [
    {
     "data": {
      "text/plain": [
       "array(67)"
      ]
     },
     "execution_count": 43,
     "metadata": {},
     "output_type": "execute_result"
    }
   ],
   "source": [
    "\n",
    "zero_D_array=np.array(67)\n",
    "zero_D_array\n"
   ]
  },
  {
   "cell_type": "code",
   "execution_count": 44,
   "id": "a31589c9",
   "metadata": {},
   "outputs": [
    {
     "name": "stdout",
     "output_type": "stream",
     "text": [
      "67\n"
     ]
    },
    {
     "data": {
      "text/plain": [
       "0"
      ]
     },
     "execution_count": 44,
     "metadata": {},
     "output_type": "execute_result"
    }
   ],
   "source": [
    "# to remove 'array' from the output \n",
    "print(zero_D_array)\n",
    "# to know the type of array\n",
    "zero_D_array.ndim"
   ]
  },
  {
   "cell_type": "raw",
   "id": "ff07c2d5",
   "metadata": {},
   "source": [
    "# 2. 1-D array : A array that has 0-D arrays as its elements are called uni-dimensional or one-dimensional arrays"
   ]
  },
  {
   "cell_type": "code",
   "execution_count": 45,
   "id": "ea5e18ef",
   "metadata": {},
   "outputs": [
    {
     "data": {
      "text/plain": [
       "array([34, 45,  6, 56])"
      ]
     },
     "execution_count": 45,
     "metadata": {},
     "output_type": "execute_result"
    }
   ],
   "source": [
    "one_array=np.array([34,45,6,56])\n",
    "one_array"
   ]
  },
  {
   "cell_type": "code",
   "execution_count": 48,
   "id": "18871f87",
   "metadata": {},
   "outputs": [
    {
     "name": "stdout",
     "output_type": "stream",
     "text": [
      "[34 45  6 56]\n",
      "<class 'numpy.ndarray'>\n"
     ]
    },
    {
     "data": {
      "text/plain": [
       "1"
      ]
     },
     "execution_count": 48,
     "metadata": {},
     "output_type": "execute_result"
    }
   ],
   "source": [
    "# to remove 'array' from the output \n",
    "print(one_array)\n",
    "# to know the type of array\n",
    "print(type(one_array))\n",
    "one_array.ndim"
   ]
  },
  {
   "cell_type": "code",
   "execution_count": 49,
   "id": "0cc802ec",
   "metadata": {},
   "outputs": [
    {
     "data": {
      "text/plain": [
       "array([[34, 45],\n",
       "       [ 6, 56],\n",
       "       [ 4, 65]])"
      ]
     },
     "execution_count": 49,
     "metadata": {},
     "output_type": "execute_result"
    }
   ],
   "source": [
    "two_array=np.array([[34,45],[6,56],[4,65]])\n",
    "two_array\n"
   ]
  },
  {
   "cell_type": "code",
   "execution_count": 50,
   "id": "30ba3e92",
   "metadata": {},
   "outputs": [
    {
     "name": "stdout",
     "output_type": "stream",
     "text": [
      "[[34 45]\n",
      " [ 6 56]\n",
      " [ 4 65]]\n",
      "<class 'numpy.ndarray'>\n"
     ]
    },
    {
     "data": {
      "text/plain": [
       "2"
      ]
     },
     "execution_count": 50,
     "metadata": {},
     "output_type": "execute_result"
    }
   ],
   "source": [
    "print(two_array)\n",
    "print(type(two_array))\n",
    "two_array.ndim"
   ]
  },
  {
   "cell_type": "code",
   "execution_count": 51,
   "id": "7658c01e",
   "metadata": {},
   "outputs": [
    {
     "name": "stdout",
     "output_type": "stream",
     "text": [
      "[[34 45]\n",
      " [ 6 56]\n",
      " [ 4 65]]\n"
     ]
    }
   ],
   "source": [
    "a=[34,45]\n",
    "b=[6,56]\n",
    "c=[4,65]\n",
    "two_D=np.array([a,b,c])\n",
    "print(two_D)"
   ]
  },
  {
   "cell_type": "code",
   "execution_count": 52,
   "id": "2a3ef385",
   "metadata": {},
   "outputs": [
    {
     "name": "stdout",
     "output_type": "stream",
     "text": [
      "[['a' 'd']\n",
      " ['f' 's']\n",
      " ['4' '65']]\n"
     ]
    }
   ],
   "source": [
    "a=['a','d']\n",
    "b=['f','s']\n",
    "c=[4,65]\n",
    "two_D_str=np.array([a,b,c])\n",
    "print(two_D_str)"
   ]
  },
  {
   "cell_type": "code",
   "execution_count": 53,
   "id": "5a6567d5",
   "metadata": {},
   "outputs": [
    {
     "data": {
      "text/plain": [
       "array([[34, 45],\n",
       "       [ 6, 56],\n",
       "       [ 4, 65],\n",
       "       [56,  6],\n",
       "       [ 5,  4]])"
      ]
     },
     "execution_count": 53,
     "metadata": {},
     "output_type": "execute_result"
    }
   ],
   "source": [
    "three_array=np.array([[34,45],[6,56],[4,65],[56,6],[5,4]])\n",
    "three_array"
   ]
  },
  {
   "cell_type": "code",
   "execution_count": 54,
   "id": "285fad13",
   "metadata": {},
   "outputs": [
    {
     "data": {
      "text/plain": [
       "2"
      ]
     },
     "execution_count": 54,
     "metadata": {},
     "output_type": "execute_result"
    }
   ],
   "source": [
    "three_array.ndim"
   ]
  },
  {
   "cell_type": "raw",
   "id": "32238fd4",
   "metadata": {},
   "source": [
    "Access the array"
   ]
  },
  {
   "cell_type": "code",
   "execution_count": 55,
   "id": "13897493",
   "metadata": {},
   "outputs": [
    {
     "data": {
      "text/plain": [
       "array([11, 34, 56, 78, 89])"
      ]
     },
     "execution_count": 55,
     "metadata": {},
     "output_type": "execute_result"
    }
   ],
   "source": [
    "a1=np.array([11,34,56,78,89])\n",
    "a1\n"
   ]
  },
  {
   "cell_type": "code",
   "execution_count": 56,
   "id": "9deb03f2",
   "metadata": {},
   "outputs": [
    {
     "name": "stdout",
     "output_type": "stream",
     "text": [
      "11\n"
     ]
    }
   ],
   "source": [
    "print(a1[0])"
   ]
  },
  {
   "cell_type": "code",
   "execution_count": 57,
   "id": "dc4d06fb",
   "metadata": {},
   "outputs": [
    {
     "name": "stdout",
     "output_type": "stream",
     "text": [
      "34\n",
      "78\n"
     ]
    }
   ],
   "source": [
    "A=print(a1[1])\n",
    "\n",
    "B=print(a1[3])\n"
   ]
  },
  {
   "cell_type": "code",
   "execution_count": 58,
   "id": "9690e83d",
   "metadata": {},
   "outputs": [
    {
     "name": "stdout",
     "output_type": "stream",
     "text": [
      "112\n"
     ]
    }
   ],
   "source": [
    "print(a1[1]+a1[3])"
   ]
  },
  {
   "cell_type": "code",
   "execution_count": 59,
   "id": "7553b5e2",
   "metadata": {},
   "outputs": [
    {
     "name": "stdout",
     "output_type": "stream",
     "text": [
      "-44\n"
     ]
    }
   ],
   "source": [
    "print(a1[1]-a1[3])"
   ]
  },
  {
   "cell_type": "code",
   "execution_count": 60,
   "id": "4dfb75eb",
   "metadata": {},
   "outputs": [
    {
     "name": "stdout",
     "output_type": "stream",
     "text": [
      "2652\n"
     ]
    }
   ],
   "source": [
    "print(a1[1]*a1[3])"
   ]
  },
  {
   "cell_type": "code",
   "execution_count": 61,
   "id": "1f7693cb",
   "metadata": {},
   "outputs": [
    {
     "data": {
      "text/plain": [
       "array([[ 1,  2,  3,  4,  5],\n",
       "       [ 6,  7,  8,  9, 10]])"
      ]
     },
     "execution_count": 61,
     "metadata": {},
     "output_type": "execute_result"
    }
   ],
   "source": [
    "a2=np.array([[1,2,3,4,5],[6,7,8,9,10]])\n",
    "a2"
   ]
  },
  {
   "cell_type": "code",
   "execution_count": 62,
   "id": "55d86d52",
   "metadata": {},
   "outputs": [
    {
     "name": "stdout",
     "output_type": "stream",
     "text": [
      "2\n"
     ]
    }
   ],
   "source": [
    "print(a2[0,1]) # first row second column"
   ]
  },
  {
   "cell_type": "code",
   "execution_count": 63,
   "id": "b377a9c8",
   "metadata": {},
   "outputs": [
    {
     "name": "stdout",
     "output_type": "stream",
     "text": [
      "7 3\n"
     ]
    }
   ],
   "source": [
    "print(a2[1,1],a2[0,2]) # any two elements from the matrix"
   ]
  },
  {
   "cell_type": "code",
   "execution_count": 64,
   "id": "5a2d5a1a",
   "metadata": {},
   "outputs": [
    {
     "name": "stdout",
     "output_type": "stream",
     "text": [
      "10\n"
     ]
    }
   ],
   "source": [
    "print(a2[1,-1]) # element from last row and last column "
   ]
  },
  {
   "cell_type": "raw",
   "id": "1c511640",
   "metadata": {},
   "source": [
    "#Slicing"
   ]
  },
  {
   "cell_type": "code",
   "execution_count": 65,
   "id": "2ef165b3",
   "metadata": {},
   "outputs": [
    {
     "data": {
      "text/plain": [
       "array([11, 34, 56, 78, 89])"
      ]
     },
     "execution_count": 65,
     "metadata": {},
     "output_type": "execute_result"
    }
   ],
   "source": [
    "a1"
   ]
  },
  {
   "cell_type": "code",
   "execution_count": 66,
   "id": "916658ef",
   "metadata": {},
   "outputs": [
    {
     "name": "stdout",
     "output_type": "stream",
     "text": [
      "[34 56 78]\n"
     ]
    }
   ],
   "source": [
    "print(a1[-4:-1])"
   ]
  },
  {
   "cell_type": "code",
   "execution_count": 67,
   "id": "c876bc7e",
   "metadata": {},
   "outputs": [
    {
     "name": "stdout",
     "output_type": "stream",
     "text": [
      "[11 34 56 78]\n"
     ]
    }
   ],
   "source": [
    "print(a1[:-1])"
   ]
  },
  {
   "cell_type": "code",
   "execution_count": 68,
   "id": "6caaddb8",
   "metadata": {},
   "outputs": [
    {
     "name": "stdout",
     "output_type": "stream",
     "text": [
      "[11 56 89]\n"
     ]
    }
   ],
   "source": [
    "print(a1[0:5:2]) # getting values with "
   ]
  },
  {
   "cell_type": "code",
   "execution_count": 69,
   "id": "1249dea6",
   "metadata": {},
   "outputs": [
    {
     "name": "stdout",
     "output_type": "stream",
     "text": [
      "[11 56]\n"
     ]
    }
   ],
   "source": [
    "print(a1[0:4:2])"
   ]
  },
  {
   "cell_type": "code",
   "execution_count": 70,
   "id": "3a073f6e",
   "metadata": {},
   "outputs": [
    {
     "name": "stdout",
     "output_type": "stream",
     "text": [
      "[11 56 89]\n"
     ]
    }
   ],
   "source": [
    "print(a1[::2])"
   ]
  },
  {
   "cell_type": "code",
   "execution_count": 71,
   "id": "235cf056",
   "metadata": {},
   "outputs": [
    {
     "data": {
      "text/plain": [
       "array([[ 1,  2,  3,  4,  5],\n",
       "       [ 6,  7,  8,  9, 10]])"
      ]
     },
     "execution_count": 71,
     "metadata": {},
     "output_type": "execute_result"
    }
   ],
   "source": [
    "a2=np.array([[1,2,3,4,5],[6,7,8,9,10]])\n",
    "a2\n"
   ]
  },
  {
   "cell_type": "code",
   "execution_count": 72,
   "id": "24ceadb9",
   "metadata": {},
   "outputs": [
    {
     "name": "stdout",
     "output_type": "stream",
     "text": [
      "[1 2 3]\n"
     ]
    }
   ],
   "source": [
    "print(a2[0,0:3])"
   ]
  },
  {
   "cell_type": "code",
   "execution_count": 73,
   "id": "d81781f9",
   "metadata": {},
   "outputs": [
    {
     "data": {
      "text/plain": [
       "array([11, 34, 56, 78, 89])"
      ]
     },
     "execution_count": 73,
     "metadata": {},
     "output_type": "execute_result"
    }
   ],
   "source": [
    "a1"
   ]
  },
  {
   "cell_type": "raw",
   "id": "bb17c715",
   "metadata": {},
   "source": [
    "Data types in NumPy\n",
    "    >i- Integer\n",
    "    >b-Boolean\n",
    "    >u- unsigned \n",
    "    >f-float\n",
    "    >C-complex float \n",
    "    >M-dataframe\n",
    "    >O-object\n",
    "    >S-string\n",
    "    >U-Unicode string\n",
    "    "
   ]
  },
  {
   "cell_type": "code",
   "execution_count": 74,
   "id": "48756777",
   "metadata": {},
   "outputs": [
    {
     "name": "stdout",
     "output_type": "stream",
     "text": [
      "<U4\n"
     ]
    }
   ],
   "source": [
    "ast=np.array([\"deep\",\"ash\"])\n",
    "print(ast.dtype)"
   ]
  },
  {
   "cell_type": "code",
   "execution_count": 75,
   "id": "d484d26e",
   "metadata": {},
   "outputs": [
    {
     "name": "stdout",
     "output_type": "stream",
     "text": [
      "int32\n"
     ]
    }
   ],
   "source": [
    "print(a1.dtype)"
   ]
  },
  {
   "cell_type": "code",
   "execution_count": 76,
   "id": "4197cc99",
   "metadata": {},
   "outputs": [
    {
     "name": "stdout",
     "output_type": "stream",
     "text": [
      "[b'1' b'256' b'31' b'4098']\n",
      "|S4\n"
     ]
    }
   ],
   "source": [
    "arr=np.array([1,256,31,4098],dtype='S')\n",
    "print(arr)\n",
    "print(arr.dtype)"
   ]
  },
  {
   "cell_type": "code",
   "execution_count": 77,
   "id": "99fbea22",
   "metadata": {},
   "outputs": [
    {
     "name": "stdout",
     "output_type": "stream",
     "text": [
      "['1' '2' '3' '4']\n",
      "<U1\n"
     ]
    }
   ],
   "source": [
    "arr=np.array(['1','2','3','4'])\n",
    "print(arr)\n",
    "print(arr.dtype)"
   ]
  },
  {
   "cell_type": "code",
   "execution_count": 78,
   "id": "f79b5c59",
   "metadata": {},
   "outputs": [
    {
     "name": "stdout",
     "output_type": "stream",
     "text": [
      "[1 2 3 4]\n"
     ]
    }
   ],
   "source": [
    "arr=np.array(['1','2','3','4'],dtype='i4')\n",
    "print(arr)"
   ]
  },
  {
   "cell_type": "code",
   "execution_count": 79,
   "id": "3faf9c7d",
   "metadata": {},
   "outputs": [
    {
     "data": {
      "text/plain": [
       "array([0, 1, 2, 3, 4, 5, 6, 7, 8, 9])"
      ]
     },
     "execution_count": 79,
     "metadata": {},
     "output_type": "execute_result"
    }
   ],
   "source": [
    "ar=np.arange(0,10)\n",
    "ar"
   ]
  },
  {
   "cell_type": "code",
   "execution_count": 80,
   "id": "fbf39048",
   "metadata": {},
   "outputs": [
    {
     "data": {
      "text/plain": [
       "45"
      ]
     },
     "execution_count": 80,
     "metadata": {},
     "output_type": "execute_result"
    }
   ],
   "source": [
    "ar.sum()"
   ]
  },
  {
   "cell_type": "code",
   "execution_count": 81,
   "id": "13e2f270",
   "metadata": {},
   "outputs": [
    {
     "data": {
      "text/plain": [
       "array([ 0,  1,  3,  6, 10, 15, 21, 28, 36, 45], dtype=int32)"
      ]
     },
     "execution_count": 81,
     "metadata": {},
     "output_type": "execute_result"
    }
   ],
   "source": [
    "ar.cumsum()"
   ]
  },
  {
   "cell_type": "code",
   "execution_count": 82,
   "id": "fd91555c",
   "metadata": {},
   "outputs": [
    {
     "data": {
      "text/plain": [
       "array([ 0,  1,  3,  6, 10, 15, 21, 28, 36, 45], dtype=int32)"
      ]
     },
     "execution_count": 82,
     "metadata": {},
     "output_type": "execute_result"
    }
   ],
   "source": [
    "np.cumsum(ar)"
   ]
  },
  {
   "cell_type": "code",
   "execution_count": 83,
   "id": "a9b97584",
   "metadata": {},
   "outputs": [
    {
     "name": "stdout",
     "output_type": "stream",
     "text": [
      "[ 0  1  3  6 10 15 21 28 36 45]\n"
     ]
    }
   ],
   "source": [
    "print(np.cumsum(ar))"
   ]
  },
  {
   "cell_type": "code",
   "execution_count": 84,
   "id": "60c9586f",
   "metadata": {},
   "outputs": [
    {
     "data": {
      "text/plain": [
       "0"
      ]
     },
     "execution_count": 84,
     "metadata": {},
     "output_type": "execute_result"
    }
   ],
   "source": [
    "ar.min()"
   ]
  },
  {
   "cell_type": "code",
   "execution_count": 85,
   "id": "d9ae7e11",
   "metadata": {},
   "outputs": [
    {
     "data": {
      "text/plain": [
       "9"
      ]
     },
     "execution_count": 85,
     "metadata": {},
     "output_type": "execute_result"
    }
   ],
   "source": [
    "ar.max()"
   ]
  },
  {
   "cell_type": "code",
   "execution_count": 86,
   "id": "cfe89550",
   "metadata": {},
   "outputs": [
    {
     "data": {
      "text/plain": [
       "4.5"
      ]
     },
     "execution_count": 86,
     "metadata": {},
     "output_type": "execute_result"
    }
   ],
   "source": [
    "ar.mean()"
   ]
  },
  {
   "cell_type": "code",
   "execution_count": 88,
   "id": "25eec538",
   "metadata": {},
   "outputs": [
    {
     "data": {
      "text/plain": [
       "4.5"
      ]
     },
     "execution_count": 88,
     "metadata": {},
     "output_type": "execute_result"
    }
   ],
   "source": [
    "np.median(ar)"
   ]
  },
  {
   "cell_type": "code",
   "execution_count": 91,
   "id": "843af1c7",
   "metadata": {},
   "outputs": [
    {
     "data": {
      "text/plain": [
       "array([78, 89, 54, 12, 79, 65])"
      ]
     },
     "execution_count": 91,
     "metadata": {},
     "output_type": "execute_result"
    }
   ],
   "source": [
    "ar=np.array([78,89,54,12,79,65])\n",
    "ar"
   ]
  },
  {
   "cell_type": "code",
   "execution_count": 92,
   "id": "a7fa7e38",
   "metadata": {},
   "outputs": [
    {
     "data": {
      "text/plain": [
       "3"
      ]
     },
     "execution_count": 92,
     "metadata": {},
     "output_type": "execute_result"
    }
   ],
   "source": [
    "ar.argmin()"
   ]
  },
  {
   "cell_type": "code",
   "execution_count": 93,
   "id": "1420b5b7",
   "metadata": {},
   "outputs": [
    {
     "data": {
      "text/plain": [
       "1"
      ]
     },
     "execution_count": 93,
     "metadata": {},
     "output_type": "execute_result"
    }
   ],
   "source": [
    "ar.argmax()"
   ]
  },
  {
   "cell_type": "code",
   "execution_count": 94,
   "id": "3c26e7e1",
   "metadata": {},
   "outputs": [
    {
     "data": {
      "text/plain": [
       "640.4722222222222"
      ]
     },
     "execution_count": 94,
     "metadata": {},
     "output_type": "execute_result"
    }
   ],
   "source": [
    "np.var(ar)"
   ]
  },
  {
   "cell_type": "code",
   "execution_count": 95,
   "id": "48e51449",
   "metadata": {},
   "outputs": [
    {
     "data": {
      "text/plain": [
       "25.307552671529148"
      ]
     },
     "execution_count": 95,
     "metadata": {},
     "output_type": "execute_result"
    }
   ],
   "source": [
    "np.std(ar)"
   ]
  },
  {
   "cell_type": "code",
   "execution_count": 96,
   "id": "fda3b64e",
   "metadata": {},
   "outputs": [
    {
     "data": {
      "text/plain": [
       "78.75"
      ]
     },
     "execution_count": 96,
     "metadata": {},
     "output_type": "execute_result"
    }
   ],
   "source": [
    "np.percentile(ar,75)"
   ]
  },
  {
   "cell_type": "code",
   "execution_count": 97,
   "id": "e19cc67e",
   "metadata": {},
   "outputs": [
    {
     "data": {
      "text/plain": [
       "56.75"
      ]
     },
     "execution_count": 97,
     "metadata": {},
     "output_type": "execute_result"
    }
   ],
   "source": [
    "np.percentile(ar,25)"
   ]
  },
  {
   "cell_type": "code",
   "execution_count": 98,
   "id": "e54c8be8",
   "metadata": {},
   "outputs": [
    {
     "data": {
      "text/plain": [
       "71.5"
      ]
     },
     "execution_count": 98,
     "metadata": {},
     "output_type": "execute_result"
    }
   ],
   "source": [
    "np.percentile(ar,50)"
   ]
  },
  {
   "cell_type": "code",
   "execution_count": 99,
   "id": "47109b6b",
   "metadata": {},
   "outputs": [
    {
     "data": {
      "text/plain": [
       "78.0"
      ]
     },
     "execution_count": 99,
     "metadata": {},
     "output_type": "execute_result"
    }
   ],
   "source": [
    "np.percentile(ar,60)\n"
   ]
  },
  {
   "cell_type": "code",
   "execution_count": 102,
   "id": "e208c33c",
   "metadata": {},
   "outputs": [
    {
     "data": {
      "text/plain": [
       "array([78, 89, 54, 12, 79, 65])"
      ]
     },
     "execution_count": 102,
     "metadata": {},
     "output_type": "execute_result"
    }
   ],
   "source": [
    "female_score=np.array([78,89,54,12,79,65])\n",
    "female_score"
   ]
  },
  {
   "cell_type": "code",
   "execution_count": 103,
   "id": "a0c9bd2d",
   "metadata": {},
   "outputs": [
    {
     "data": {
      "text/plain": [
       "array([56, 90, 64, 22, 59, 85])"
      ]
     },
     "execution_count": 103,
     "metadata": {},
     "output_type": "execute_result"
    }
   ],
   "source": [
    "male_score=np.array([56,90,64,22,59,85])\n",
    "male_score"
   ]
  },
  {
   "cell_type": "code",
   "execution_count": 104,
   "id": "333cfff3",
   "metadata": {},
   "outputs": [
    {
     "data": {
      "text/plain": [
       "array([[768.56666667, 531.73333333],\n",
       "       [531.73333333, 591.86666667]])"
      ]
     },
     "execution_count": 104,
     "metadata": {},
     "output_type": "execute_result"
    }
   ],
   "source": [
    "np.cov(female_score,male_score) # covariance matrix "
   ]
  },
  {
   "cell_type": "code",
   "execution_count": 108,
   "id": "39745b32",
   "metadata": {},
   "outputs": [
    {
     "data": {
      "text/plain": [
       "array([[1.        , 0.78839012],\n",
       "       [0.78839012, 1.        ]])"
      ]
     },
     "execution_count": 108,
     "metadata": {},
     "output_type": "execute_result"
    }
   ],
   "source": [
    "np.corrcoef(female_score,male_score) # corelation coefficient "
   ]
  },
  {
   "cell_type": "code",
   "execution_count": 109,
   "id": "7ee4d1cb",
   "metadata": {},
   "outputs": [
    {
     "data": {
      "text/plain": [
       "array([56.75, 78.75])"
      ]
     },
     "execution_count": 109,
     "metadata": {},
     "output_type": "execute_result"
    }
   ],
   "source": [
    "np.quantile(female_score,[0.25,0.75]) # quantiles "
   ]
  },
  {
   "cell_type": "code",
   "execution_count": 110,
   "id": "7855e8bb",
   "metadata": {},
   "outputs": [
    {
     "name": "stdout",
     "output_type": "stream",
     "text": [
      "score= [56 90 64 89 59 85]\n",
      "copy= [56 90 64 22 59 85]\n"
     ]
    }
   ],
   "source": [
    "score=np.array([56,90,64,22,59,85])  \n",
    "y=score.copy()\n",
    "score[3]=89\n",
    "print('score=',score)\n",
    "print('copy=',y)\n"
   ]
  },
  {
   "cell_type": "code",
   "execution_count": 111,
   "id": "98fe19c1",
   "metadata": {},
   "outputs": [
    {
     "name": "stdout",
     "output_type": "stream",
     "text": [
      "score= [56 90 64 89 59 85]\n",
      "view= [56 90 64 89 59 85]\n"
     ]
    }
   ],
   "source": [
    "score=np.array([56,90,64,22,59,85])  \n",
    "y=score.view()\n",
    "score[3]=89\n",
    "print('score=',score)\n",
    "print('view=',y)\n"
   ]
  },
  {
   "cell_type": "markdown",
   "id": "01d0c31e",
   "metadata": {},
   "source": [
    "copy is a new array and view is just the original array "
   ]
  },
  {
   "cell_type": "raw",
   "id": "04279e84",
   "metadata": {},
   "source": [
    "attribute base that returns none if the array owns the data otherwise the base attribute refers to the original object "
   ]
  },
  {
   "cell_type": "code",
   "execution_count": 112,
   "id": "d45a53cd",
   "metadata": {},
   "outputs": [
    {
     "name": "stdout",
     "output_type": "stream",
     "text": [
      "None\n",
      "[56 90 64 22 59 85]\n"
     ]
    }
   ],
   "source": [
    "score=np.array([56,90,64,22,59,85]) \n",
    "y=score.view()\n",
    "x=score.copy()\n",
    "print(x.base)\n",
    "print(y.base)"
   ]
  },
  {
   "cell_type": "code",
   "execution_count": 115,
   "id": "1b1d6ec8",
   "metadata": {},
   "outputs": [],
   "source": [
    "n=score.reshape(2,3) #to reshape any array from 1d to 2d of rows and col"
   ]
  },
  {
   "cell_type": "markdown",
   "id": "4e52574e",
   "metadata": {},
   "source": [
    "iterating array\n"
   ]
  },
  {
   "cell_type": "code",
   "execution_count": 114,
   "id": "ea6e2aa1",
   "metadata": {},
   "outputs": [
    {
     "name": "stdout",
     "output_type": "stream",
     "text": [
      "56\n",
      "90\n",
      "64\n",
      "22\n",
      "59\n",
      "85\n"
     ]
    }
   ],
   "source": [
    "for i in score:\n",
    "    print(i)"
   ]
  },
  {
   "cell_type": "code",
   "execution_count": 116,
   "id": "2ade3b22",
   "metadata": {},
   "outputs": [
    {
     "name": "stdout",
     "output_type": "stream",
     "text": [
      "[56 90 64]\n",
      "[22 59 85]\n"
     ]
    }
   ],
   "source": [
    "for i in n:\n",
    "    print(i)"
   ]
  },
  {
   "cell_type": "code",
   "execution_count": 117,
   "id": "e796271f",
   "metadata": {},
   "outputs": [
    {
     "name": "stdout",
     "output_type": "stream",
     "text": [
      "56\n",
      "90\n",
      "64\n",
      "22\n",
      "59\n",
      "85\n"
     ]
    }
   ],
   "source": [
    "for i in n:\n",
    "    for j in i:\n",
    "        print(j)"
   ]
  },
  {
   "cell_type": "markdown",
   "id": "e70462e6",
   "metadata": {},
   "source": [
    "join two arrays "
   ]
  },
  {
   "cell_type": "code",
   "execution_count": 153,
   "id": "e06556de",
   "metadata": {},
   "outputs": [
    {
     "data": {
      "text/plain": [
       "array([78, 89, 54, 12, 79, 65])"
      ]
     },
     "execution_count": 153,
     "metadata": {},
     "output_type": "execute_result"
    }
   ],
   "source": [
    "m=np.array([78,89,54,12,79,65])\n",
    "m"
   ]
  },
  {
   "cell_type": "code",
   "execution_count": 154,
   "id": "968db936",
   "metadata": {},
   "outputs": [
    {
     "data": {
      "text/plain": [
       "array([56, 90, 64, 22, 59, 85])"
      ]
     },
     "execution_count": 154,
     "metadata": {},
     "output_type": "execute_result"
    }
   ],
   "source": [
    "n=np.array([56,90,64,22,59,85]) \n",
    "n"
   ]
  },
  {
   "cell_type": "code",
   "execution_count": 155,
   "id": "8dde277b",
   "metadata": {},
   "outputs": [
    {
     "data": {
      "text/plain": [
       "array([[78, 56],\n",
       "       [89, 90],\n",
       "       [54, 64],\n",
       "       [12, 22],\n",
       "       [79, 59],\n",
       "       [65, 85]])"
      ]
     },
     "execution_count": 155,
     "metadata": {},
     "output_type": "execute_result"
    }
   ],
   "source": [
    "#join using stack function \n",
    "joined=np.stack((m,n),axis=1)\n",
    "joined"
   ]
  },
  {
   "cell_type": "code",
   "execution_count": 156,
   "id": "3d13e145",
   "metadata": {},
   "outputs": [
    {
     "data": {
      "text/plain": [
       "array([[78, 89, 54, 12, 79, 65],\n",
       "       [56, 90, 64, 22, 59, 85]])"
      ]
     },
     "execution_count": 156,
     "metadata": {},
     "output_type": "execute_result"
    }
   ],
   "source": [
    "joined=np.stack((m,n),axis=0)\n",
    "joined"
   ]
  },
  {
   "cell_type": "code",
   "execution_count": 157,
   "id": "c6f55d05",
   "metadata": {},
   "outputs": [
    {
     "data": {
      "text/plain": [
       "array([78, 89, 54, 12, 79, 65, 56, 90, 64, 22, 59, 85])"
      ]
     },
     "execution_count": 157,
     "metadata": {},
     "output_type": "execute_result"
    }
   ],
   "source": [
    "# hstack()\n",
    "horizontalstack=np.hstack((m,n))\n",
    "horizontalstack"
   ]
  },
  {
   "cell_type": "code",
   "execution_count": 158,
   "id": "52cd6e8c",
   "metadata": {},
   "outputs": [
    {
     "data": {
      "text/plain": [
       "array([[78, 89, 54, 12, 79, 65],\n",
       "       [56, 90, 64, 22, 59, 85]])"
      ]
     },
     "execution_count": 158,
     "metadata": {},
     "output_type": "execute_result"
    }
   ],
   "source": [
    "#dstack()\n",
    "verticalstack=np.vstack((m,n))\n",
    "verticalstack"
   ]
  },
  {
   "cell_type": "code",
   "execution_count": 159,
   "id": "509ea9ee",
   "metadata": {},
   "outputs": [
    {
     "data": {
      "text/plain": [
       "array([[[78, 56],\n",
       "        [89, 90],\n",
       "        [54, 64],\n",
       "        [12, 22],\n",
       "        [79, 59],\n",
       "        [65, 85]]])"
      ]
     },
     "execution_count": 159,
     "metadata": {},
     "output_type": "execute_result"
    }
   ],
   "source": [
    "#dstack(): to stack along height which is the same as depth\n",
    "verticalstack=np.dstack((m,n))\n",
    "verticalstack"
   ]
  },
  {
   "cell_type": "code",
   "execution_count": 160,
   "id": "20cb2340",
   "metadata": {},
   "outputs": [
    {
     "name": "stdout",
     "output_type": "stream",
     "text": [
      "[array([56, 90]), array([64, 22]), array([59, 85])]\n"
     ]
    }
   ],
   "source": [
    "# to split array in to parts\n",
    "n1=np.array_split(n,3) \n",
    "print(n1)"
   ]
  },
  {
   "cell_type": "code",
   "execution_count": 161,
   "id": "7e9b54bd",
   "metadata": {},
   "outputs": [
    {
     "data": {
      "text/plain": [
       "array([[56, 90],\n",
       "       [64, 22],\n",
       "       [59, 85]])"
      ]
     },
     "execution_count": 161,
     "metadata": {},
     "output_type": "execute_result"
    }
   ],
   "source": [
    "n2= np.array([[56, 90],[64, 22],[59, 85]])\n",
    "n2"
   ]
  },
  {
   "cell_type": "code",
   "execution_count": 162,
   "id": "1baf15dc",
   "metadata": {},
   "outputs": [
    {
     "name": "stdout",
     "output_type": "stream",
     "text": [
      "[array([[56, 90],\n",
      "       [64, 22]]), array([[59, 85]])]\n"
     ]
    }
   ],
   "source": [
    "n3=np.array_split(n2,2)\n",
    "print(n3)"
   ]
  },
  {
   "cell_type": "code",
   "execution_count": 163,
   "id": "aed6a9cc",
   "metadata": {},
   "outputs": [
    {
     "name": "stdout",
     "output_type": "stream",
     "text": [
      "[[56 90]\n",
      " [64 22]]\n"
     ]
    }
   ],
   "source": [
    "print(n3[0])"
   ]
  },
  {
   "cell_type": "code",
   "execution_count": 164,
   "id": "08017e74",
   "metadata": {},
   "outputs": [
    {
     "data": {
      "text/plain": [
       "[array([[ 1],\n",
       "        [ 4],\n",
       "        [ 7],\n",
       "        [10]]),\n",
       " array([[ 2],\n",
       "        [ 5],\n",
       "        [ 8],\n",
       "        [11]]),\n",
       " array([[ 3],\n",
       "        [ 6],\n",
       "        [ 9],\n",
       "        [12]])]"
      ]
     },
     "execution_count": 164,
     "metadata": {},
     "output_type": "execute_result"
    }
   ],
   "source": [
    "#hsplit()\n",
    "ar=np.array([[1,2,3],[4,5,6],[7,8,9],[10,11,12]])\n",
    "np.hsplit(ar,3)"
   ]
  },
  {
   "cell_type": "code",
   "execution_count": 165,
   "id": "4f02b079",
   "metadata": {},
   "outputs": [
    {
     "data": {
      "text/plain": [
       "[array([[1, 2, 3],\n",
       "        [4, 5, 6]]),\n",
       " array([[ 7,  8,  9],\n",
       "        [10, 11, 12]])]"
      ]
     },
     "execution_count": 165,
     "metadata": {},
     "output_type": "execute_result"
    }
   ],
   "source": [
    "ar=np.array([[1,2,3],[4,5,6],[7,8,9],[10,11,12]])\n",
    "np.vsplit(ar,2)"
   ]
  },
  {
   "cell_type": "code",
   "execution_count": 166,
   "id": "66900d24",
   "metadata": {},
   "outputs": [
    {
     "data": {
      "text/plain": [
       "[array([[[ 1],\n",
       "         [ 4],\n",
       "         [ 7],\n",
       "         [10]]]),\n",
       " array([[[ 2],\n",
       "         [ 5],\n",
       "         [ 8],\n",
       "         [11]]]),\n",
       " array([[[ 3],\n",
       "         [ 6],\n",
       "         [ 9],\n",
       "         [12]]])]"
      ]
     },
     "execution_count": 166,
     "metadata": {},
     "output_type": "execute_result"
    }
   ],
   "source": [
    "ar=np.array([[[1,2,3],[4,5,6],[7,8,9],[10,11,12]]]) # double brackets for the array\n",
    "np.dsplit(ar,3)"
   ]
  },
  {
   "cell_type": "code",
   "execution_count": 167,
   "id": "5838e747",
   "metadata": {},
   "outputs": [
    {
     "data": {
      "text/plain": [
       "(array([1, 6], dtype=int64),)"
      ]
     },
     "execution_count": 167,
     "metadata": {},
     "output_type": "execute_result"
    }
   ],
   "source": [
    "# searching an array \n",
    "ar=np.array([34,45,6,5,4,32,45])\n",
    "np.where(ar==45)\n"
   ]
  },
  {
   "cell_type": "code",
   "execution_count": 168,
   "id": "8c44d9cf",
   "metadata": {},
   "outputs": [
    {
     "data": {
      "text/plain": [
       "(array([3], dtype=int64),)"
      ]
     },
     "execution_count": 168,
     "metadata": {},
     "output_type": "execute_result"
    }
   ],
   "source": [
    "ar=np.array([34,45,6,5,4,32,45])\n",
    "np.where(ar==5)"
   ]
  },
  {
   "cell_type": "code",
   "execution_count": 169,
   "id": "48628e93",
   "metadata": {},
   "outputs": [
    {
     "data": {
      "text/plain": [
       "array([ 1,  2,  3,  4,  5,  6,  7,  8,  9, 10, 11, 12, 13, 14, 15, 16, 17,\n",
       "       18, 19, 20])"
      ]
     },
     "execution_count": 169,
     "metadata": {},
     "output_type": "execute_result"
    }
   ],
   "source": [
    "# replace elements in an array \n",
    "ar= np.arange(1,21)\n",
    "ar"
   ]
  },
  {
   "cell_type": "code",
   "execution_count": 170,
   "id": "d79839ee",
   "metadata": {},
   "outputs": [
    {
     "data": {
      "text/plain": [
       "array([ 1,  0,  3,  0,  5,  0,  7,  0,  9,  0, 11,  0, 13,  0, 15,  0, 17,\n",
       "        0, 19,  0])"
      ]
     },
     "execution_count": 170,
     "metadata": {},
     "output_type": "execute_result"
    }
   ],
   "source": [
    "rep=np.where(ar%2==0,0,ar) # replaces all even numbers by 0\n",
    "rep"
   ]
  },
  {
   "cell_type": "code",
   "execution_count": 171,
   "id": "55cbaed4",
   "metadata": {},
   "outputs": [
    {
     "data": {
      "text/plain": [
       "array([ 1., nan, 34., nan, 67.,  5.])"
      ]
     },
     "execution_count": 171,
     "metadata": {},
     "output_type": "execute_result"
    }
   ],
   "source": [
    "# missing value in an array\n",
    "a=np.array([1,np.nan,34,np.nan,67,5])\n",
    "a"
   ]
  },
  {
   "cell_type": "code",
   "execution_count": 172,
   "id": "fdcf2e36",
   "metadata": {},
   "outputs": [
    {
     "data": {
      "text/plain": [
       "array([False,  True, False,  True, False, False])"
      ]
     },
     "execution_count": 172,
     "metadata": {},
     "output_type": "execute_result"
    }
   ],
   "source": [
    "np.isnan(a)"
   ]
  },
  {
   "cell_type": "code",
   "execution_count": 173,
   "id": "5f29bbed",
   "metadata": {},
   "outputs": [
    {
     "data": {
      "text/plain": [
       "array([ 1., 65., 34., 65., 67.,  5.])"
      ]
     },
     "execution_count": 173,
     "metadata": {},
     "output_type": "execute_result"
    }
   ],
   "source": [
    "a[np.isnan(a)]=65\n",
    "a"
   ]
  },
  {
   "cell_type": "code",
   "execution_count": 174,
   "id": "232f6a10",
   "metadata": {},
   "outputs": [
    {
     "data": {
      "text/plain": [
       "False"
      ]
     },
     "execution_count": 174,
     "metadata": {},
     "output_type": "execute_result"
    }
   ],
   "source": [
    "np.isnan(a).any() # to check null value "
   ]
  },
  {
   "cell_type": "code",
   "execution_count": 176,
   "id": "6f3f3735",
   "metadata": {},
   "outputs": [
    {
     "data": {
      "text/plain": [
       "array([], dtype=int32)"
      ]
     },
     "execution_count": 176,
     "metadata": {},
     "output_type": "execute_result"
    }
   ],
   "source": [
    "np.intersect1d(m,n)# to find common elements "
   ]
  },
  {
   "cell_type": "code",
   "execution_count": 177,
   "id": "94af8111",
   "metadata": {},
   "outputs": [
    {
     "data": {
      "text/plain": [
       "array([2, 4, 6])"
      ]
     },
     "execution_count": 177,
     "metadata": {},
     "output_type": "execute_result"
    }
   ],
   "source": [
    "a=np.array([2,4,5,6,7,8,4])\n",
    "b=np.array([2,4,3,6,34,18,14])\n",
    "np.intersect1d(a,b)"
   ]
  },
  {
   "cell_type": "code",
   "execution_count": 178,
   "id": "70b43649",
   "metadata": {},
   "outputs": [
    {
     "data": {
      "text/plain": [
       "array([2, 4, 5, 6, 7, 8, 4])"
      ]
     },
     "execution_count": 178,
     "metadata": {},
     "output_type": "execute_result"
    }
   ],
   "source": [
    "a"
   ]
  },
  {
   "cell_type": "code",
   "execution_count": 179,
   "id": "03b21693",
   "metadata": {},
   "outputs": [
    {
     "data": {
      "text/plain": [
       "array([ 2,  4,  3,  6, 34, 18, 14])"
      ]
     },
     "execution_count": 179,
     "metadata": {},
     "output_type": "execute_result"
    }
   ],
   "source": [
    "b"
   ]
  },
  {
   "cell_type": "code",
   "execution_count": 180,
   "id": "65d42046",
   "metadata": {},
   "outputs": [
    {
     "data": {
      "text/plain": [
       "array([5, 7, 8])"
      ]
     },
     "execution_count": 180,
     "metadata": {},
     "output_type": "execute_result"
    }
   ],
   "source": [
    "np.setdiff1d(a,b) # elements in a but not in b (a-b)\n"
   ]
  },
  {
   "cell_type": "code",
   "execution_count": 181,
   "id": "e6ec010e",
   "metadata": {},
   "outputs": [
    {
     "data": {
      "text/plain": [
       "array([ 3, 14, 18, 34])"
      ]
     },
     "execution_count": 181,
     "metadata": {},
     "output_type": "execute_result"
    }
   ],
   "source": [
    "np.setdiff1d(b,a) # elements in b but not in a(b-a)"
   ]
  },
  {
   "cell_type": "markdown",
   "id": "9efd88dc",
   "metadata": {},
   "source": [
    "checking elements using isin()"
   ]
  },
  {
   "cell_type": "code",
   "execution_count": 183,
   "id": "ca7e356e",
   "metadata": {},
   "outputs": [
    {
     "data": {
      "text/plain": [
       "array([False,  True, False, False, False, False,  True])"
      ]
     },
     "execution_count": 183,
     "metadata": {},
     "output_type": "execute_result"
    }
   ],
   "source": [
    "np.isin(a,[4,34]) # to check 4 and 34 in a , will return true if exist"
   ]
  },
  {
   "cell_type": "code",
   "execution_count": 184,
   "id": "7c0dfce6",
   "metadata": {},
   "outputs": [
    {
     "data": {
      "text/plain": [
       "array([4, 8, 7, 6, 5, 4, 2])"
      ]
     },
     "execution_count": 184,
     "metadata": {},
     "output_type": "execute_result"
    }
   ],
   "source": [
    "np.flip(a) # to reverse an array "
   ]
  },
  {
   "cell_type": "code",
   "execution_count": 185,
   "id": "c7c2c826",
   "metadata": {},
   "outputs": [
    {
     "data": {
      "text/plain": [
       "array([2, 4, 4, 5, 6, 7, 8])"
      ]
     },
     "execution_count": 185,
     "metadata": {},
     "output_type": "execute_result"
    }
   ],
   "source": [
    "np.sort(a) # to sort an array "
   ]
  },
  {
   "cell_type": "markdown",
   "id": "caa3c240",
   "metadata": {},
   "source": [
    "# OPERATION ON 2D "
   ]
  },
  {
   "cell_type": "code",
   "execution_count": 189,
   "id": "af2255a1",
   "metadata": {},
   "outputs": [
    {
     "data": {
      "text/plain": [
       "array([[23, 34,  5],\n",
       "       [23,  3,  4],\n",
       "       [ 3,  4,  1]])"
      ]
     },
     "execution_count": 189,
     "metadata": {},
     "output_type": "execute_result"
    }
   ],
   "source": [
    "A=np.array([[23,34,5],[23,3,4],[3,4,1]])\n",
    "A"
   ]
  },
  {
   "cell_type": "code",
   "execution_count": 190,
   "id": "34026ac4",
   "metadata": {},
   "outputs": [
    {
     "data": {
      "text/plain": [
       "array([3, 3, 1])"
      ]
     },
     "execution_count": 190,
     "metadata": {},
     "output_type": "execute_result"
    }
   ],
   "source": [
    "np.amin(A,axis=0)"
   ]
  },
  {
   "cell_type": "code",
   "execution_count": 191,
   "id": "7a974a5d",
   "metadata": {},
   "outputs": [
    {
     "data": {
      "text/plain": [
       "array([5, 3, 1])"
      ]
     },
     "execution_count": 191,
     "metadata": {},
     "output_type": "execute_result"
    }
   ],
   "source": [
    "np.amin(A,axis=1)"
   ]
  },
  {
   "cell_type": "code",
   "execution_count": 195,
   "id": "55f27fea",
   "metadata": {},
   "outputs": [
    {
     "data": {
      "text/plain": [
       "array([23, 34,  5])"
      ]
     },
     "execution_count": 195,
     "metadata": {},
     "output_type": "execute_result"
    }
   ],
   "source": [
    "np.amax(A,axis=0)"
   ]
  },
  {
   "cell_type": "code",
   "execution_count": 196,
   "id": "29386065",
   "metadata": {},
   "outputs": [
    {
     "data": {
      "text/plain": [
       "array([34, 23,  4])"
      ]
     },
     "execution_count": 196,
     "metadata": {},
     "output_type": "execute_result"
    }
   ],
   "source": [
    "np.amax(A,axis=1)"
   ]
  },
  {
   "cell_type": "code",
   "execution_count": null,
   "id": "e84f48c7",
   "metadata": {},
   "outputs": [],
   "source": []
  }
 ],
 "metadata": {
  "kernelspec": {
   "display_name": "Python 3 (ipykernel)",
   "language": "python",
   "name": "python3"
  },
  "language_info": {
   "codemirror_mode": {
    "name": "ipython",
    "version": 3
   },
   "file_extension": ".py",
   "mimetype": "text/x-python",
   "name": "python",
   "nbconvert_exporter": "python",
   "pygments_lexer": "ipython3",
   "version": "3.9.7"
  }
 },
 "nbformat": 4,
 "nbformat_minor": 5
}
